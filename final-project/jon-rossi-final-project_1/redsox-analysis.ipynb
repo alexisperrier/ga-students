{
 "cells": [
  {
   "cell_type": "markdown",
   "metadata": {},
   "source": [
    "# Redsox Analysis #"
   ]
  },
  {
   "cell_type": "code",
   "execution_count": 261,
   "metadata": {
    "collapsed": true
   },
   "outputs": [],
   "source": [
    "import glob\n",
    "import pandas as pd\n",
    "import numpy as np\n",
    "\n",
    "# For working with JSON data.\n",
    "try:\n",
    "    import json\n",
    "except ImportError:\n",
    "    import simplejson as json\n",
    "    \n",
    "# For maps.\n",
    "from mpl_toolkits.basemap import Basemap\n",
    "import geocoder\n",
    "import matplotlib.pyplot as plt\n",
    "%matplotlib inline\n",
    "\n",
    "#import warnings\n",
    "#warnings.simplefilter(action = \"ignore\", category = FutureWarning)"
   ]
  },
  {
   "cell_type": "code",
   "execution_count": 262,
   "metadata": {
    "collapsed": true
   },
   "outputs": [],
   "source": [
    "df_redsox = pd.read_csv('df_redsox.csv')"
   ]
  },
  {
   "cell_type": "code",
   "execution_count": 263,
   "metadata": {
    "collapsed": false
   },
   "outputs": [
    {
     "data": {
      "text/html": [
       "<div>\n",
       "<table border=\"1\" class=\"dataframe\">\n",
       "  <thead>\n",
       "    <tr style=\"text-align: right;\">\n",
       "      <th></th>\n",
       "      <th>Unnamed: 0</th>\n",
       "      <th>text</th>\n",
       "      <th>created_at</th>\n",
       "      <th>location</th>\n",
       "      <th>retweet_count</th>\n",
       "      <th>favorite_count</th>\n",
       "      <th>latitude</th>\n",
       "      <th>longitude</th>\n",
       "      <th>dates</th>\n",
       "      <th>sentiment</th>\n",
       "      <th>hav_distance</th>\n",
       "      <th>outcome</th>\n",
       "    </tr>\n",
       "  </thead>\n",
       "  <tbody>\n",
       "    <tr>\n",
       "      <th>0</th>\n",
       "      <td>0</td>\n",
       "      <td>Boston #RedSox Ladies #Shirt. Gray, Red, and B...</td>\n",
       "      <td>Sat Aug 06 23:59:36 +0000 2016</td>\n",
       "      <td>NaN</td>\n",
       "      <td>0</td>\n",
       "      <td>0</td>\n",
       "      <td>NaN</td>\n",
       "      <td>NaN</td>\n",
       "      <td>2016-08-06</td>\n",
       "      <td>0.071429</td>\n",
       "      <td>NaN</td>\n",
       "      <td>Loss</td>\n",
       "    </tr>\n",
       "    <tr>\n",
       "      <th>1</th>\n",
       "      <td>1</td>\n",
       "      <td>#MLB #BaseBall: New and rare, Boston #RedSox T...</td>\n",
       "      <td>Sat Aug 06 23:59:34 +0000 2016</td>\n",
       "      <td>NaN</td>\n",
       "      <td>0</td>\n",
       "      <td>0</td>\n",
       "      <td>NaN</td>\n",
       "      <td>NaN</td>\n",
       "      <td>2016-08-06</td>\n",
       "      <td>0.218182</td>\n",
       "      <td>NaN</td>\n",
       "      <td>Loss</td>\n",
       "    </tr>\n",
       "    <tr>\n",
       "      <th>2</th>\n",
       "      <td>2</td>\n",
       "      <td>RT @_AlexanderJean_: Honored to sing The Natio...</td>\n",
       "      <td>Sat Aug 06 23:59:27 +0000 2016</td>\n",
       "      <td>7/21/15 | 3/8/16 | 7/7/16</td>\n",
       "      <td>41</td>\n",
       "      <td>0</td>\n",
       "      <td>NaN</td>\n",
       "      <td>NaN</td>\n",
       "      <td>2016-08-06</td>\n",
       "      <td>-0.400000</td>\n",
       "      <td>NaN</td>\n",
       "      <td>Loss</td>\n",
       "    </tr>\n",
       "    <tr>\n",
       "      <th>3</th>\n",
       "      <td>3</td>\n",
       "      <td>May not have got the W but I got to see @david...</td>\n",
       "      <td>Sat Aug 06 23:59:19 +0000 2016</td>\n",
       "      <td>Los Angeles, CA</td>\n",
       "      <td>0</td>\n",
       "      <td>2</td>\n",
       "      <td>34.052228</td>\n",
       "      <td>-118.243677</td>\n",
       "      <td>2016-08-06</td>\n",
       "      <td>-0.600000</td>\n",
       "      <td>4.169543e+06</td>\n",
       "      <td>Loss</td>\n",
       "    </tr>\n",
       "    <tr>\n",
       "      <th>4</th>\n",
       "      <td>4</td>\n",
       "      <td>@aidancab @RedSox foreal 😴</td>\n",
       "      <td>Sat Aug 06 23:59:19 +0000 2016</td>\n",
       "      <td>MA</td>\n",
       "      <td>0</td>\n",
       "      <td>1</td>\n",
       "      <td>42.365650</td>\n",
       "      <td>-71.108317</td>\n",
       "      <td>2016-08-06</td>\n",
       "      <td>0.000000</td>\n",
       "      <td>4.069056e+03</td>\n",
       "      <td>Loss</td>\n",
       "    </tr>\n",
       "  </tbody>\n",
       "</table>\n",
       "</div>"
      ],
      "text/plain": [
       "   Unnamed: 0                                               text  \\\n",
       "0           0  Boston #RedSox Ladies #Shirt. Gray, Red, and B...   \n",
       "1           1  #MLB #BaseBall: New and rare, Boston #RedSox T...   \n",
       "2           2  RT @_AlexanderJean_: Honored to sing The Natio...   \n",
       "3           3  May not have got the W but I got to see @david...   \n",
       "4           4                         @aidancab @RedSox foreal 😴   \n",
       "\n",
       "                       created_at                   location  retweet_count  \\\n",
       "0  Sat Aug 06 23:59:36 +0000 2016                        NaN              0   \n",
       "1  Sat Aug 06 23:59:34 +0000 2016                        NaN              0   \n",
       "2  Sat Aug 06 23:59:27 +0000 2016  7/21/15 | 3/8/16 | 7/7/16             41   \n",
       "3  Sat Aug 06 23:59:19 +0000 2016            Los Angeles, CA              0   \n",
       "4  Sat Aug 06 23:59:19 +0000 2016                         MA              0   \n",
       "\n",
       "   favorite_count   latitude   longitude       dates  sentiment  hav_distance  \\\n",
       "0               0        NaN         NaN  2016-08-06   0.071429           NaN   \n",
       "1               0        NaN         NaN  2016-08-06   0.218182           NaN   \n",
       "2               0        NaN         NaN  2016-08-06  -0.400000           NaN   \n",
       "3               2  34.052228 -118.243677  2016-08-06  -0.600000  4.169543e+06   \n",
       "4               1  42.365650  -71.108317  2016-08-06   0.000000  4.069056e+03   \n",
       "\n",
       "  outcome  \n",
       "0    Loss  \n",
       "1    Loss  \n",
       "2    Loss  \n",
       "3    Loss  \n",
       "4    Loss  "
      ]
     },
     "execution_count": 263,
     "metadata": {},
     "output_type": "execute_result"
    }
   ],
   "source": [
    "df_redsox.head()"
   ]
  },
  {
   "cell_type": "code",
   "execution_count": 264,
   "metadata": {
    "collapsed": false
   },
   "outputs": [],
   "source": [
    "df_redsox = df_redsox.drop('Unnamed: 0', axis=1)"
   ]
  },
  {
   "cell_type": "code",
   "execution_count": 265,
   "metadata": {
    "collapsed": false
   },
   "outputs": [
    {
     "data": {
      "text/html": [
       "<div>\n",
       "<table border=\"1\" class=\"dataframe\">\n",
       "  <thead>\n",
       "    <tr style=\"text-align: right;\">\n",
       "      <th></th>\n",
       "      <th>text</th>\n",
       "      <th>created_at</th>\n",
       "      <th>location</th>\n",
       "      <th>retweet_count</th>\n",
       "      <th>favorite_count</th>\n",
       "      <th>latitude</th>\n",
       "      <th>longitude</th>\n",
       "      <th>dates</th>\n",
       "      <th>sentiment</th>\n",
       "      <th>hav_distance</th>\n",
       "      <th>outcome</th>\n",
       "    </tr>\n",
       "  </thead>\n",
       "  <tbody>\n",
       "    <tr>\n",
       "      <th>0</th>\n",
       "      <td>Boston #RedSox Ladies #Shirt. Gray, Red, and B...</td>\n",
       "      <td>Sat Aug 06 23:59:36 +0000 2016</td>\n",
       "      <td>NaN</td>\n",
       "      <td>0</td>\n",
       "      <td>0</td>\n",
       "      <td>NaN</td>\n",
       "      <td>NaN</td>\n",
       "      <td>2016-08-06</td>\n",
       "      <td>0.071429</td>\n",
       "      <td>NaN</td>\n",
       "      <td>Loss</td>\n",
       "    </tr>\n",
       "    <tr>\n",
       "      <th>1</th>\n",
       "      <td>#MLB #BaseBall: New and rare, Boston #RedSox T...</td>\n",
       "      <td>Sat Aug 06 23:59:34 +0000 2016</td>\n",
       "      <td>NaN</td>\n",
       "      <td>0</td>\n",
       "      <td>0</td>\n",
       "      <td>NaN</td>\n",
       "      <td>NaN</td>\n",
       "      <td>2016-08-06</td>\n",
       "      <td>0.218182</td>\n",
       "      <td>NaN</td>\n",
       "      <td>Loss</td>\n",
       "    </tr>\n",
       "    <tr>\n",
       "      <th>2</th>\n",
       "      <td>RT @_AlexanderJean_: Honored to sing The Natio...</td>\n",
       "      <td>Sat Aug 06 23:59:27 +0000 2016</td>\n",
       "      <td>7/21/15 | 3/8/16 | 7/7/16</td>\n",
       "      <td>41</td>\n",
       "      <td>0</td>\n",
       "      <td>NaN</td>\n",
       "      <td>NaN</td>\n",
       "      <td>2016-08-06</td>\n",
       "      <td>-0.400000</td>\n",
       "      <td>NaN</td>\n",
       "      <td>Loss</td>\n",
       "    </tr>\n",
       "    <tr>\n",
       "      <th>3</th>\n",
       "      <td>May not have got the W but I got to see @david...</td>\n",
       "      <td>Sat Aug 06 23:59:19 +0000 2016</td>\n",
       "      <td>Los Angeles, CA</td>\n",
       "      <td>0</td>\n",
       "      <td>2</td>\n",
       "      <td>34.052228</td>\n",
       "      <td>-118.243677</td>\n",
       "      <td>2016-08-06</td>\n",
       "      <td>-0.600000</td>\n",
       "      <td>4.169543e+06</td>\n",
       "      <td>Loss</td>\n",
       "    </tr>\n",
       "    <tr>\n",
       "      <th>4</th>\n",
       "      <td>@aidancab @RedSox foreal 😴</td>\n",
       "      <td>Sat Aug 06 23:59:19 +0000 2016</td>\n",
       "      <td>MA</td>\n",
       "      <td>0</td>\n",
       "      <td>1</td>\n",
       "      <td>42.365650</td>\n",
       "      <td>-71.108317</td>\n",
       "      <td>2016-08-06</td>\n",
       "      <td>0.000000</td>\n",
       "      <td>4.069056e+03</td>\n",
       "      <td>Loss</td>\n",
       "    </tr>\n",
       "  </tbody>\n",
       "</table>\n",
       "</div>"
      ],
      "text/plain": [
       "                                                text  \\\n",
       "0  Boston #RedSox Ladies #Shirt. Gray, Red, and B...   \n",
       "1  #MLB #BaseBall: New and rare, Boston #RedSox T...   \n",
       "2  RT @_AlexanderJean_: Honored to sing The Natio...   \n",
       "3  May not have got the W but I got to see @david...   \n",
       "4                         @aidancab @RedSox foreal 😴   \n",
       "\n",
       "                       created_at                   location  retweet_count  \\\n",
       "0  Sat Aug 06 23:59:36 +0000 2016                        NaN              0   \n",
       "1  Sat Aug 06 23:59:34 +0000 2016                        NaN              0   \n",
       "2  Sat Aug 06 23:59:27 +0000 2016  7/21/15 | 3/8/16 | 7/7/16             41   \n",
       "3  Sat Aug 06 23:59:19 +0000 2016            Los Angeles, CA              0   \n",
       "4  Sat Aug 06 23:59:19 +0000 2016                         MA              0   \n",
       "\n",
       "   favorite_count   latitude   longitude       dates  sentiment  hav_distance  \\\n",
       "0               0        NaN         NaN  2016-08-06   0.071429           NaN   \n",
       "1               0        NaN         NaN  2016-08-06   0.218182           NaN   \n",
       "2               0        NaN         NaN  2016-08-06  -0.400000           NaN   \n",
       "3               2  34.052228 -118.243677  2016-08-06  -0.600000  4.169543e+06   \n",
       "4               1  42.365650  -71.108317  2016-08-06   0.000000  4.069056e+03   \n",
       "\n",
       "  outcome  \n",
       "0    Loss  \n",
       "1    Loss  \n",
       "2    Loss  \n",
       "3    Loss  \n",
       "4    Loss  "
      ]
     },
     "execution_count": 265,
     "metadata": {},
     "output_type": "execute_result"
    }
   ],
   "source": [
    "df_redsox.head()"
   ]
  },
  {
   "cell_type": "code",
   "execution_count": 266,
   "metadata": {
    "collapsed": false
   },
   "outputs": [],
   "source": [
    "df_redsox['dates'] = pd.to_datetime(df_redsox['dates'], format='%Y-%m-%d')"
   ]
  },
  {
   "cell_type": "code",
   "execution_count": 267,
   "metadata": {
    "collapsed": false
   },
   "outputs": [
    {
     "data": {
      "text/plain": [
       "dtype('<M8[ns]')"
      ]
     },
     "execution_count": 267,
     "metadata": {},
     "output_type": "execute_result"
    }
   ],
   "source": [
    "df_redsox['dates'].dtypes"
   ]
  },
  {
   "cell_type": "code",
   "execution_count": 268,
   "metadata": {
    "collapsed": false
   },
   "outputs": [],
   "source": [
    "outcome_by_date = {\n",
    "    '2016-08-06 00:00:00': 'Loss',\n",
    "    '2016-08-07 00:00:00': 'Loss',\n",
    "    '2016-08-08 00:00:00': 'No Game',\n",
    "    '2016-08-09 00:00:00': 'Win',\n",
    "    '2016-08-10 00:00:00': 'Loss',\n",
    "    '2016-08-11 00:00:00': 'Loss',\n",
    "    '2016-08-12 00:00:00': 'Win',\n",
    "    '2016-08-13 00:00:00': 'Win',\n",
    "    '2016-08-14 00:00:00': 'Win',\n",
    "    '2016-08-15 00:00:00': 'Win',\n",
    "    '2016-08-16 00:00:00': 'Win'\n",
    "}"
   ]
  },
  {
   "cell_type": "code",
   "execution_count": 269,
   "metadata": {
    "collapsed": false
   },
   "outputs": [
    {
     "data": {
      "text/html": [
       "<div>\n",
       "<table border=\"1\" class=\"dataframe\">\n",
       "  <thead>\n",
       "    <tr style=\"text-align: right;\">\n",
       "      <th></th>\n",
       "      <th>text</th>\n",
       "      <th>created_at</th>\n",
       "      <th>location</th>\n",
       "      <th>retweet_count</th>\n",
       "      <th>favorite_count</th>\n",
       "      <th>latitude</th>\n",
       "      <th>longitude</th>\n",
       "      <th>dates</th>\n",
       "      <th>sentiment</th>\n",
       "      <th>hav_distance</th>\n",
       "      <th>outcome</th>\n",
       "    </tr>\n",
       "  </thead>\n",
       "  <tbody>\n",
       "    <tr>\n",
       "      <th>0</th>\n",
       "      <td>Boston #RedSox Ladies #Shirt. Gray, Red, and B...</td>\n",
       "      <td>Sat Aug 06 23:59:36 +0000 2016</td>\n",
       "      <td>NaN</td>\n",
       "      <td>0</td>\n",
       "      <td>0</td>\n",
       "      <td>NaN</td>\n",
       "      <td>NaN</td>\n",
       "      <td>2016-08-06</td>\n",
       "      <td>0.071429</td>\n",
       "      <td>NaN</td>\n",
       "      <td>Loss</td>\n",
       "    </tr>\n",
       "    <tr>\n",
       "      <th>1</th>\n",
       "      <td>#MLB #BaseBall: New and rare, Boston #RedSox T...</td>\n",
       "      <td>Sat Aug 06 23:59:34 +0000 2016</td>\n",
       "      <td>NaN</td>\n",
       "      <td>0</td>\n",
       "      <td>0</td>\n",
       "      <td>NaN</td>\n",
       "      <td>NaN</td>\n",
       "      <td>2016-08-06</td>\n",
       "      <td>0.218182</td>\n",
       "      <td>NaN</td>\n",
       "      <td>Loss</td>\n",
       "    </tr>\n",
       "    <tr>\n",
       "      <th>2</th>\n",
       "      <td>RT @_AlexanderJean_: Honored to sing The Natio...</td>\n",
       "      <td>Sat Aug 06 23:59:27 +0000 2016</td>\n",
       "      <td>7/21/15 | 3/8/16 | 7/7/16</td>\n",
       "      <td>41</td>\n",
       "      <td>0</td>\n",
       "      <td>NaN</td>\n",
       "      <td>NaN</td>\n",
       "      <td>2016-08-06</td>\n",
       "      <td>-0.400000</td>\n",
       "      <td>NaN</td>\n",
       "      <td>Loss</td>\n",
       "    </tr>\n",
       "    <tr>\n",
       "      <th>3</th>\n",
       "      <td>May not have got the W but I got to see @david...</td>\n",
       "      <td>Sat Aug 06 23:59:19 +0000 2016</td>\n",
       "      <td>Los Angeles, CA</td>\n",
       "      <td>0</td>\n",
       "      <td>2</td>\n",
       "      <td>34.052228</td>\n",
       "      <td>-118.243677</td>\n",
       "      <td>2016-08-06</td>\n",
       "      <td>-0.600000</td>\n",
       "      <td>4.169543e+06</td>\n",
       "      <td>Loss</td>\n",
       "    </tr>\n",
       "    <tr>\n",
       "      <th>4</th>\n",
       "      <td>@aidancab @RedSox foreal 😴</td>\n",
       "      <td>Sat Aug 06 23:59:19 +0000 2016</td>\n",
       "      <td>MA</td>\n",
       "      <td>0</td>\n",
       "      <td>1</td>\n",
       "      <td>42.365650</td>\n",
       "      <td>-71.108317</td>\n",
       "      <td>2016-08-06</td>\n",
       "      <td>0.000000</td>\n",
       "      <td>4.069056e+03</td>\n",
       "      <td>Loss</td>\n",
       "    </tr>\n",
       "  </tbody>\n",
       "</table>\n",
       "</div>"
      ],
      "text/plain": [
       "                                                text  \\\n",
       "0  Boston #RedSox Ladies #Shirt. Gray, Red, and B...   \n",
       "1  #MLB #BaseBall: New and rare, Boston #RedSox T...   \n",
       "2  RT @_AlexanderJean_: Honored to sing The Natio...   \n",
       "3  May not have got the W but I got to see @david...   \n",
       "4                         @aidancab @RedSox foreal 😴   \n",
       "\n",
       "                       created_at                   location  retweet_count  \\\n",
       "0  Sat Aug 06 23:59:36 +0000 2016                        NaN              0   \n",
       "1  Sat Aug 06 23:59:34 +0000 2016                        NaN              0   \n",
       "2  Sat Aug 06 23:59:27 +0000 2016  7/21/15 | 3/8/16 | 7/7/16             41   \n",
       "3  Sat Aug 06 23:59:19 +0000 2016            Los Angeles, CA              0   \n",
       "4  Sat Aug 06 23:59:19 +0000 2016                         MA              0   \n",
       "\n",
       "   favorite_count   latitude   longitude      dates  sentiment  hav_distance  \\\n",
       "0               0        NaN         NaN 2016-08-06   0.071429           NaN   \n",
       "1               0        NaN         NaN 2016-08-06   0.218182           NaN   \n",
       "2               0        NaN         NaN 2016-08-06  -0.400000           NaN   \n",
       "3               2  34.052228 -118.243677 2016-08-06  -0.600000  4.169543e+06   \n",
       "4               1  42.365650  -71.108317 2016-08-06   0.000000  4.069056e+03   \n",
       "\n",
       "  outcome  \n",
       "0    Loss  \n",
       "1    Loss  \n",
       "2    Loss  \n",
       "3    Loss  \n",
       "4    Loss  "
      ]
     },
     "execution_count": 269,
     "metadata": {},
     "output_type": "execute_result"
    }
   ],
   "source": [
    "df_redsox.head()"
   ]
  },
  {
   "cell_type": "code",
   "execution_count": 270,
   "metadata": {
    "collapsed": true
   },
   "outputs": [],
   "source": [
    "# Apply outcome values to new column.\n",
    "df_redsox['outcome'] = df_redsox['dates'].apply(lambda x: outcome_by_date[str(x)])"
   ]
  },
  {
   "cell_type": "code",
   "execution_count": 271,
   "metadata": {
    "collapsed": false
   },
   "outputs": [
    {
     "data": {
      "text/html": [
       "<div>\n",
       "<table border=\"1\" class=\"dataframe\">\n",
       "  <thead>\n",
       "    <tr style=\"text-align: right;\">\n",
       "      <th></th>\n",
       "      <th>text</th>\n",
       "      <th>created_at</th>\n",
       "      <th>location</th>\n",
       "      <th>retweet_count</th>\n",
       "      <th>favorite_count</th>\n",
       "      <th>latitude</th>\n",
       "      <th>longitude</th>\n",
       "      <th>dates</th>\n",
       "      <th>sentiment</th>\n",
       "      <th>hav_distance</th>\n",
       "      <th>outcome</th>\n",
       "    </tr>\n",
       "  </thead>\n",
       "  <tbody>\n",
       "    <tr>\n",
       "      <th>0</th>\n",
       "      <td>Boston #RedSox Ladies #Shirt. Gray, Red, and B...</td>\n",
       "      <td>Sat Aug 06 23:59:36 +0000 2016</td>\n",
       "      <td>NaN</td>\n",
       "      <td>0</td>\n",
       "      <td>0</td>\n",
       "      <td>NaN</td>\n",
       "      <td>NaN</td>\n",
       "      <td>2016-08-06</td>\n",
       "      <td>0.071429</td>\n",
       "      <td>NaN</td>\n",
       "      <td>Loss</td>\n",
       "    </tr>\n",
       "    <tr>\n",
       "      <th>1</th>\n",
       "      <td>#MLB #BaseBall: New and rare, Boston #RedSox T...</td>\n",
       "      <td>Sat Aug 06 23:59:34 +0000 2016</td>\n",
       "      <td>NaN</td>\n",
       "      <td>0</td>\n",
       "      <td>0</td>\n",
       "      <td>NaN</td>\n",
       "      <td>NaN</td>\n",
       "      <td>2016-08-06</td>\n",
       "      <td>0.218182</td>\n",
       "      <td>NaN</td>\n",
       "      <td>Loss</td>\n",
       "    </tr>\n",
       "    <tr>\n",
       "      <th>2</th>\n",
       "      <td>RT @_AlexanderJean_: Honored to sing The Natio...</td>\n",
       "      <td>Sat Aug 06 23:59:27 +0000 2016</td>\n",
       "      <td>7/21/15 | 3/8/16 | 7/7/16</td>\n",
       "      <td>41</td>\n",
       "      <td>0</td>\n",
       "      <td>NaN</td>\n",
       "      <td>NaN</td>\n",
       "      <td>2016-08-06</td>\n",
       "      <td>-0.400000</td>\n",
       "      <td>NaN</td>\n",
       "      <td>Loss</td>\n",
       "    </tr>\n",
       "    <tr>\n",
       "      <th>3</th>\n",
       "      <td>May not have got the W but I got to see @david...</td>\n",
       "      <td>Sat Aug 06 23:59:19 +0000 2016</td>\n",
       "      <td>Los Angeles, CA</td>\n",
       "      <td>0</td>\n",
       "      <td>2</td>\n",
       "      <td>34.052228</td>\n",
       "      <td>-118.243677</td>\n",
       "      <td>2016-08-06</td>\n",
       "      <td>-0.600000</td>\n",
       "      <td>4.169543e+06</td>\n",
       "      <td>Loss</td>\n",
       "    </tr>\n",
       "    <tr>\n",
       "      <th>4</th>\n",
       "      <td>@aidancab @RedSox foreal 😴</td>\n",
       "      <td>Sat Aug 06 23:59:19 +0000 2016</td>\n",
       "      <td>MA</td>\n",
       "      <td>0</td>\n",
       "      <td>1</td>\n",
       "      <td>42.365650</td>\n",
       "      <td>-71.108317</td>\n",
       "      <td>2016-08-06</td>\n",
       "      <td>0.000000</td>\n",
       "      <td>4.069056e+03</td>\n",
       "      <td>Loss</td>\n",
       "    </tr>\n",
       "  </tbody>\n",
       "</table>\n",
       "</div>"
      ],
      "text/plain": [
       "                                                text  \\\n",
       "0  Boston #RedSox Ladies #Shirt. Gray, Red, and B...   \n",
       "1  #MLB #BaseBall: New and rare, Boston #RedSox T...   \n",
       "2  RT @_AlexanderJean_: Honored to sing The Natio...   \n",
       "3  May not have got the W but I got to see @david...   \n",
       "4                         @aidancab @RedSox foreal 😴   \n",
       "\n",
       "                       created_at                   location  retweet_count  \\\n",
       "0  Sat Aug 06 23:59:36 +0000 2016                        NaN              0   \n",
       "1  Sat Aug 06 23:59:34 +0000 2016                        NaN              0   \n",
       "2  Sat Aug 06 23:59:27 +0000 2016  7/21/15 | 3/8/16 | 7/7/16             41   \n",
       "3  Sat Aug 06 23:59:19 +0000 2016            Los Angeles, CA              0   \n",
       "4  Sat Aug 06 23:59:19 +0000 2016                         MA              0   \n",
       "\n",
       "   favorite_count   latitude   longitude      dates  sentiment  hav_distance  \\\n",
       "0               0        NaN         NaN 2016-08-06   0.071429           NaN   \n",
       "1               0        NaN         NaN 2016-08-06   0.218182           NaN   \n",
       "2               0        NaN         NaN 2016-08-06  -0.400000           NaN   \n",
       "3               2  34.052228 -118.243677 2016-08-06  -0.600000  4.169543e+06   \n",
       "4               1  42.365650  -71.108317 2016-08-06   0.000000  4.069056e+03   \n",
       "\n",
       "  outcome  \n",
       "0    Loss  \n",
       "1    Loss  \n",
       "2    Loss  \n",
       "3    Loss  \n",
       "4    Loss  "
      ]
     },
     "execution_count": 271,
     "metadata": {},
     "output_type": "execute_result"
    }
   ],
   "source": [
    "df_redsox.head()"
   ]
  },
  {
   "cell_type": "code",
   "execution_count": 272,
   "metadata": {
    "collapsed": true
   },
   "outputs": [],
   "source": [
    "df_redsox.to_csv('df_redsox.csv')"
   ]
  },
  {
   "cell_type": "code",
   "execution_count": 273,
   "metadata": {
    "collapsed": false
   },
   "outputs": [],
   "source": [
    "df_redsox.rename(columns={'hav_distance': 'hav_distance_boston'}, inplace=True)"
   ]
  },
  {
   "cell_type": "code",
   "execution_count": 274,
   "metadata": {
    "collapsed": false
   },
   "outputs": [
    {
     "name": "stdout",
     "output_type": "stream",
     "text": [
      "40.71426940400045 -74.00596992899966\n"
     ]
    }
   ],
   "source": [
    "# Calculate distance from rival team.\n",
    "g = geocoder.arcgis('New York, NY')\n",
    "ny_lat = g.latlng[0]\n",
    "ny_long = g.latlng[1]\n",
    "print(ny_lat, ny_long)"
   ]
  },
  {
   "cell_type": "code",
   "execution_count": 275,
   "metadata": {
    "collapsed": true
   },
   "outputs": [],
   "source": [
    "import gpxpy.geo\n",
    "import math\n",
    "haversine_distances = []\n",
    "for i in range(df_redsox.shape[0]):\n",
    "#dist = gpxpy.geo.haversine_distance(52.2296756, 21.0122287, 52.406374, 16.9251681)\n",
    "#print(dist)\n",
    "    if math.isnan(df_redsox.iloc[i]['latitude']):\n",
    "        haversine_distances.append(np.nan)\n",
    "    else:\n",
    "        distance = gpxpy.geo.haversine_distance(ny_lat, ny_long, df_redsox.iloc[i]['latitude'], df_redsox.iloc[i]['longitude'])\n",
    "        haversine_distances.append(distance)"
   ]
  },
  {
   "cell_type": "code",
   "execution_count": 276,
   "metadata": {
    "collapsed": false
   },
   "outputs": [
    {
     "data": {
      "text/plain": [
       "0.0"
      ]
     },
     "execution_count": 276,
     "metadata": {},
     "output_type": "execute_result"
    }
   ],
   "source": [
    "# Make sure these variables are for New York.\n",
    "gpxpy.geo.haversine_distance(ny_lat, ny_long, 40.71426940400045, -74.00596992899966)"
   ]
  },
  {
   "cell_type": "code",
   "execution_count": 277,
   "metadata": {
    "collapsed": false
   },
   "outputs": [
    {
     "data": {
      "text/plain": [
       "11000"
      ]
     },
     "execution_count": 277,
     "metadata": {},
     "output_type": "execute_result"
    }
   ],
   "source": [
    "len(haversine_distances)"
   ]
  },
  {
   "cell_type": "code",
   "execution_count": 278,
   "metadata": {
    "collapsed": true
   },
   "outputs": [],
   "source": [
    "df_redsox['hav_distance_ny'] = pd.Series(haversine_distances)"
   ]
  },
  {
   "cell_type": "code",
   "execution_count": 279,
   "metadata": {
    "collapsed": false
   },
   "outputs": [
    {
     "data": {
      "text/html": [
       "<div>\n",
       "<table border=\"1\" class=\"dataframe\">\n",
       "  <thead>\n",
       "    <tr style=\"text-align: right;\">\n",
       "      <th></th>\n",
       "      <th>text</th>\n",
       "      <th>created_at</th>\n",
       "      <th>location</th>\n",
       "      <th>retweet_count</th>\n",
       "      <th>favorite_count</th>\n",
       "      <th>latitude</th>\n",
       "      <th>longitude</th>\n",
       "      <th>dates</th>\n",
       "      <th>sentiment</th>\n",
       "      <th>hav_distance_boston</th>\n",
       "      <th>outcome</th>\n",
       "      <th>hav_distance_ny</th>\n",
       "    </tr>\n",
       "  </thead>\n",
       "  <tbody>\n",
       "    <tr>\n",
       "      <th>0</th>\n",
       "      <td>Boston #RedSox Ladies #Shirt. Gray, Red, and B...</td>\n",
       "      <td>Sat Aug 06 23:59:36 +0000 2016</td>\n",
       "      <td>NaN</td>\n",
       "      <td>0</td>\n",
       "      <td>0</td>\n",
       "      <td>NaN</td>\n",
       "      <td>NaN</td>\n",
       "      <td>2016-08-06</td>\n",
       "      <td>0.071429</td>\n",
       "      <td>NaN</td>\n",
       "      <td>Loss</td>\n",
       "      <td>NaN</td>\n",
       "    </tr>\n",
       "    <tr>\n",
       "      <th>1</th>\n",
       "      <td>#MLB #BaseBall: New and rare, Boston #RedSox T...</td>\n",
       "      <td>Sat Aug 06 23:59:34 +0000 2016</td>\n",
       "      <td>NaN</td>\n",
       "      <td>0</td>\n",
       "      <td>0</td>\n",
       "      <td>NaN</td>\n",
       "      <td>NaN</td>\n",
       "      <td>2016-08-06</td>\n",
       "      <td>0.218182</td>\n",
       "      <td>NaN</td>\n",
       "      <td>Loss</td>\n",
       "      <td>NaN</td>\n",
       "    </tr>\n",
       "    <tr>\n",
       "      <th>2</th>\n",
       "      <td>RT @_AlexanderJean_: Honored to sing The Natio...</td>\n",
       "      <td>Sat Aug 06 23:59:27 +0000 2016</td>\n",
       "      <td>7/21/15 | 3/8/16 | 7/7/16</td>\n",
       "      <td>41</td>\n",
       "      <td>0</td>\n",
       "      <td>NaN</td>\n",
       "      <td>NaN</td>\n",
       "      <td>2016-08-06</td>\n",
       "      <td>-0.400000</td>\n",
       "      <td>NaN</td>\n",
       "      <td>Loss</td>\n",
       "      <td>NaN</td>\n",
       "    </tr>\n",
       "    <tr>\n",
       "      <th>3</th>\n",
       "      <td>May not have got the W but I got to see @david...</td>\n",
       "      <td>Sat Aug 06 23:59:19 +0000 2016</td>\n",
       "      <td>Los Angeles, CA</td>\n",
       "      <td>0</td>\n",
       "      <td>2</td>\n",
       "      <td>34.052228</td>\n",
       "      <td>-118.243677</td>\n",
       "      <td>2016-08-06</td>\n",
       "      <td>-0.600000</td>\n",
       "      <td>4.169543e+06</td>\n",
       "      <td>Loss</td>\n",
       "      <td>3.935735e+06</td>\n",
       "    </tr>\n",
       "    <tr>\n",
       "      <th>4</th>\n",
       "      <td>@aidancab @RedSox foreal 😴</td>\n",
       "      <td>Sat Aug 06 23:59:19 +0000 2016</td>\n",
       "      <td>MA</td>\n",
       "      <td>0</td>\n",
       "      <td>1</td>\n",
       "      <td>42.365650</td>\n",
       "      <td>-71.108317</td>\n",
       "      <td>2016-08-06</td>\n",
       "      <td>0.000000</td>\n",
       "      <td>4.069056e+03</td>\n",
       "      <td>Loss</td>\n",
       "      <td>3.030860e+05</td>\n",
       "    </tr>\n",
       "  </tbody>\n",
       "</table>\n",
       "</div>"
      ],
      "text/plain": [
       "                                                text  \\\n",
       "0  Boston #RedSox Ladies #Shirt. Gray, Red, and B...   \n",
       "1  #MLB #BaseBall: New and rare, Boston #RedSox T...   \n",
       "2  RT @_AlexanderJean_: Honored to sing The Natio...   \n",
       "3  May not have got the W but I got to see @david...   \n",
       "4                         @aidancab @RedSox foreal 😴   \n",
       "\n",
       "                       created_at                   location  retweet_count  \\\n",
       "0  Sat Aug 06 23:59:36 +0000 2016                        NaN              0   \n",
       "1  Sat Aug 06 23:59:34 +0000 2016                        NaN              0   \n",
       "2  Sat Aug 06 23:59:27 +0000 2016  7/21/15 | 3/8/16 | 7/7/16             41   \n",
       "3  Sat Aug 06 23:59:19 +0000 2016            Los Angeles, CA              0   \n",
       "4  Sat Aug 06 23:59:19 +0000 2016                         MA              0   \n",
       "\n",
       "   favorite_count   latitude   longitude      dates  sentiment  \\\n",
       "0               0        NaN         NaN 2016-08-06   0.071429   \n",
       "1               0        NaN         NaN 2016-08-06   0.218182   \n",
       "2               0        NaN         NaN 2016-08-06  -0.400000   \n",
       "3               2  34.052228 -118.243677 2016-08-06  -0.600000   \n",
       "4               1  42.365650  -71.108317 2016-08-06   0.000000   \n",
       "\n",
       "   hav_distance_boston outcome  hav_distance_ny  \n",
       "0                  NaN    Loss              NaN  \n",
       "1                  NaN    Loss              NaN  \n",
       "2                  NaN    Loss              NaN  \n",
       "3         4.169543e+06    Loss     3.935735e+06  \n",
       "4         4.069056e+03    Loss     3.030860e+05  "
      ]
     },
     "execution_count": 279,
     "metadata": {},
     "output_type": "execute_result"
    }
   ],
   "source": [
    "df_redsox.head()"
   ]
  },
  {
   "cell_type": "code",
   "execution_count": 280,
   "metadata": {
    "collapsed": true
   },
   "outputs": [],
   "source": [
    "df_redsox_wins = df_redsox[df_redsox['outcome'] == 'Win']\n",
    "df_redsox_losses = df_redsox[df_redsox['outcome'] == 'Loss']\n",
    "df_redsox_no_games = df_redsox[df_redsox['outcome'] == 'No Game']\n",
    "df_redsox_wins.to_csv('df_redsox_wins.csv')\n",
    "df_redsox_losses.to_csv('df_redsox_losses.csv')\n",
    "df_redsox_no_games.to_csv('df_redsox_no_games.csv')"
   ]
  },
  {
   "cell_type": "code",
   "execution_count": 281,
   "metadata": {
    "collapsed": false
   },
   "outputs": [
    {
     "name": "stdout",
     "output_type": "stream",
     "text": [
      "(6000, 12)\n",
      "(4000, 12)\n",
      "(1000, 12)\n"
     ]
    }
   ],
   "source": [
    "print(df_redsox_wins.shape)\n",
    "print(df_redsox_losses.shape)\n",
    "print(df_redsox_no_games.shape)"
   ]
  },
  {
   "cell_type": "code",
   "execution_count": 282,
   "metadata": {
    "collapsed": false
   },
   "outputs": [
    {
     "data": {
      "image/png": "[encoded data removed]",
      "text/plain": [
       "<matplotlib.figure.Figure at 0x119a3f4e0>"
      ]
     },
     "metadata": {},
     "output_type": "display_data"
    }
   ],
   "source": [
    "import seaborn as sns;\n",
    "sns.set(color_codes=True)\n",
    "ax = sns.regplot(x=\"hav_distance_boston\", y=\"sentiment\", data=df_redsox_wins)"
   ]
  },
  {
   "cell_type": "code",
   "execution_count": 283,
   "metadata": {
    "collapsed": false
   },
   "outputs": [
    {
     "data": {
      "image/png": "[encoded data removed]",
      "text/plain": [
       "<matplotlib.figure.Figure at 0x119ad6f28>"
      ]
     },
     "metadata": {},
     "output_type": "display_data"
    }
   ],
   "source": [
    "import seaborn as sns;\n",
    "sns.set(color_codes=True)\n",
    "ax = sns.regplot(x=\"hav_distance_boston\", y=\"sentiment\", data=df_redsox_losses)"
   ]
  },
  {
   "cell_type": "code",
   "execution_count": 284,
   "metadata": {
    "collapsed": false
   },
   "outputs": [
    {
     "name": "stdout",
     "output_type": "stream",
     "text": [
      "40.562326887000495 -74.13985554899966\n"
     ]
    }
   ],
   "source": [
    "g = geocoder.arcgis('Staten Island, NY')\n",
    "st_lat = g.latlng[0]\n",
    "st_long = g.latlng[1]\n",
    "print(st_lat, st_long)"
   ]
  },
  {
   "cell_type": "code",
   "execution_count": 285,
   "metadata": {
    "collapsed": false
   },
   "outputs": [
    {
     "name": "stdout",
     "output_type": "stream",
     "text": [
      "40.91148690300048 -73.78234877299963\n"
     ]
    }
   ],
   "source": [
    "g = geocoder.arcgis('New Rochelle, NY')\n",
    "nr_lat = g.latlng[0]\n",
    "nr_long = g.latlng[1]\n",
    "print(nr_lat, nr_long)"
   ]
  },
  {
   "cell_type": "code",
   "execution_count": 286,
   "metadata": {
    "collapsed": false
   },
   "outputs": [
    {
     "data": {
      "text/plain": [
       "49139.11989752445"
      ]
     },
     "execution_count": 286,
     "metadata": {},
     "output_type": "execute_result"
    }
   ],
   "source": [
    "# Define radius for New York. (Roughly 35-40 miles). Call it 50000.\n",
    "gpxpy.geo.haversine_distance(st_lat, st_long, nr_lat, nr_long)"
   ]
  },
  {
   "cell_type": "code",
   "execution_count": 287,
   "metadata": {
    "collapsed": false
   },
   "outputs": [
    {
     "data": {
      "text/plain": [
       "(1681, 12)"
      ]
     },
     "execution_count": 287,
     "metadata": {},
     "output_type": "execute_result"
    }
   ],
   "source": [
    "near_boston_sox = df_redsox[df_redsox['hav_distance_boston'] <= 50000]\n",
    "near_boston_sox.shape"
   ]
  },
  {
   "cell_type": "code",
   "execution_count": 288,
   "metadata": {
    "collapsed": false
   },
   "outputs": [
    {
     "data": {
      "text/plain": [
       "(194, 12)"
      ]
     },
     "execution_count": 288,
     "metadata": {},
     "output_type": "execute_result"
    }
   ],
   "source": [
    "near_ny_sox = df_redsox[df_redsox['hav_distance_ny'] <= 50000]\n",
    "near_ny_sox.shape"
   ]
  },
  {
   "cell_type": "code",
   "execution_count": 289,
   "metadata": {
    "collapsed": false
   },
   "outputs": [],
   "source": [
    "sentiment_by_date = df_redsox.groupby('dates').mean()\n",
    "sentiment_by_date_near_boston = near_boston_sox.groupby('dates').mean()\n",
    "sentiment_by_date_near_ny = near_ny_sox.groupby('dates').mean()"
   ]
  },
  {
   "cell_type": "code",
   "execution_count": 290,
   "metadata": {
    "collapsed": false
   },
   "outputs": [
    {
     "data": {
      "text/html": [
       "<div>\n",
       "<table border=\"1\" class=\"dataframe\">\n",
       "  <thead>\n",
       "    <tr style=\"text-align: right;\">\n",
       "      <th></th>\n",
       "      <th>retweet_count</th>\n",
       "      <th>favorite_count</th>\n",
       "      <th>latitude</th>\n",
       "      <th>longitude</th>\n",
       "      <th>sentiment</th>\n",
       "      <th>hav_distance_boston</th>\n",
       "      <th>hav_distance_ny</th>\n",
       "    </tr>\n",
       "    <tr>\n",
       "      <th>dates</th>\n",
       "      <th></th>\n",
       "      <th></th>\n",
       "      <th></th>\n",
       "      <th></th>\n",
       "      <th></th>\n",
       "      <th></th>\n",
       "      <th></th>\n",
       "    </tr>\n",
       "  </thead>\n",
       "  <tbody>\n",
       "    <tr>\n",
       "      <th>2016-08-06</th>\n",
       "      <td>129.519</td>\n",
       "      <td>2.142</td>\n",
       "      <td>37.765879</td>\n",
       "      <td>-82.133044</td>\n",
       "      <td>0.033535</td>\n",
       "      <td>2.061121e+06</td>\n",
       "      <td>2.032066e+06</td>\n",
       "    </tr>\n",
       "    <tr>\n",
       "      <th>2016-08-07</th>\n",
       "      <td>419.222</td>\n",
       "      <td>1.321</td>\n",
       "      <td>36.789503</td>\n",
       "      <td>-82.499985</td>\n",
       "      <td>0.072724</td>\n",
       "      <td>2.142292e+06</td>\n",
       "      <td>2.081744e+06</td>\n",
       "    </tr>\n",
       "    <tr>\n",
       "      <th>2016-08-08</th>\n",
       "      <td>107.294</td>\n",
       "      <td>1.814</td>\n",
       "      <td>36.731780</td>\n",
       "      <td>-70.905613</td>\n",
       "      <td>0.093011</td>\n",
       "      <td>2.134943e+06</td>\n",
       "      <td>2.137587e+06</td>\n",
       "    </tr>\n",
       "    <tr>\n",
       "      <th>2016-08-09</th>\n",
       "      <td>36.183</td>\n",
       "      <td>1.936</td>\n",
       "      <td>38.580474</td>\n",
       "      <td>-79.123002</td>\n",
       "      <td>0.128390</td>\n",
       "      <td>1.368217e+06</td>\n",
       "      <td>1.364452e+06</td>\n",
       "    </tr>\n",
       "    <tr>\n",
       "      <th>2016-08-10</th>\n",
       "      <td>141.631</td>\n",
       "      <td>2.907</td>\n",
       "      <td>35.481714</td>\n",
       "      <td>-72.152677</td>\n",
       "      <td>0.148311</td>\n",
       "      <td>1.976626e+06</td>\n",
       "      <td>1.966678e+06</td>\n",
       "    </tr>\n",
       "    <tr>\n",
       "      <th>2016-08-11</th>\n",
       "      <td>19.347</td>\n",
       "      <td>2.136</td>\n",
       "      <td>37.939016</td>\n",
       "      <td>-71.386290</td>\n",
       "      <td>0.058885</td>\n",
       "      <td>1.789284e+06</td>\n",
       "      <td>1.816509e+06</td>\n",
       "    </tr>\n",
       "    <tr>\n",
       "      <th>2016-08-12</th>\n",
       "      <td>45.946</td>\n",
       "      <td>2.520</td>\n",
       "      <td>37.525810</td>\n",
       "      <td>-72.746949</td>\n",
       "      <td>0.069843</td>\n",
       "      <td>1.785936e+06</td>\n",
       "      <td>1.813787e+06</td>\n",
       "    </tr>\n",
       "    <tr>\n",
       "      <th>2016-08-13</th>\n",
       "      <td>322.909</td>\n",
       "      <td>1.955</td>\n",
       "      <td>37.440439</td>\n",
       "      <td>-72.018785</td>\n",
       "      <td>0.082030</td>\n",
       "      <td>1.766416e+06</td>\n",
       "      <td>1.786148e+06</td>\n",
       "    </tr>\n",
       "    <tr>\n",
       "      <th>2016-08-14</th>\n",
       "      <td>0.000</td>\n",
       "      <td>0.000</td>\n",
       "      <td>35.645460</td>\n",
       "      <td>-74.725406</td>\n",
       "      <td>0.035605</td>\n",
       "      <td>2.254737e+06</td>\n",
       "      <td>2.197758e+06</td>\n",
       "    </tr>\n",
       "    <tr>\n",
       "      <th>2016-08-15</th>\n",
       "      <td>213.424</td>\n",
       "      <td>0.890</td>\n",
       "      <td>36.533359</td>\n",
       "      <td>-72.514817</td>\n",
       "      <td>0.109541</td>\n",
       "      <td>2.366861e+06</td>\n",
       "      <td>2.321372e+06</td>\n",
       "    </tr>\n",
       "    <tr>\n",
       "      <th>2016-08-16</th>\n",
       "      <td>67.070</td>\n",
       "      <td>2.435</td>\n",
       "      <td>36.625620</td>\n",
       "      <td>-70.152045</td>\n",
       "      <td>0.031728</td>\n",
       "      <td>1.889382e+06</td>\n",
       "      <td>1.886664e+06</td>\n",
       "    </tr>\n",
       "  </tbody>\n",
       "</table>\n",
       "</div>"
      ],
      "text/plain": [
       "            retweet_count  favorite_count   latitude  longitude  sentiment  \\\n",
       "dates                                                                        \n",
       "2016-08-06        129.519           2.142  37.765879 -82.133044   0.033535   \n",
       "2016-08-07        419.222           1.321  36.789503 -82.499985   0.072724   \n",
       "2016-08-08        107.294           1.814  36.731780 -70.905613   0.093011   \n",
       "2016-08-09         36.183           1.936  38.580474 -79.123002   0.128390   \n",
       "2016-08-10        141.631           2.907  35.481714 -72.152677   0.148311   \n",
       "2016-08-11         19.347           2.136  37.939016 -71.386290   0.058885   \n",
       "2016-08-12         45.946           2.520  37.525810 -72.746949   0.069843   \n",
       "2016-08-13        322.909           1.955  37.440439 -72.018785   0.082030   \n",
       "2016-08-14          0.000           0.000  35.645460 -74.725406   0.035605   \n",
       "2016-08-15        213.424           0.890  36.533359 -72.514817   0.109541   \n",
       "2016-08-16         67.070           2.435  36.625620 -70.152045   0.031728   \n",
       "\n",
       "            hav_distance_boston  hav_distance_ny  \n",
       "dates                                             \n",
       "2016-08-06         2.061121e+06     2.032066e+06  \n",
       "2016-08-07         2.142292e+06     2.081744e+06  \n",
       "2016-08-08         2.134943e+06     2.137587e+06  \n",
       "2016-08-09         1.368217e+06     1.364452e+06  \n",
       "2016-08-10         1.976626e+06     1.966678e+06  \n",
       "2016-08-11         1.789284e+06     1.816509e+06  \n",
       "2016-08-12         1.785936e+06     1.813787e+06  \n",
       "2016-08-13         1.766416e+06     1.786148e+06  \n",
       "2016-08-14         2.254737e+06     2.197758e+06  \n",
       "2016-08-15         2.366861e+06     2.321372e+06  \n",
       "2016-08-16         1.889382e+06     1.886664e+06  "
      ]
     },
     "execution_count": 290,
     "metadata": {},
     "output_type": "execute_result"
    }
   ],
   "source": [
    "sentiment_by_date"
   ]
  },
  {
   "cell_type": "code",
   "execution_count": 291,
   "metadata": {
    "collapsed": false
   },
   "outputs": [
    {
     "data": {
      "text/plain": [
       "['8/6 (L)',\n",
       " '8/7 (L)',\n",
       " '8/8 (No Game)',\n",
       " '8/9 (W—v. Yankees)',\n",
       " '8/10 (L—v. Yankees)',\n",
       " '8/11 (L—v. Yankees)',\n",
       " '8/12 (W)',\n",
       " '8/13 (W)',\n",
       " '8/14 (W)',\n",
       " '8/15 (W)',\n",
       " '8/16 (W)']"
      ]
     },
     "execution_count": 291,
     "metadata": {},
     "output_type": "execute_result"
    }
   ],
   "source": [
    "outcomes = [\n",
    "    '8/6 (L)',\n",
    "    '8/7 (L)',\n",
    "    '8/8 (No Game)',\n",
    "    '8/9 (W—v. Yankees)',\n",
    "    '8/10 (L—v. Yankees)',\n",
    "    '8/11 (L—v. Yankees)',\n",
    "    '8/12 (W)',\n",
    "    '8/13 (W)',\n",
    "    '8/14 (W)',\n",
    "    '8/15 (W)',\n",
    "    '8/16 (W)'\n",
    "]\n",
    "outcomes"
   ]
  },
  {
   "cell_type": "code",
   "execution_count": 293,
   "metadata": {
    "collapsed": false
   },
   "outputs": [
    {
     "data": {
      "image/png": "[encoded data removed]",
      "text/plain": [
       "<matplotlib.figure.Figure at 0x1192c0160>"
      ]
     },
     "metadata": {},
     "output_type": "display_data"
    }
   ],
   "source": [
    "fig = plt.figure(figsize=(18,8))\n",
    "ax = fig.add_subplot(111)\n",
    "ax2 = fig.add_subplot(111)\n",
    "ax3 = fig.add_subplot(111)\n",
    "ax.plot(sentiment_by_date['sentiment'], linewidth=6, alpha=0.7)\n",
    "ax2.plot(sentiment_by_date_near_boston['sentiment'], linewidth=6, alpha=0.7)\n",
    "ax3.plot(sentiment_by_date_near_ny['sentiment'], linewidth=6, alpha=0.7)\n",
    "ax.legend(['Global Avg. Sentiment', 'Avg. Sentiment Near Boston', 'Avg. Sentiment Near New York'])\n",
    "plt.title('Mean Redsox-Related Tweet Sentiment by Date', size=14)\n",
    "ax.set_xlabel('Date and Outcome')\n",
    "ax.set_ylabel('Average Sentiment Rating')\n",
    "ax.set_xticklabels(outcomes)\n",
    "sns.set_palette('colorblind')\n",
    "plt.savefig('sox_days.png')\n",
    "plt.show()"
   ]
  },
  {
   "cell_type": "code",
   "execution_count": 294,
   "metadata": {
    "collapsed": true
   },
   "outputs": [],
   "source": [
    "# Compare redsox and yankees on same chart."
   ]
  },
  {
   "cell_type": "markdown",
   "metadata": {},
   "source": [
    "## Predicting Wins ##"
   ]
  },
  {
   "cell_type": "code",
   "execution_count": 295,
   "metadata": {
    "collapsed": false
   },
   "outputs": [
    {
     "data": {
      "text/html": [
       "<div>\n",
       "<table border=\"1\" class=\"dataframe\">\n",
       "  <thead>\n",
       "    <tr style=\"text-align: right;\">\n",
       "      <th></th>\n",
       "      <th>text</th>\n",
       "      <th>created_at</th>\n",
       "      <th>location</th>\n",
       "      <th>retweet_count</th>\n",
       "      <th>favorite_count</th>\n",
       "      <th>latitude</th>\n",
       "      <th>longitude</th>\n",
       "      <th>dates</th>\n",
       "      <th>sentiment</th>\n",
       "      <th>hav_distance_boston</th>\n",
       "      <th>outcome</th>\n",
       "      <th>hav_distance_ny</th>\n",
       "    </tr>\n",
       "  </thead>\n",
       "  <tbody>\n",
       "    <tr>\n",
       "      <th>0</th>\n",
       "      <td>Boston #RedSox Ladies #Shirt. Gray, Red, and B...</td>\n",
       "      <td>Sat Aug 06 23:59:36 +0000 2016</td>\n",
       "      <td>NaN</td>\n",
       "      <td>0</td>\n",
       "      <td>0</td>\n",
       "      <td>NaN</td>\n",
       "      <td>NaN</td>\n",
       "      <td>2016-08-06</td>\n",
       "      <td>0.071429</td>\n",
       "      <td>NaN</td>\n",
       "      <td>Loss</td>\n",
       "      <td>NaN</td>\n",
       "    </tr>\n",
       "    <tr>\n",
       "      <th>1</th>\n",
       "      <td>#MLB #BaseBall: New and rare, Boston #RedSox T...</td>\n",
       "      <td>Sat Aug 06 23:59:34 +0000 2016</td>\n",
       "      <td>NaN</td>\n",
       "      <td>0</td>\n",
       "      <td>0</td>\n",
       "      <td>NaN</td>\n",
       "      <td>NaN</td>\n",
       "      <td>2016-08-06</td>\n",
       "      <td>0.218182</td>\n",
       "      <td>NaN</td>\n",
       "      <td>Loss</td>\n",
       "      <td>NaN</td>\n",
       "    </tr>\n",
       "    <tr>\n",
       "      <th>2</th>\n",
       "      <td>RT @_AlexanderJean_: Honored to sing The Natio...</td>\n",
       "      <td>Sat Aug 06 23:59:27 +0000 2016</td>\n",
       "      <td>7/21/15 | 3/8/16 | 7/7/16</td>\n",
       "      <td>41</td>\n",
       "      <td>0</td>\n",
       "      <td>NaN</td>\n",
       "      <td>NaN</td>\n",
       "      <td>2016-08-06</td>\n",
       "      <td>-0.400000</td>\n",
       "      <td>NaN</td>\n",
       "      <td>Loss</td>\n",
       "      <td>NaN</td>\n",
       "    </tr>\n",
       "    <tr>\n",
       "      <th>3</th>\n",
       "      <td>May not have got the W but I got to see @david...</td>\n",
       "      <td>Sat Aug 06 23:59:19 +0000 2016</td>\n",
       "      <td>Los Angeles, CA</td>\n",
       "      <td>0</td>\n",
       "      <td>2</td>\n",
       "      <td>34.052228</td>\n",
       "      <td>-118.243677</td>\n",
       "      <td>2016-08-06</td>\n",
       "      <td>-0.600000</td>\n",
       "      <td>4.169543e+06</td>\n",
       "      <td>Loss</td>\n",
       "      <td>3.935735e+06</td>\n",
       "    </tr>\n",
       "    <tr>\n",
       "      <th>4</th>\n",
       "      <td>@aidancab @RedSox foreal 😴</td>\n",
       "      <td>Sat Aug 06 23:59:19 +0000 2016</td>\n",
       "      <td>MA</td>\n",
       "      <td>0</td>\n",
       "      <td>1</td>\n",
       "      <td>42.365650</td>\n",
       "      <td>-71.108317</td>\n",
       "      <td>2016-08-06</td>\n",
       "      <td>0.000000</td>\n",
       "      <td>4.069056e+03</td>\n",
       "      <td>Loss</td>\n",
       "      <td>3.030860e+05</td>\n",
       "    </tr>\n",
       "  </tbody>\n",
       "</table>\n",
       "</div>"
      ],
      "text/plain": [
       "                                                text  \\\n",
       "0  Boston #RedSox Ladies #Shirt. Gray, Red, and B...   \n",
       "1  #MLB #BaseBall: New and rare, Boston #RedSox T...   \n",
       "2  RT @_AlexanderJean_: Honored to sing The Natio...   \n",
       "3  May not have got the W but I got to see @david...   \n",
       "4                         @aidancab @RedSox foreal 😴   \n",
       "\n",
       "                       created_at                   location  retweet_count  \\\n",
       "0  Sat Aug 06 23:59:36 +0000 2016                        NaN              0   \n",
       "1  Sat Aug 06 23:59:34 +0000 2016                        NaN              0   \n",
       "2  Sat Aug 06 23:59:27 +0000 2016  7/21/15 | 3/8/16 | 7/7/16             41   \n",
       "3  Sat Aug 06 23:59:19 +0000 2016            Los Angeles, CA              0   \n",
       "4  Sat Aug 06 23:59:19 +0000 2016                         MA              0   \n",
       "\n",
       "   favorite_count   latitude   longitude      dates  sentiment  \\\n",
       "0               0        NaN         NaN 2016-08-06   0.071429   \n",
       "1               0        NaN         NaN 2016-08-06   0.218182   \n",
       "2               0        NaN         NaN 2016-08-06  -0.400000   \n",
       "3               2  34.052228 -118.243677 2016-08-06  -0.600000   \n",
       "4               1  42.365650  -71.108317 2016-08-06   0.000000   \n",
       "\n",
       "   hav_distance_boston outcome  hav_distance_ny  \n",
       "0                  NaN    Loss              NaN  \n",
       "1                  NaN    Loss              NaN  \n",
       "2                  NaN    Loss              NaN  \n",
       "3         4.169543e+06    Loss     3.935735e+06  \n",
       "4         4.069056e+03    Loss     3.030860e+05  "
      ]
     },
     "execution_count": 295,
     "metadata": {},
     "output_type": "execute_result"
    }
   ],
   "source": [
    "df_redsox.head()"
   ]
  },
  {
   "cell_type": "markdown",
   "metadata": {},
   "source": [
    "### Regression ###"
   ]
  },
  {
   "cell_type": "code",
   "execution_count": 296,
   "metadata": {
    "collapsed": false
   },
   "outputs": [
    {
     "data": {
      "text/html": [
       "<div>\n",
       "<table border=\"1\" class=\"dataframe\">\n",
       "  <thead>\n",
       "    <tr style=\"text-align: right;\">\n",
       "      <th></th>\n",
       "      <th>text</th>\n",
       "      <th>created_at</th>\n",
       "      <th>location</th>\n",
       "      <th>retweet_count</th>\n",
       "      <th>favorite_count</th>\n",
       "      <th>latitude</th>\n",
       "      <th>longitude</th>\n",
       "      <th>dates</th>\n",
       "      <th>sentiment</th>\n",
       "      <th>hav_distance_boston</th>\n",
       "      <th>outcome</th>\n",
       "      <th>hav_distance_ny</th>\n",
       "      <th>win</th>\n",
       "    </tr>\n",
       "  </thead>\n",
       "  <tbody>\n",
       "    <tr>\n",
       "      <th>0</th>\n",
       "      <td>Boston #RedSox Ladies #Shirt. Gray, Red, and B...</td>\n",
       "      <td>Sat Aug 06 23:59:36 +0000 2016</td>\n",
       "      <td>NaN</td>\n",
       "      <td>0</td>\n",
       "      <td>0</td>\n",
       "      <td>NaN</td>\n",
       "      <td>NaN</td>\n",
       "      <td>2016-08-06</td>\n",
       "      <td>0.071429</td>\n",
       "      <td>NaN</td>\n",
       "      <td>Loss</td>\n",
       "      <td>NaN</td>\n",
       "      <td>0.0</td>\n",
       "    </tr>\n",
       "    <tr>\n",
       "      <th>1</th>\n",
       "      <td>#MLB #BaseBall: New and rare, Boston #RedSox T...</td>\n",
       "      <td>Sat Aug 06 23:59:34 +0000 2016</td>\n",
       "      <td>NaN</td>\n",
       "      <td>0</td>\n",
       "      <td>0</td>\n",
       "      <td>NaN</td>\n",
       "      <td>NaN</td>\n",
       "      <td>2016-08-06</td>\n",
       "      <td>0.218182</td>\n",
       "      <td>NaN</td>\n",
       "      <td>Loss</td>\n",
       "      <td>NaN</td>\n",
       "      <td>0.0</td>\n",
       "    </tr>\n",
       "    <tr>\n",
       "      <th>2</th>\n",
       "      <td>RT @_AlexanderJean_: Honored to sing The Natio...</td>\n",
       "      <td>Sat Aug 06 23:59:27 +0000 2016</td>\n",
       "      <td>7/21/15 | 3/8/16 | 7/7/16</td>\n",
       "      <td>41</td>\n",
       "      <td>0</td>\n",
       "      <td>NaN</td>\n",
       "      <td>NaN</td>\n",
       "      <td>2016-08-06</td>\n",
       "      <td>-0.400000</td>\n",
       "      <td>NaN</td>\n",
       "      <td>Loss</td>\n",
       "      <td>NaN</td>\n",
       "      <td>0.0</td>\n",
       "    </tr>\n",
       "    <tr>\n",
       "      <th>3</th>\n",
       "      <td>May not have got the W but I got to see @david...</td>\n",
       "      <td>Sat Aug 06 23:59:19 +0000 2016</td>\n",
       "      <td>Los Angeles, CA</td>\n",
       "      <td>0</td>\n",
       "      <td>2</td>\n",
       "      <td>34.052228</td>\n",
       "      <td>-118.243677</td>\n",
       "      <td>2016-08-06</td>\n",
       "      <td>-0.600000</td>\n",
       "      <td>4.169543e+06</td>\n",
       "      <td>Loss</td>\n",
       "      <td>3.935735e+06</td>\n",
       "      <td>0.0</td>\n",
       "    </tr>\n",
       "    <tr>\n",
       "      <th>4</th>\n",
       "      <td>@aidancab @RedSox foreal 😴</td>\n",
       "      <td>Sat Aug 06 23:59:19 +0000 2016</td>\n",
       "      <td>MA</td>\n",
       "      <td>0</td>\n",
       "      <td>1</td>\n",
       "      <td>42.365650</td>\n",
       "      <td>-71.108317</td>\n",
       "      <td>2016-08-06</td>\n",
       "      <td>0.000000</td>\n",
       "      <td>4.069056e+03</td>\n",
       "      <td>Loss</td>\n",
       "      <td>3.030860e+05</td>\n",
       "      <td>0.0</td>\n",
       "    </tr>\n",
       "  </tbody>\n",
       "</table>\n",
       "</div>"
      ],
      "text/plain": [
       "                                                text  \\\n",
       "0  Boston #RedSox Ladies #Shirt. Gray, Red, and B...   \n",
       "1  #MLB #BaseBall: New and rare, Boston #RedSox T...   \n",
       "2  RT @_AlexanderJean_: Honored to sing The Natio...   \n",
       "3  May not have got the W but I got to see @david...   \n",
       "4                         @aidancab @RedSox foreal 😴   \n",
       "\n",
       "                       created_at                   location  retweet_count  \\\n",
       "0  Sat Aug 06 23:59:36 +0000 2016                        NaN              0   \n",
       "1  Sat Aug 06 23:59:34 +0000 2016                        NaN              0   \n",
       "2  Sat Aug 06 23:59:27 +0000 2016  7/21/15 | 3/8/16 | 7/7/16             41   \n",
       "3  Sat Aug 06 23:59:19 +0000 2016            Los Angeles, CA              0   \n",
       "4  Sat Aug 06 23:59:19 +0000 2016                         MA              0   \n",
       "\n",
       "   favorite_count   latitude   longitude      dates  sentiment  \\\n",
       "0               0        NaN         NaN 2016-08-06   0.071429   \n",
       "1               0        NaN         NaN 2016-08-06   0.218182   \n",
       "2               0        NaN         NaN 2016-08-06  -0.400000   \n",
       "3               2  34.052228 -118.243677 2016-08-06  -0.600000   \n",
       "4               1  42.365650  -71.108317 2016-08-06   0.000000   \n",
       "\n",
       "   hav_distance_boston outcome  hav_distance_ny  win  \n",
       "0                  NaN    Loss              NaN  0.0  \n",
       "1                  NaN    Loss              NaN  0.0  \n",
       "2                  NaN    Loss              NaN  0.0  \n",
       "3         4.169543e+06    Loss     3.935735e+06  0.0  \n",
       "4         4.069056e+03    Loss     3.030860e+05  0.0  "
      ]
     },
     "execution_count": 296,
     "metadata": {},
     "output_type": "execute_result"
    }
   ],
   "source": [
    "# Likely wouldn't try to predict based on one tweet, but we'll try it. Also, lots of 0 sentiments could be an issue.\n",
    "df_redsox['win'] = pd.get_dummies(df_redsox['outcome'])['Win']\n",
    "df_redsox.head()"
   ]
  },
  {
   "cell_type": "code",
   "execution_count": 588,
   "metadata": {
    "collapsed": false
   },
   "outputs": [
    {
     "data": {
      "text/plain": [
       "1.0    6000\n",
       "0.0    5000\n",
       "Name: win, dtype: int64"
      ]
     },
     "execution_count": 588,
     "metadata": {},
     "output_type": "execute_result"
    }
   ],
   "source": [
    "df_redsox['win'].value_counts()"
   ]
  },
  {
   "cell_type": "code",
   "execution_count": 297,
   "metadata": {
    "collapsed": false
   },
   "outputs": [
    {
     "data": {
      "image/png": "[encoded data removed]",
      "text/plain": [
       "<matplotlib.figure.Figure at 0x1192d0588>"
      ]
     },
     "metadata": {},
     "output_type": "display_data"
    }
   ],
   "source": [
    "import missingno as msno\n",
    "msno.matrix(df_redsox)"
   ]
  },
  {
   "cell_type": "code",
   "execution_count": 299,
   "metadata": {
    "collapsed": false
   },
   "outputs": [
    {
     "data": {
      "text/plain": [
       "6603"
      ]
     },
     "execution_count": 299,
     "metadata": {},
     "output_type": "execute_result"
    }
   ],
   "source": [
    "df_redsox.shape[0] - df_redsox['hav_distance_boston'].isnull().sum()"
   ]
  },
  {
   "cell_type": "code",
   "execution_count": 300,
   "metadata": {
    "collapsed": true
   },
   "outputs": [],
   "source": [
    "df_redsox_no_null = df_redsox.dropna()"
   ]
  },
  {
   "cell_type": "code",
   "execution_count": 301,
   "metadata": {
    "collapsed": false
   },
   "outputs": [
    {
     "data": {
      "text/plain": [
       "(6603, 13)"
      ]
     },
     "execution_count": 301,
     "metadata": {},
     "output_type": "execute_result"
    }
   ],
   "source": [
    "df_redsox_no_null.shape"
   ]
  },
  {
   "cell_type": "code",
   "execution_count": 303,
   "metadata": {
    "collapsed": true
   },
   "outputs": [],
   "source": [
    "X = df_redsox_no_null[['sentiment', 'hav_distance_boston']]\n",
    "y = df_redsox_no_null['win']"
   ]
  },
  {
   "cell_type": "code",
   "execution_count": 304,
   "metadata": {
    "collapsed": true
   },
   "outputs": [],
   "source": [
    "from sklearn.cross_validation import train_test_split\n",
    "X_train, X_test, y_train, y_test = train_test_split(X, y, test_size=0.20, random_state=9)"
   ]
  },
  {
   "cell_type": "code",
   "execution_count": 306,
   "metadata": {
    "collapsed": false
   },
   "outputs": [
    {
     "name": "stdout",
     "output_type": "stream",
     "text": [
      "(5282, 2)\n",
      "(1321, 2)\n",
      "(5282,)\n",
      "(1321,)\n"
     ]
    }
   ],
   "source": [
    "print(X_train.shape)\n",
    "print(X_test.shape)\n",
    "print(y_train.shape)\n",
    "print(y_test.shape)"
   ]
  },
  {
   "cell_type": "code",
   "execution_count": 311,
   "metadata": {
    "collapsed": true
   },
   "outputs": [],
   "source": [
    "from sklearn.preprocessing import StandardScaler\n",
    "# Define a scaler for normalizing the data.\n",
    "scaler = StandardScaler()\n",
    "# Get scaled data.\n",
    "X_train_scaled = scaler.fit_transform(X_train)\n",
    "X_test_scaled = scaler.transform(X_test)"
   ]
  },
  {
   "cell_type": "code",
   "execution_count": 339,
   "metadata": {
    "collapsed": false
   },
   "outputs": [
    {
     "name": "stdout",
     "output_type": "stream",
     "text": [
      "Coefficients: \n",
      " [[  3.02508540e-15   1.15256271e-08]]\n",
      "MSE: 0.46\n",
      "Variance score: 0.54\n",
      "R Squared:  -0.850140056022\n"
     ]
    }
   ],
   "source": [
    "# With a binary outcome variable, let's try logistic regression.\n",
    "np.random.seed(9)\n",
    "from sklearn.metrics import r2_score\n",
    "from sklearn.linear_model import LogisticRegression\n",
    "regr = LogisticRegression()\n",
    "regr.fit(X_train, y_train)\n",
    "# The coefficients\n",
    "print('Coefficients: \\n', regr.coef_)\n",
    "# The mean square error\n",
    "print(\"MSE: %.2f\"\n",
    "      % np.mean((regr.predict(X_test) - y_test) ** 2))\n",
    "# Explained variance score: 1 is perfect prediction\n",
    "print('Variance score: %.2f' % regr.score(X_test, y_test))\n",
    "print('R Squared: ', r2_score(y_test, y_hat_lrg))"
   ]
  },
  {
   "cell_type": "code",
   "execution_count": 340,
   "metadata": {
    "collapsed": false,
    "scrolled": false
   },
   "outputs": [
    {
     "name": "stdout",
     "output_type": "stream",
     "text": [
      "MSE:  0.459500378501\n",
      "Score:  0.540499621499\n",
      "R Squared:  -0.850140056022\n"
     ]
    }
   ],
   "source": [
    "# What about with gridsearch and cross validation?\n",
    "np.random.seed(9)\n",
    "from sklearn.linear_model import LogisticRegression\n",
    "from sklearn.metrics import mean_squared_error\n",
    "from sklearn.metrics import r2_score\n",
    "from sklearn.grid_search import GridSearchCV\n",
    "lrg = LogisticRegression()\n",
    "parameters = {'solver': ['lbfgs', 'liblinear', 'sag']} # Convergence warning with newton-cg\n",
    "clf_lrg = GridSearchCV(lrg, parameters, cv=10)\n",
    "clf_lrg.fit(X_train, y_train)\n",
    "best_lrg = clf_lrg.best_estimator_\n",
    "y_hat_lrg = best_lrg.predict(X_test)\n",
    "print('MSE: ', mean_squared_error(y_test, y_hat_lrg))\n",
    "print('Score: ', best_lrg.score(X_test, y_test))\n",
    "print('R Squared: ', r2_score(y_test, y_hat_lrg))"
   ]
  },
  {
   "cell_type": "markdown",
   "metadata": {},
   "source": [
    "Given the negative R2, it seems this was not at all successful. It could very well be that the model just can't find anything in our data."
   ]
  },
  {
   "cell_type": "code",
   "execution_count": 343,
   "metadata": {
    "collapsed": false
   },
   "outputs": [
    {
     "name": "stdout",
     "output_type": "stream",
     "text": [
      "MSE:  0.248780103975\n",
      "Score:  -0.00169239687622\n",
      "R Squared:  -0.00169239687622\n"
     ]
    }
   ],
   "source": [
    "# Ridge?\n",
    "np.random.seed(9)\n",
    "from sklearn.linear_model import Ridge\n",
    "rrg = Ridge()\n",
    "parameters = {'solver': ['auto', 'lsqr', 'sag']} # Convergence warning with newton-cg\n",
    "clf_rrg = GridSearchCV(rrg, parameters, cv=10)\n",
    "clf_rrg.fit(X_train, y_train)\n",
    "best_rrg = clf_rrg.best_estimator_\n",
    "y_hat_rrg = best_rrg.predict(X_test)\n",
    "print('MSE: ', mean_squared_error(y_test, y_hat_rrg))\n",
    "print('Score: ', best_rrg.score(X_test, y_test))\n",
    "print('R Squared: ', r2_score(y_test, y_hat_rrg))"
   ]
  },
  {
   "cell_type": "code",
   "execution_count": 344,
   "metadata": {
    "collapsed": false
   },
   "outputs": [
    {
     "name": "stdout",
     "output_type": "stream",
     "text": [
      "MSE:  0.248780103975\n",
      "Score:  -0.00169239687622\n",
      "R Squared:  -0.00169239687622\n"
     ]
    }
   ],
   "source": [
    "# Lasso?\n",
    "np.random.seed(9)\n",
    "from sklearn.linear_model import Lasso\n",
    "lsr = Ridge()\n",
    "parameters = {'alpha': [0, 0.1, 0.5, 1]} # Convergence warning with newton-cg\n",
    "clf_lsr = GridSearchCV(lsr, parameters, cv=10)\n",
    "clf_lsr.fit(X_train, y_train)\n",
    "best_lsr = clf_lsr.best_estimator_\n",
    "y_hat_lsr = best_lsr.predict(X_test)\n",
    "print('MSE: ', mean_squared_error(y_test, y_hat_lsr))\n",
    "print('Score: ', best_rrg.score(X_test, y_test))\n",
    "print('R Squared: ', r2_score(y_test, y_hat_lsr))"
   ]
  },
  {
   "cell_type": "markdown",
   "metadata": {},
   "source": [
    "### Classification with Count Vectorizer ###"
   ]
  },
  {
   "cell_type": "markdown",
   "metadata": {},
   "source": [
    "First, bin data by distance to home city. We'll create three separate datasets based on distance."
   ]
  },
  {
   "cell_type": "code",
   "execution_count": 222,
   "metadata": {
    "collapsed": false
   },
   "outputs": [
    {
     "data": {
      "text/plain": [
       "count    6.603000e+03\n",
       "mean     1.951753e+06\n",
       "std      2.842985e+06\n",
       "min      0.000000e+00\n",
       "25%      4.474498e+04\n",
       "50%      7.606446e+05\n",
       "75%      2.908099e+06\n",
       "max      1.870660e+07\n",
       "Name: hav_distance_boston, dtype: float64"
      ]
     },
     "execution_count": 222,
     "metadata": {},
     "output_type": "execute_result"
    }
   ],
   "source": [
    "df_redsox['hav_distance_boston'].describe()"
   ]
  },
  {
   "cell_type": "code",
   "execution_count": 231,
   "metadata": {
    "collapsed": false
   },
   "outputs": [
    {
     "data": {
      "text/plain": [
       "(11000, 12)"
      ]
     },
     "execution_count": 231,
     "metadata": {},
     "output_type": "execute_result"
    }
   ],
   "source": [
    "df_redsox.shape"
   ]
  },
  {
   "cell_type": "code",
   "execution_count": 464,
   "metadata": {
    "collapsed": false
   },
   "outputs": [],
   "source": [
    "# dist_1 = closest to Boston, dist_3 = farthest. ~70 mile bound, ~1300 mile bound, everything farther.\n",
    "df_redsox_dist_1 = df_redsox[df_redsox['hav_distance_boston'] <= 120000]\n",
    "df_redsox_dist_2 = df_redsox[(df_redsox['hav_distance_boston'] <= 2100000) & (df_redsox['hav_distance_boston'] > 120000)]\n",
    "df_redsox_dist_3 = df_redsox[df_redsox['hav_distance_boston'] > 2100000]"
   ]
  },
  {
   "cell_type": "code",
   "execution_count": 465,
   "metadata": {
    "collapsed": false
   },
   "outputs": [
    {
     "data": {
      "text/plain": [
       "6603"
      ]
     },
     "execution_count": 465,
     "metadata": {},
     "output_type": "execute_result"
    }
   ],
   "source": [
    "df_redsox['hav_distance_boston'].isnull().sum()\n",
    "11000 - df_redsox['hav_distance_boston'].isnull().sum()"
   ]
  },
  {
   "cell_type": "code",
   "execution_count": 466,
   "metadata": {
    "collapsed": false
   },
   "outputs": [
    {
     "data": {
      "text/plain": [
       "(2168, 13)"
      ]
     },
     "execution_count": 466,
     "metadata": {},
     "output_type": "execute_result"
    }
   ],
   "source": [
    "df_redsox_dist_1.shape"
   ]
  },
  {
   "cell_type": "code",
   "execution_count": 467,
   "metadata": {
    "collapsed": false
   },
   "outputs": [
    {
     "data": {
      "text/plain": [
       "(2154, 13)"
      ]
     },
     "execution_count": 467,
     "metadata": {},
     "output_type": "execute_result"
    }
   ],
   "source": [
    "df_redsox_dist_2.shape"
   ]
  },
  {
   "cell_type": "code",
   "execution_count": 468,
   "metadata": {
    "collapsed": false
   },
   "outputs": [
    {
     "data": {
      "text/plain": [
       "(2281, 13)"
      ]
     },
     "execution_count": 468,
     "metadata": {},
     "output_type": "execute_result"
    }
   ],
   "source": [
    "df_redsox_dist_3.shape"
   ]
  },
  {
   "cell_type": "code",
   "execution_count": 469,
   "metadata": {
    "collapsed": false
   },
   "outputs": [
    {
     "data": {
      "image/png": "[encoded data removed]",
      "text/plain": [
       "<matplotlib.figure.Figure at 0x11bb78b70>"
      ]
     },
     "metadata": {},
     "output_type": "display_data"
    }
   ],
   "source": [
    "import missingno as msno\n",
    "msno.matrix(df_redsox_dist_1)\n",
    "#msno.matrix(df_redsox_dist_2)\n",
    "#msno.matrix(df_redsox_dist_3)"
   ]
  },
  {
   "cell_type": "code",
   "execution_count": 470,
   "metadata": {
    "collapsed": true
   },
   "outputs": [],
   "source": [
    "sentiment_by_date_dist_1 = df_redsox_dist_1.groupby('dates').mean()\n",
    "sentiment_by_date_dist_2 = df_redsox_dist_2.groupby('dates').mean()\n",
    "sentiment_by_date_dist_3 = df_redsox_dist_3.groupby('dates').mean()"
   ]
  },
  {
   "cell_type": "code",
   "execution_count": 471,
   "metadata": {
    "collapsed": false
   },
   "outputs": [
    {
     "data": {
      "text/html": [
       "<div>\n",
       "<table border=\"1\" class=\"dataframe\">\n",
       "  <thead>\n",
       "    <tr style=\"text-align: right;\">\n",
       "      <th></th>\n",
       "      <th>retweet_count</th>\n",
       "      <th>favorite_count</th>\n",
       "      <th>latitude</th>\n",
       "      <th>longitude</th>\n",
       "      <th>sentiment</th>\n",
       "      <th>hav_distance_boston</th>\n",
       "      <th>hav_distance_ny</th>\n",
       "      <th>win</th>\n",
       "    </tr>\n",
       "    <tr>\n",
       "      <th>dates</th>\n",
       "      <th></th>\n",
       "      <th></th>\n",
       "      <th></th>\n",
       "      <th></th>\n",
       "      <th></th>\n",
       "      <th></th>\n",
       "      <th></th>\n",
       "      <th></th>\n",
       "    </tr>\n",
       "  </thead>\n",
       "  <tbody>\n",
       "    <tr>\n",
       "      <th>2016-08-06</th>\n",
       "      <td>13.129213</td>\n",
       "      <td>6.797753</td>\n",
       "      <td>42.245053</td>\n",
       "      <td>-71.051652</td>\n",
       "      <td>-0.014264</td>\n",
       "      <td>19964.355647</td>\n",
       "      <td>300723.425777</td>\n",
       "      <td>0.0</td>\n",
       "    </tr>\n",
       "    <tr>\n",
       "      <th>2016-08-07</th>\n",
       "      <td>132.062500</td>\n",
       "      <td>5.150000</td>\n",
       "      <td>42.212290</td>\n",
       "      <td>-71.145349</td>\n",
       "      <td>0.069901</td>\n",
       "      <td>28240.655075</td>\n",
       "      <td>292104.631887</td>\n",
       "      <td>0.0</td>\n",
       "    </tr>\n",
       "    <tr>\n",
       "      <th>2016-08-08</th>\n",
       "      <td>14.105023</td>\n",
       "      <td>4.146119</td>\n",
       "      <td>42.158930</td>\n",
       "      <td>-70.885698</td>\n",
       "      <td>0.073880</td>\n",
       "      <td>39360.955851</td>\n",
       "      <td>309616.331839</td>\n",
       "      <td>0.0</td>\n",
       "    </tr>\n",
       "    <tr>\n",
       "      <th>2016-08-09</th>\n",
       "      <td>20.008734</td>\n",
       "      <td>5.917031</td>\n",
       "      <td>42.286362</td>\n",
       "      <td>-71.079798</td>\n",
       "      <td>0.131589</td>\n",
       "      <td>18874.642801</td>\n",
       "      <td>301180.156486</td>\n",
       "      <td>1.0</td>\n",
       "    </tr>\n",
       "    <tr>\n",
       "      <th>2016-08-10</th>\n",
       "      <td>45.333333</td>\n",
       "      <td>11.845411</td>\n",
       "      <td>42.315843</td>\n",
       "      <td>-71.101047</td>\n",
       "      <td>0.140038</td>\n",
       "      <td>13684.126429</td>\n",
       "      <td>300974.529478</td>\n",
       "      <td>0.0</td>\n",
       "    </tr>\n",
       "    <tr>\n",
       "      <th>2016-08-11</th>\n",
       "      <td>12.183333</td>\n",
       "      <td>6.195833</td>\n",
       "      <td>42.291860</td>\n",
       "      <td>-71.075434</td>\n",
       "      <td>0.065422</td>\n",
       "      <td>19837.791997</td>\n",
       "      <td>302080.962407</td>\n",
       "      <td>0.0</td>\n",
       "    </tr>\n",
       "    <tr>\n",
       "      <th>2016-08-12</th>\n",
       "      <td>20.774059</td>\n",
       "      <td>9.384937</td>\n",
       "      <td>42.299974</td>\n",
       "      <td>-71.146016</td>\n",
       "      <td>0.070458</td>\n",
       "      <td>19167.829198</td>\n",
       "      <td>297301.224390</td>\n",
       "      <td>1.0</td>\n",
       "    </tr>\n",
       "    <tr>\n",
       "      <th>2016-08-13</th>\n",
       "      <td>22.500000</td>\n",
       "      <td>6.530435</td>\n",
       "      <td>42.214807</td>\n",
       "      <td>-71.032618</td>\n",
       "      <td>0.095975</td>\n",
       "      <td>29146.482980</td>\n",
       "      <td>301111.002566</td>\n",
       "      <td>1.0</td>\n",
       "    </tr>\n",
       "    <tr>\n",
       "      <th>2016-08-14</th>\n",
       "      <td>0.000000</td>\n",
       "      <td>0.000000</td>\n",
       "      <td>42.281599</td>\n",
       "      <td>-71.158742</td>\n",
       "      <td>0.032755</td>\n",
       "      <td>16828.326986</td>\n",
       "      <td>294782.357383</td>\n",
       "      <td>1.0</td>\n",
       "    </tr>\n",
       "    <tr>\n",
       "      <th>2016-08-15</th>\n",
       "      <td>119.198529</td>\n",
       "      <td>4.580882</td>\n",
       "      <td>42.299322</td>\n",
       "      <td>-71.090664</td>\n",
       "      <td>0.122227</td>\n",
       "      <td>20029.321264</td>\n",
       "      <td>301139.402993</td>\n",
       "      <td>1.0</td>\n",
       "    </tr>\n",
       "    <tr>\n",
       "      <th>2016-08-16</th>\n",
       "      <td>17.721649</td>\n",
       "      <td>8.427835</td>\n",
       "      <td>42.287457</td>\n",
       "      <td>-71.139811</td>\n",
       "      <td>0.038436</td>\n",
       "      <td>17474.204138</td>\n",
       "      <td>296827.200970</td>\n",
       "      <td>1.0</td>\n",
       "    </tr>\n",
       "  </tbody>\n",
       "</table>\n",
       "</div>"
      ],
      "text/plain": [
       "            retweet_count  favorite_count   latitude  longitude  sentiment  \\\n",
       "dates                                                                        \n",
       "2016-08-06      13.129213        6.797753  42.245053 -71.051652  -0.014264   \n",
       "2016-08-07     132.062500        5.150000  42.212290 -71.145349   0.069901   \n",
       "2016-08-08      14.105023        4.146119  42.158930 -70.885698   0.073880   \n",
       "2016-08-09      20.008734        5.917031  42.286362 -71.079798   0.131589   \n",
       "2016-08-10      45.333333       11.845411  42.315843 -71.101047   0.140038   \n",
       "2016-08-11      12.183333        6.195833  42.291860 -71.075434   0.065422   \n",
       "2016-08-12      20.774059        9.384937  42.299974 -71.146016   0.070458   \n",
       "2016-08-13      22.500000        6.530435  42.214807 -71.032618   0.095975   \n",
       "2016-08-14       0.000000        0.000000  42.281599 -71.158742   0.032755   \n",
       "2016-08-15     119.198529        4.580882  42.299322 -71.090664   0.122227   \n",
       "2016-08-16      17.721649        8.427835  42.287457 -71.139811   0.038436   \n",
       "\n",
       "            hav_distance_boston  hav_distance_ny  win  \n",
       "dates                                                  \n",
       "2016-08-06         19964.355647    300723.425777  0.0  \n",
       "2016-08-07         28240.655075    292104.631887  0.0  \n",
       "2016-08-08         39360.955851    309616.331839  0.0  \n",
       "2016-08-09         18874.642801    301180.156486  1.0  \n",
       "2016-08-10         13684.126429    300974.529478  0.0  \n",
       "2016-08-11         19837.791997    302080.962407  0.0  \n",
       "2016-08-12         19167.829198    297301.224390  1.0  \n",
       "2016-08-13         29146.482980    301111.002566  1.0  \n",
       "2016-08-14         16828.326986    294782.357383  1.0  \n",
       "2016-08-15         20029.321264    301139.402993  1.0  \n",
       "2016-08-16         17474.204138    296827.200970  1.0  "
      ]
     },
     "execution_count": 471,
     "metadata": {},
     "output_type": "execute_result"
    }
   ],
   "source": [
    "sentiment_by_date_dist_1"
   ]
  },
  {
   "cell_type": "code",
   "execution_count": 473,
   "metadata": {
    "collapsed": false
   },
   "outputs": [
    {
     "data": {
      "image/png": "[encoded data removed]",
      "text/plain": [
       "<matplotlib.figure.Figure at 0x1186dd160>"
      ]
     },
     "metadata": {},
     "output_type": "display_data"
    }
   ],
   "source": [
    "fig = plt.figure(figsize=(18,8))\n",
    "ax = fig.add_subplot(111)\n",
    "ax2 = fig.add_subplot(111)\n",
    "ax3 = fig.add_subplot(111)\n",
    "ax.plot(sentiment_by_date_dist_1['sentiment'], linewidth=6, alpha=0.7)\n",
    "ax2.plot(sentiment_by_date_dist_2['sentiment'], linewidth=6, alpha=0.7)\n",
    "ax3.plot(sentiment_by_date_dist_3['sentiment'], linewidth=6, alpha=0.7)\n",
    "ax.legend(['Avg. Sentiment Near Home City', 'Medium Distance Avg. Sentiment', 'Long Distance Avg. Sentiment'])\n",
    "plt.title('Mean Redsox-Related Tweet Sentiment by Date', size=14)\n",
    "ax.set_xlabel('Date and Outcome')\n",
    "ax.set_ylabel('Average Sentiment Rating')\n",
    "ax.set_xticklabels(outcomes)\n",
    "sns.set_palette('colorblind')\n",
    "plt.savefig('sox_days_distance_bins.png')\n",
    "plt.show()"
   ]
  },
  {
   "cell_type": "markdown",
   "metadata": {},
   "source": [
    "#### Classification ####"
   ]
  },
  {
   "cell_type": "code",
   "execution_count": 540,
   "metadata": {
    "collapsed": true
   },
   "outputs": [],
   "source": [
    "from sklearn.feature_extraction.text import CountVectorizer\n",
    "import re"
   ]
  },
  {
   "cell_type": "code",
   "execution_count": 541,
   "metadata": {
    "collapsed": false
   },
   "outputs": [
    {
     "data": {
      "text/html": [
       "<div>\n",
       "<table border=\"1\" class=\"dataframe\">\n",
       "  <thead>\n",
       "    <tr style=\"text-align: right;\">\n",
       "      <th></th>\n",
       "      <th>text</th>\n",
       "      <th>created_at</th>\n",
       "      <th>location</th>\n",
       "      <th>retweet_count</th>\n",
       "      <th>favorite_count</th>\n",
       "      <th>latitude</th>\n",
       "      <th>longitude</th>\n",
       "      <th>dates</th>\n",
       "      <th>sentiment</th>\n",
       "      <th>hav_distance_boston</th>\n",
       "      <th>outcome</th>\n",
       "      <th>hav_distance_ny</th>\n",
       "      <th>win</th>\n",
       "    </tr>\n",
       "  </thead>\n",
       "  <tbody>\n",
       "    <tr>\n",
       "      <th>4</th>\n",
       "      <td>@aidancab @RedSox foreal 😴</td>\n",
       "      <td>Sat Aug 06 23:59:19 +0000 2016</td>\n",
       "      <td>MA</td>\n",
       "      <td>0</td>\n",
       "      <td>1</td>\n",
       "      <td>42.365650</td>\n",
       "      <td>-71.108317</td>\n",
       "      <td>2016-08-06</td>\n",
       "      <td>0.00</td>\n",
       "      <td>4069.055923</td>\n",
       "      <td>Loss</td>\n",
       "      <td>303086.014859</td>\n",
       "      <td>0.0</td>\n",
       "    </tr>\n",
       "    <tr>\n",
       "      <th>8</th>\n",
       "      <td>Tune in for game 2 of the east division semi f...</td>\n",
       "      <td>Sat Aug 06 23:58:04 +0000 2016</td>\n",
       "      <td>Orleans, MA</td>\n",
       "      <td>1</td>\n",
       "      <td>0</td>\n",
       "      <td>41.789827</td>\n",
       "      <td>-69.989739</td>\n",
       "      <td>2016-08-06</td>\n",
       "      <td>0.15</td>\n",
       "      <td>108614.596426</td>\n",
       "      <td>Loss</td>\n",
       "      <td>356370.643701</td>\n",
       "      <td>0.0</td>\n",
       "    </tr>\n",
       "    <tr>\n",
       "      <th>12</th>\n",
       "      <td>Boston Red Sox offense struggles again, shut o...</td>\n",
       "      <td>Sat Aug 06 23:57:02 +0000 2016</td>\n",
       "      <td>Boston, MA</td>\n",
       "      <td>0</td>\n",
       "      <td>0</td>\n",
       "      <td>42.358428</td>\n",
       "      <td>-71.059766</td>\n",
       "      <td>2016-08-06</td>\n",
       "      <td>0.00</td>\n",
       "      <td>0.000000</td>\n",
       "      <td>Loss</td>\n",
       "      <td>305840.192695</td>\n",
       "      <td>0.0</td>\n",
       "    </tr>\n",
       "    <tr>\n",
       "      <th>26</th>\n",
       "      <td>RT @RedSox: #BigPapi’s still got it! https://t...</td>\n",
       "      <td>Sat Aug 06 23:52:42 +0000 2016</td>\n",
       "      <td>Fall River, MA. USA</td>\n",
       "      <td>173</td>\n",
       "      <td>0</td>\n",
       "      <td>41.701486</td>\n",
       "      <td>-71.155050</td>\n",
       "      <td>2016-08-06</td>\n",
       "      <td>0.00</td>\n",
       "      <td>73471.283012</td>\n",
       "      <td>Loss</td>\n",
       "      <td>262524.780066</td>\n",
       "      <td>0.0</td>\n",
       "    </tr>\n",
       "    <tr>\n",
       "      <th>41</th>\n",
       "      <td>RT @985TheSportsHub: #RedSox bats silenced in ...</td>\n",
       "      <td>Sat Aug 06 23:46:37 +0000 2016</td>\n",
       "      <td>Massachusetts, USA</td>\n",
       "      <td>3</td>\n",
       "      <td>0</td>\n",
       "      <td>42.365650</td>\n",
       "      <td>-71.108317</td>\n",
       "      <td>2016-08-06</td>\n",
       "      <td>0.00</td>\n",
       "      <td>4069.055923</td>\n",
       "      <td>Loss</td>\n",
       "      <td>303086.014859</td>\n",
       "      <td>0.0</td>\n",
       "    </tr>\n",
       "  </tbody>\n",
       "</table>\n",
       "</div>"
      ],
      "text/plain": [
       "                                                 text  \\\n",
       "4                          @aidancab @RedSox foreal 😴   \n",
       "8   Tune in for game 2 of the east division semi f...   \n",
       "12  Boston Red Sox offense struggles again, shut o...   \n",
       "26  RT @RedSox: #BigPapi’s still got it! https://t...   \n",
       "41  RT @985TheSportsHub: #RedSox bats silenced in ...   \n",
       "\n",
       "                        created_at              location  retweet_count  \\\n",
       "4   Sat Aug 06 23:59:19 +0000 2016                    MA              0   \n",
       "8   Sat Aug 06 23:58:04 +0000 2016           Orleans, MA              1   \n",
       "12  Sat Aug 06 23:57:02 +0000 2016            Boston, MA              0   \n",
       "26  Sat Aug 06 23:52:42 +0000 2016  Fall River, MA. USA             173   \n",
       "41  Sat Aug 06 23:46:37 +0000 2016    Massachusetts, USA              3   \n",
       "\n",
       "    favorite_count   latitude  longitude      dates  sentiment  \\\n",
       "4                1  42.365650 -71.108317 2016-08-06       0.00   \n",
       "8                0  41.789827 -69.989739 2016-08-06       0.15   \n",
       "12               0  42.358428 -71.059766 2016-08-06       0.00   \n",
       "26               0  41.701486 -71.155050 2016-08-06       0.00   \n",
       "41               0  42.365650 -71.108317 2016-08-06       0.00   \n",
       "\n",
       "    hav_distance_boston outcome  hav_distance_ny  win  \n",
       "4           4069.055923    Loss    303086.014859  0.0  \n",
       "8         108614.596426    Loss    356370.643701  0.0  \n",
       "12             0.000000    Loss    305840.192695  0.0  \n",
       "26         73471.283012    Loss    262524.780066  0.0  \n",
       "41          4069.055923    Loss    303086.014859  0.0  "
      ]
     },
     "execution_count": 541,
     "metadata": {},
     "output_type": "execute_result"
    }
   ],
   "source": [
    "df_redsox_dist_1.head()"
   ]
  },
  {
   "cell_type": "code",
   "execution_count": 589,
   "metadata": {
    "collapsed": false
   },
   "outputs": [
    {
     "data": {
      "text/plain": [
       "1.0    1164\n",
       "0.0    1004\n",
       "Name: win, dtype: int64"
      ]
     },
     "execution_count": 589,
     "metadata": {},
     "output_type": "execute_result"
    }
   ],
   "source": [
    "df_redsox_dist_1['win'].value_counts()"
   ]
  },
  {
   "cell_type": "code",
   "execution_count": 542,
   "metadata": {
    "collapsed": false
   },
   "outputs": [],
   "source": [
    "df_tweets_dist_1 = df_redsox_dist_1['text']\n",
    "clean_tweets = []\n",
    "for tweet in df_tweets_dist_1:\n",
    "    tweet_clean = re.sub(r'(?:\\@|https?\\://)\\S+', '', tweet)\n",
    "    tweet_clean = re.sub(r'[1-9]','', tweet_clean)\n",
    "    tweet_clean = re.sub(r'\\w*\\d\\w*', '', tweet_clean)\n",
    "    clean_tweets.append(tweet_clean)\n",
    "\n",
    "df_clean_dist_1 = pd.Series(clean_tweets)"
   ]
  },
  {
   "cell_type": "code",
   "execution_count": 543,
   "metadata": {
    "collapsed": false
   },
   "outputs": [],
   "source": [
    "# Stopwords.\n",
    "from nltk.corpus import stopwords\n",
    "stop = set(stopwords.words('english'))\n",
    "# Add stopwords.\n",
    "stop.update(['00', '000', '04', '05', '06', '08', '10', '100', '1000', '103', '104', '105', '10th', '10x1',\n",
    "            '11', '115', '117', '12', '13', '14', '140', '15', '150'])"
   ]
  },
  {
   "cell_type": "code",
   "execution_count": 544,
   "metadata": {
    "collapsed": false
   },
   "outputs": [
    {
     "name": "stdout",
     "output_type": "stream",
     "text": [
      "(2168, 3098)\n"
     ]
    },
    {
     "data": {
      "text/html": [
       "<div>\n",
       "<table border=\"1\" class=\"dataframe\">\n",
       "  <thead>\n",
       "    <tr style=\"text-align: right;\">\n",
       "      <th></th>\n",
       "      <th>aa</th>\n",
       "      <th>aaa</th>\n",
       "      <th>aaron</th>\n",
       "      <th>ab</th>\n",
       "      <th>abandon</th>\n",
       "      <th>able</th>\n",
       "      <th>aboard</th>\n",
       "      <th>absolute</th>\n",
       "      <th>absolutely</th>\n",
       "      <th>abysmal</th>\n",
       "      <th>...</th>\n",
       "      <th>york</th>\n",
       "      <th>young</th>\n",
       "      <th>youtube</th>\n",
       "      <th>yovani</th>\n",
       "      <th>yr</th>\n",
       "      <th>yrs</th>\n",
       "      <th>yup</th>\n",
       "      <th>zach</th>\n",
       "      <th>zack</th>\n",
       "      <th>zero</th>\n",
       "    </tr>\n",
       "  </thead>\n",
       "  <tbody>\n",
       "    <tr>\n",
       "      <th>0</th>\n",
       "      <td>0</td>\n",
       "      <td>0</td>\n",
       "      <td>0</td>\n",
       "      <td>0</td>\n",
       "      <td>0</td>\n",
       "      <td>0</td>\n",
       "      <td>0</td>\n",
       "      <td>0</td>\n",
       "      <td>0</td>\n",
       "      <td>0</td>\n",
       "      <td>...</td>\n",
       "      <td>0</td>\n",
       "      <td>0</td>\n",
       "      <td>0</td>\n",
       "      <td>0</td>\n",
       "      <td>0</td>\n",
       "      <td>0</td>\n",
       "      <td>0</td>\n",
       "      <td>0</td>\n",
       "      <td>0</td>\n",
       "      <td>0</td>\n",
       "    </tr>\n",
       "    <tr>\n",
       "      <th>1</th>\n",
       "      <td>0</td>\n",
       "      <td>0</td>\n",
       "      <td>0</td>\n",
       "      <td>0</td>\n",
       "      <td>0</td>\n",
       "      <td>0</td>\n",
       "      <td>0</td>\n",
       "      <td>0</td>\n",
       "      <td>0</td>\n",
       "      <td>0</td>\n",
       "      <td>...</td>\n",
       "      <td>0</td>\n",
       "      <td>0</td>\n",
       "      <td>0</td>\n",
       "      <td>0</td>\n",
       "      <td>0</td>\n",
       "      <td>0</td>\n",
       "      <td>0</td>\n",
       "      <td>0</td>\n",
       "      <td>0</td>\n",
       "      <td>0</td>\n",
       "    </tr>\n",
       "    <tr>\n",
       "      <th>2</th>\n",
       "      <td>0</td>\n",
       "      <td>0</td>\n",
       "      <td>0</td>\n",
       "      <td>0</td>\n",
       "      <td>0</td>\n",
       "      <td>0</td>\n",
       "      <td>0</td>\n",
       "      <td>0</td>\n",
       "      <td>0</td>\n",
       "      <td>0</td>\n",
       "      <td>...</td>\n",
       "      <td>0</td>\n",
       "      <td>0</td>\n",
       "      <td>0</td>\n",
       "      <td>0</td>\n",
       "      <td>0</td>\n",
       "      <td>0</td>\n",
       "      <td>0</td>\n",
       "      <td>0</td>\n",
       "      <td>0</td>\n",
       "      <td>0</td>\n",
       "    </tr>\n",
       "    <tr>\n",
       "      <th>3</th>\n",
       "      <td>0</td>\n",
       "      <td>0</td>\n",
       "      <td>0</td>\n",
       "      <td>0</td>\n",
       "      <td>0</td>\n",
       "      <td>0</td>\n",
       "      <td>0</td>\n",
       "      <td>0</td>\n",
       "      <td>0</td>\n",
       "      <td>0</td>\n",
       "      <td>...</td>\n",
       "      <td>0</td>\n",
       "      <td>0</td>\n",
       "      <td>0</td>\n",
       "      <td>0</td>\n",
       "      <td>0</td>\n",
       "      <td>0</td>\n",
       "      <td>0</td>\n",
       "      <td>0</td>\n",
       "      <td>0</td>\n",
       "      <td>0</td>\n",
       "    </tr>\n",
       "    <tr>\n",
       "      <th>4</th>\n",
       "      <td>0</td>\n",
       "      <td>0</td>\n",
       "      <td>0</td>\n",
       "      <td>0</td>\n",
       "      <td>0</td>\n",
       "      <td>0</td>\n",
       "      <td>0</td>\n",
       "      <td>0</td>\n",
       "      <td>0</td>\n",
       "      <td>0</td>\n",
       "      <td>...</td>\n",
       "      <td>0</td>\n",
       "      <td>0</td>\n",
       "      <td>0</td>\n",
       "      <td>0</td>\n",
       "      <td>0</td>\n",
       "      <td>0</td>\n",
       "      <td>0</td>\n",
       "      <td>0</td>\n",
       "      <td>0</td>\n",
       "      <td>0</td>\n",
       "    </tr>\n",
       "  </tbody>\n",
       "</table>\n",
       "<p>5 rows × 3098 columns</p>\n",
       "</div>"
      ],
      "text/plain": [
       "   aa  aaa  aaron  ab  abandon  able  aboard  absolute  absolutely  abysmal  \\\n",
       "0   0    0      0   0        0     0       0         0           0        0   \n",
       "1   0    0      0   0        0     0       0         0           0        0   \n",
       "2   0    0      0   0        0     0       0         0           0        0   \n",
       "3   0    0      0   0        0     0       0         0           0        0   \n",
       "4   0    0      0   0        0     0       0         0           0        0   \n",
       "\n",
       "   ...   york  young  youtube  yovani  yr  yrs  yup  zach  zack  zero  \n",
       "0  ...      0      0        0       0   0    0    0     0     0     0  \n",
       "1  ...      0      0        0       0   0    0    0     0     0     0  \n",
       "2  ...      0      0        0       0   0    0    0     0     0     0  \n",
       "3  ...      0      0        0       0   0    0    0     0     0     0  \n",
       "4  ...      0      0        0       0   0    0    0     0     0     0  \n",
       "\n",
       "[5 rows x 3098 columns]"
      ]
     },
     "execution_count": 544,
     "metadata": {},
     "output_type": "execute_result"
    }
   ],
   "source": [
    "vectorizer = CountVectorizer(analyzer = \"word\", stop_words = stop, max_features = 4000) \n",
    "v_text = vectorizer.fit_transform(df_clean_dist_1)\n",
    "# Transform the sparse matrix into a dataframe\n",
    "df_text = pd.DataFrame(v_text.todense(), columns=vectorizer.get_feature_names())\n",
    "print(df_text.shape)\n",
    "df_text.head()"
   ]
  },
  {
   "cell_type": "markdown",
   "metadata": {},
   "source": [
    "Great, 'CountVectorizer' is working, so now let's split the data into training and test data. We'll split the data so that each day's worth of data has a turn as the test data and we train on the other ten days of data."
   ]
  },
  {
   "cell_type": "code",
   "execution_count": 608,
   "metadata": {
    "collapsed": false
   },
   "outputs": [],
   "source": [
    "df_test_dist_1 = df_redsox_dist_1[df_redsox_dist_1['dates'] == '2016-08-06']\n",
    "df_train_dist_1 = df_redsox_dist_1[df_redsox_dist_1['dates'] != '2016-08-06']\n",
    "y_test_dist_1 = df_test_dist_1['win']\n",
    "y_train_dist_1 = df_train_dist_1['win']"
   ]
  },
  {
   "cell_type": "code",
   "execution_count": 609,
   "metadata": {
    "collapsed": false
   },
   "outputs": [
    {
     "name": "stdout",
     "output_type": "stream",
     "text": [
      "2016-08-06    178\n",
      "Name: dates, dtype: int64\n",
      "2016-08-11    240\n",
      "2016-08-12    239\n",
      "2016-08-13    230\n",
      "2016-08-09    229\n",
      "2016-08-08    219\n",
      "2016-08-10    207\n",
      "2016-08-16    194\n",
      "2016-08-07    160\n",
      "2016-08-14    136\n",
      "2016-08-15    136\n",
      "Name: dates, dtype: int64\n"
     ]
    }
   ],
   "source": [
    "print(df_test_dist_1['dates'].value_counts())\n",
    "print(df_train_dist_1['dates'].value_counts())"
   ]
  },
  {
   "cell_type": "code",
   "execution_count": 610,
   "metadata": {
    "collapsed": false
   },
   "outputs": [
    {
     "data": {
      "text/plain": [
       "True"
      ]
     },
     "execution_count": 610,
     "metadata": {},
     "output_type": "execute_result"
    }
   ],
   "source": [
    "df_test_dist_1.shape[0] + df_train_dist_1.shape[0] == df_redsox_dist_1.shape[0]"
   ]
  },
  {
   "cell_type": "code",
   "execution_count": 611,
   "metadata": {
    "collapsed": false
   },
   "outputs": [
    {
     "data": {
      "text/plain": [
       "True"
      ]
     },
     "execution_count": 611,
     "metadata": {},
     "output_type": "execute_result"
    }
   ],
   "source": [
    "df_test_dist_1.shape[0] == y_test_dist_1.shape[0]"
   ]
  },
  {
   "cell_type": "code",
   "execution_count": 612,
   "metadata": {
    "collapsed": false
   },
   "outputs": [
    {
     "data": {
      "text/plain": [
       "True"
      ]
     },
     "execution_count": 612,
     "metadata": {},
     "output_type": "execute_result"
    }
   ],
   "source": [
    "df_train_dist_1.shape[0] == y_train_dist_1.shape[0]"
   ]
  },
  {
   "cell_type": "code",
   "execution_count": 613,
   "metadata": {
    "collapsed": false
   },
   "outputs": [
    {
     "name": "stdout",
     "output_type": "stream",
     "text": [
      "[ 0.]\n",
      "[ 0.  1.]\n"
     ]
    }
   ],
   "source": [
    "print(y_test_dist_1.unique())\n",
    "print(y_train_dist_1.unique())"
   ]
  },
  {
   "cell_type": "code",
   "execution_count": 614,
   "metadata": {
    "collapsed": true
   },
   "outputs": [],
   "source": [
    "# Clean training data.\n",
    "df_tweets_train_dist_1 = df_train_dist_1['text']\n",
    "clean_tweets = []\n",
    "for tweet in df_tweets_train_dist_1:\n",
    "    tweet_clean = re.sub(r'(?:\\@|https?\\://)\\S+', '', tweet)\n",
    "    tweet_clean = re.sub(r'[1-9]','', tweet_clean)\n",
    "    tweet_clean = re.sub(r'\\w*\\d\\w*', '', tweet_clean)\n",
    "    clean_tweets.append(tweet_clean)\n",
    "\n",
    "df_clean_train_dist_1 = pd.Series(clean_tweets)\n",
    "\n",
    "# Clean test data.\n",
    "df_tweets_test_dist_1 = df_test_dist_1['text']\n",
    "clean_tweets = []\n",
    "for tweet in df_tweets_test_dist_1:\n",
    "    tweet_clean = re.sub(r'(?:\\@|https?\\://)\\S+', '', tweet)\n",
    "    tweet_clean = re.sub(r'[1-9]','', tweet_clean)\n",
    "    tweet_clean = re.sub(r'\\w*\\d\\w*', '', tweet_clean)\n",
    "    clean_tweets.append(tweet_clean)\n",
    "\n",
    "df_clean_test_dist_1 = pd.Series(clean_tweets)"
   ]
  },
  {
   "cell_type": "code",
   "execution_count": 615,
   "metadata": {
    "collapsed": true
   },
   "outputs": [],
   "source": [
    "# Stopwords.\n",
    "from nltk.corpus import stopwords\n",
    "stop = set(stopwords.words('english'))\n",
    "# Add stopwords.\n",
    "stop.update(['00', '000', '04', '05', '06', '08', '10', '100', '1000', '103', '104', '105', '10th', '10x1',\n",
    "            '11', '115', '117', '12', '13', '14', '140', '15', '150'])"
   ]
  },
  {
   "cell_type": "code",
   "execution_count": 616,
   "metadata": {
    "collapsed": false
   },
   "outputs": [
    {
     "name": "stdout",
     "output_type": "stream",
     "text": [
      "(1990, 2926)\n"
     ]
    },
    {
     "data": {
      "text/html": [
       "<div>\n",
       "<table border=\"1\" class=\"dataframe\">\n",
       "  <thead>\n",
       "    <tr style=\"text-align: right;\">\n",
       "      <th></th>\n",
       "      <th>aa</th>\n",
       "      <th>aaa</th>\n",
       "      <th>aaron</th>\n",
       "      <th>ab</th>\n",
       "      <th>abandon</th>\n",
       "      <th>able</th>\n",
       "      <th>aboard</th>\n",
       "      <th>absolute</th>\n",
       "      <th>absolutely</th>\n",
       "      <th>abysmal</th>\n",
       "      <th>...</th>\n",
       "      <th>yoga</th>\n",
       "      <th>york</th>\n",
       "      <th>young</th>\n",
       "      <th>youtube</th>\n",
       "      <th>yovani</th>\n",
       "      <th>yrs</th>\n",
       "      <th>yup</th>\n",
       "      <th>zach</th>\n",
       "      <th>zack</th>\n",
       "      <th>zero</th>\n",
       "    </tr>\n",
       "  </thead>\n",
       "  <tbody>\n",
       "    <tr>\n",
       "      <th>0</th>\n",
       "      <td>0</td>\n",
       "      <td>0</td>\n",
       "      <td>0</td>\n",
       "      <td>0</td>\n",
       "      <td>0</td>\n",
       "      <td>0</td>\n",
       "      <td>0</td>\n",
       "      <td>0</td>\n",
       "      <td>0</td>\n",
       "      <td>0</td>\n",
       "      <td>...</td>\n",
       "      <td>0</td>\n",
       "      <td>0</td>\n",
       "      <td>0</td>\n",
       "      <td>0</td>\n",
       "      <td>0</td>\n",
       "      <td>0</td>\n",
       "      <td>0</td>\n",
       "      <td>0</td>\n",
       "      <td>0</td>\n",
       "      <td>0</td>\n",
       "    </tr>\n",
       "    <tr>\n",
       "      <th>1</th>\n",
       "      <td>0</td>\n",
       "      <td>0</td>\n",
       "      <td>0</td>\n",
       "      <td>0</td>\n",
       "      <td>0</td>\n",
       "      <td>0</td>\n",
       "      <td>0</td>\n",
       "      <td>0</td>\n",
       "      <td>0</td>\n",
       "      <td>0</td>\n",
       "      <td>...</td>\n",
       "      <td>0</td>\n",
       "      <td>0</td>\n",
       "      <td>0</td>\n",
       "      <td>0</td>\n",
       "      <td>0</td>\n",
       "      <td>0</td>\n",
       "      <td>0</td>\n",
       "      <td>0</td>\n",
       "      <td>0</td>\n",
       "      <td>0</td>\n",
       "    </tr>\n",
       "    <tr>\n",
       "      <th>2</th>\n",
       "      <td>0</td>\n",
       "      <td>0</td>\n",
       "      <td>0</td>\n",
       "      <td>0</td>\n",
       "      <td>0</td>\n",
       "      <td>0</td>\n",
       "      <td>0</td>\n",
       "      <td>0</td>\n",
       "      <td>0</td>\n",
       "      <td>0</td>\n",
       "      <td>...</td>\n",
       "      <td>0</td>\n",
       "      <td>0</td>\n",
       "      <td>0</td>\n",
       "      <td>0</td>\n",
       "      <td>0</td>\n",
       "      <td>0</td>\n",
       "      <td>0</td>\n",
       "      <td>0</td>\n",
       "      <td>0</td>\n",
       "      <td>0</td>\n",
       "    </tr>\n",
       "    <tr>\n",
       "      <th>3</th>\n",
       "      <td>0</td>\n",
       "      <td>0</td>\n",
       "      <td>0</td>\n",
       "      <td>0</td>\n",
       "      <td>0</td>\n",
       "      <td>0</td>\n",
       "      <td>0</td>\n",
       "      <td>0</td>\n",
       "      <td>0</td>\n",
       "      <td>0</td>\n",
       "      <td>...</td>\n",
       "      <td>0</td>\n",
       "      <td>0</td>\n",
       "      <td>0</td>\n",
       "      <td>0</td>\n",
       "      <td>0</td>\n",
       "      <td>0</td>\n",
       "      <td>0</td>\n",
       "      <td>0</td>\n",
       "      <td>0</td>\n",
       "      <td>0</td>\n",
       "    </tr>\n",
       "    <tr>\n",
       "      <th>4</th>\n",
       "      <td>0</td>\n",
       "      <td>0</td>\n",
       "      <td>0</td>\n",
       "      <td>0</td>\n",
       "      <td>0</td>\n",
       "      <td>0</td>\n",
       "      <td>0</td>\n",
       "      <td>0</td>\n",
       "      <td>1</td>\n",
       "      <td>0</td>\n",
       "      <td>...</td>\n",
       "      <td>0</td>\n",
       "      <td>0</td>\n",
       "      <td>0</td>\n",
       "      <td>0</td>\n",
       "      <td>0</td>\n",
       "      <td>0</td>\n",
       "      <td>0</td>\n",
       "      <td>0</td>\n",
       "      <td>0</td>\n",
       "      <td>0</td>\n",
       "    </tr>\n",
       "  </tbody>\n",
       "</table>\n",
       "<p>5 rows × 2926 columns</p>\n",
       "</div>"
      ],
      "text/plain": [
       "   aa  aaa  aaron  ab  abandon  able  aboard  absolute  absolutely  abysmal  \\\n",
       "0   0    0      0   0        0     0       0         0           0        0   \n",
       "1   0    0      0   0        0     0       0         0           0        0   \n",
       "2   0    0      0   0        0     0       0         0           0        0   \n",
       "3   0    0      0   0        0     0       0         0           0        0   \n",
       "4   0    0      0   0        0     0       0         0           1        0   \n",
       "\n",
       "   ...   yoga  york  young  youtube  yovani  yrs  yup  zach  zack  zero  \n",
       "0  ...      0     0      0        0       0    0    0     0     0     0  \n",
       "1  ...      0     0      0        0       0    0    0     0     0     0  \n",
       "2  ...      0     0      0        0       0    0    0     0     0     0  \n",
       "3  ...      0     0      0        0       0    0    0     0     0     0  \n",
       "4  ...      0     0      0        0       0    0    0     0     0     0  \n",
       "\n",
       "[5 rows x 2926 columns]"
      ]
     },
     "execution_count": 616,
     "metadata": {},
     "output_type": "execute_result"
    }
   ],
   "source": [
    "vectorizer = CountVectorizer(analyzer = \"word\", stop_words = stop, max_features = 4000) \n",
    "v_text_train = vectorizer.fit_transform(df_clean_train_dist_1)\n",
    "v_text_test = vectorizer.transform(df_clean_test_dist_1)\n",
    "\n",
    "# Transform the sparse matrix into a dataframe\n",
    "df_text_train = pd.DataFrame(v_text_train.todense(), columns=vectorizer.get_feature_names())\n",
    "df_text_test = pd.DataFrame(v_text_test.todense(), columns=vectorizer.get_feature_names())\n",
    "print(df_text_train.shape)\n",
    "df_text_train.head()"
   ]
  },
  {
   "cell_type": "code",
   "execution_count": 617,
   "metadata": {
    "collapsed": false
   },
   "outputs": [
    {
     "name": "stdout",
     "output_type": "stream",
     "text": [
      "(178, 2926)\n"
     ]
    },
    {
     "data": {
      "text/html": [
       "<div>\n",
       "<table border=\"1\" class=\"dataframe\">\n",
       "  <thead>\n",
       "    <tr style=\"text-align: right;\">\n",
       "      <th></th>\n",
       "      <th>aa</th>\n",
       "      <th>aaa</th>\n",
       "      <th>aaron</th>\n",
       "      <th>ab</th>\n",
       "      <th>abandon</th>\n",
       "      <th>able</th>\n",
       "      <th>aboard</th>\n",
       "      <th>absolute</th>\n",
       "      <th>absolutely</th>\n",
       "      <th>abysmal</th>\n",
       "      <th>...</th>\n",
       "      <th>yoga</th>\n",
       "      <th>york</th>\n",
       "      <th>young</th>\n",
       "      <th>youtube</th>\n",
       "      <th>yovani</th>\n",
       "      <th>yrs</th>\n",
       "      <th>yup</th>\n",
       "      <th>zach</th>\n",
       "      <th>zack</th>\n",
       "      <th>zero</th>\n",
       "    </tr>\n",
       "  </thead>\n",
       "  <tbody>\n",
       "    <tr>\n",
       "      <th>0</th>\n",
       "      <td>0</td>\n",
       "      <td>0</td>\n",
       "      <td>0</td>\n",
       "      <td>0</td>\n",
       "      <td>0</td>\n",
       "      <td>0</td>\n",
       "      <td>0</td>\n",
       "      <td>0</td>\n",
       "      <td>0</td>\n",
       "      <td>0</td>\n",
       "      <td>...</td>\n",
       "      <td>0</td>\n",
       "      <td>0</td>\n",
       "      <td>0</td>\n",
       "      <td>0</td>\n",
       "      <td>0</td>\n",
       "      <td>0</td>\n",
       "      <td>0</td>\n",
       "      <td>0</td>\n",
       "      <td>0</td>\n",
       "      <td>0</td>\n",
       "    </tr>\n",
       "    <tr>\n",
       "      <th>1</th>\n",
       "      <td>0</td>\n",
       "      <td>0</td>\n",
       "      <td>0</td>\n",
       "      <td>0</td>\n",
       "      <td>0</td>\n",
       "      <td>0</td>\n",
       "      <td>0</td>\n",
       "      <td>0</td>\n",
       "      <td>0</td>\n",
       "      <td>0</td>\n",
       "      <td>...</td>\n",
       "      <td>0</td>\n",
       "      <td>0</td>\n",
       "      <td>0</td>\n",
       "      <td>0</td>\n",
       "      <td>0</td>\n",
       "      <td>0</td>\n",
       "      <td>0</td>\n",
       "      <td>0</td>\n",
       "      <td>0</td>\n",
       "      <td>0</td>\n",
       "    </tr>\n",
       "    <tr>\n",
       "      <th>2</th>\n",
       "      <td>0</td>\n",
       "      <td>0</td>\n",
       "      <td>0</td>\n",
       "      <td>0</td>\n",
       "      <td>0</td>\n",
       "      <td>0</td>\n",
       "      <td>0</td>\n",
       "      <td>0</td>\n",
       "      <td>0</td>\n",
       "      <td>0</td>\n",
       "      <td>...</td>\n",
       "      <td>0</td>\n",
       "      <td>0</td>\n",
       "      <td>0</td>\n",
       "      <td>0</td>\n",
       "      <td>0</td>\n",
       "      <td>0</td>\n",
       "      <td>0</td>\n",
       "      <td>0</td>\n",
       "      <td>0</td>\n",
       "      <td>0</td>\n",
       "    </tr>\n",
       "    <tr>\n",
       "      <th>3</th>\n",
       "      <td>0</td>\n",
       "      <td>0</td>\n",
       "      <td>0</td>\n",
       "      <td>0</td>\n",
       "      <td>0</td>\n",
       "      <td>0</td>\n",
       "      <td>0</td>\n",
       "      <td>0</td>\n",
       "      <td>0</td>\n",
       "      <td>0</td>\n",
       "      <td>...</td>\n",
       "      <td>0</td>\n",
       "      <td>0</td>\n",
       "      <td>0</td>\n",
       "      <td>0</td>\n",
       "      <td>0</td>\n",
       "      <td>0</td>\n",
       "      <td>0</td>\n",
       "      <td>0</td>\n",
       "      <td>0</td>\n",
       "      <td>0</td>\n",
       "    </tr>\n",
       "    <tr>\n",
       "      <th>4</th>\n",
       "      <td>0</td>\n",
       "      <td>0</td>\n",
       "      <td>0</td>\n",
       "      <td>0</td>\n",
       "      <td>0</td>\n",
       "      <td>0</td>\n",
       "      <td>0</td>\n",
       "      <td>0</td>\n",
       "      <td>0</td>\n",
       "      <td>0</td>\n",
       "      <td>...</td>\n",
       "      <td>0</td>\n",
       "      <td>0</td>\n",
       "      <td>0</td>\n",
       "      <td>0</td>\n",
       "      <td>0</td>\n",
       "      <td>0</td>\n",
       "      <td>0</td>\n",
       "      <td>0</td>\n",
       "      <td>0</td>\n",
       "      <td>0</td>\n",
       "    </tr>\n",
       "  </tbody>\n",
       "</table>\n",
       "<p>5 rows × 2926 columns</p>\n",
       "</div>"
      ],
      "text/plain": [
       "   aa  aaa  aaron  ab  abandon  able  aboard  absolute  absolutely  abysmal  \\\n",
       "0   0    0      0   0        0     0       0         0           0        0   \n",
       "1   0    0      0   0        0     0       0         0           0        0   \n",
       "2   0    0      0   0        0     0       0         0           0        0   \n",
       "3   0    0      0   0        0     0       0         0           0        0   \n",
       "4   0    0      0   0        0     0       0         0           0        0   \n",
       "\n",
       "   ...   yoga  york  young  youtube  yovani  yrs  yup  zach  zack  zero  \n",
       "0  ...      0     0      0        0       0    0    0     0     0     0  \n",
       "1  ...      0     0      0        0       0    0    0     0     0     0  \n",
       "2  ...      0     0      0        0       0    0    0     0     0     0  \n",
       "3  ...      0     0      0        0       0    0    0     0     0     0  \n",
       "4  ...      0     0      0        0       0    0    0     0     0     0  \n",
       "\n",
       "[5 rows x 2926 columns]"
      ]
     },
     "execution_count": 617,
     "metadata": {},
     "output_type": "execute_result"
    }
   ],
   "source": [
    "print(df_text_test.shape)\n",
    "df_text_test.head()"
   ]
  },
  {
   "cell_type": "code",
   "execution_count": 618,
   "metadata": {
    "collapsed": true
   },
   "outputs": [],
   "source": [
    "X_train_dist_1 = df_text_train\n",
    "X_test_dist_1 = df_text_test"
   ]
  },
  {
   "cell_type": "code",
   "execution_count": 619,
   "metadata": {
    "collapsed": false
   },
   "outputs": [
    {
     "data": {
      "text/plain": [
       "array([[  0, 109],\n",
       "       [  0,  69]])"
      ]
     },
     "execution_count": 619,
     "metadata": {},
     "output_type": "execute_result"
    }
   ],
   "source": [
    "# Random Forest Classification.\n",
    "from sklearn.ensemble import RandomForestClassifier\n",
    "from sklearn.metrics import roc_auc_score, accuracy_score, confusion_matrix\n",
    "from sklearn.metrics import roc_curve, auc, classification_report\n",
    "np.random.seed(9)\n",
    "forest = RandomForestClassifier(n_estimators = 400) \n",
    "forest.fit(X_train_dist_1, y_train_dist_1)\n",
    "y_hat = forest.predict(X_test_dist_1)\n",
    "confusion_matrix(y_hat, y_test_dist_1, labels=[1,0])"
   ]
  },
  {
   "cell_type": "code",
   "execution_count": 623,
   "metadata": {
    "collapsed": false
   },
   "outputs": [
    {
     "name": "stdout",
     "output_type": "stream",
     "text": [
      "AUC: 0.50\n",
      "             precision    recall  f1-score   support\n",
      "\n",
      "        0.0       1.00      0.39      0.56       178\n",
      "        1.0       0.00      0.00      0.00         0\n",
      "\n",
      "avg / total       1.00      0.39      0.56       178\n",
      "\n"
     ]
    },
    {
     "name": "stderr",
     "output_type": "stream",
     "text": [
      "//anaconda/lib/python3.5/site-packages/sklearn/metrics/ranking.py:538: UndefinedMetricWarning: No positive samples in y_true, true positive value should be meaningless\n",
      "  UndefinedMetricWarning)\n",
      "//anaconda/lib/python3.5/site-packages/sklearn/metrics/classification.py:1076: UndefinedMetricWarning: Recall and F-score are ill-defined and being set to 0.0 in labels with no true samples.\n",
      "  'recall', 'true', average, warn_for)\n"
     ]
    }
   ],
   "source": [
    "y_hat_proba = forest.predict_proba(X_test_dist_1)\n",
    "rfc_fpr, rfc_tpr, thresholds = roc_curve(y_test_dist_1, y_hat_proba[:,1])\n",
    "rfc_roc_auc = roc_auc_score(y_hat, y_test_dist_1)\n",
    "print('AUC: %0.2f' % rfc_roc_auc)\n",
    "print(classification_report(y_test_dist_1, y_hat))"
   ]
  },
  {
   "cell_type": "code",
   "execution_count": 621,
   "metadata": {
    "collapsed": false
   },
   "outputs": [
    {
     "name": "stdout",
     "output_type": "stream",
     "text": [
      "[ 0.]\n",
      "[ 0.  1.]\n"
     ]
    }
   ],
   "source": [
    "print(y_test_dist_1.unique())\n",
    "print(y_train_dist_1.unique())"
   ]
  },
  {
   "cell_type": "markdown",
   "metadata": {},
   "source": [
    "That was one iteration with `dist_1` just to see the workflow, but now we'll loop over all test/train splits."
   ]
  },
  {
   "cell_type": "code",
   "execution_count": 641,
   "metadata": {
    "collapsed": true
   },
   "outputs": [],
   "source": [
    "from nltk.corpus import stopwords\n",
    "from sklearn.ensemble import RandomForestClassifier\n",
    "from sklearn.metrics import roc_auc_score, accuracy_score, confusion_matrix\n",
    "from sklearn.metrics import roc_curve, auc, classification_report\n",
    "np.random.seed(9)"
   ]
  },
  {
   "cell_type": "code",
   "execution_count": 649,
   "metadata": {
    "collapsed": false
   },
   "outputs": [
    {
     "data": {
      "text/plain": [
       "array(['2016-08-06T00:00:00.000000000', '2016-08-07T00:00:00.000000000',\n",
       "       '2016-08-08T00:00:00.000000000', '2016-08-09T00:00:00.000000000',\n",
       "       '2016-08-10T00:00:00.000000000', '2016-08-11T00:00:00.000000000',\n",
       "       '2016-08-12T00:00:00.000000000', '2016-08-13T00:00:00.000000000',\n",
       "       '2016-08-15T00:00:00.000000000', '2016-08-16T00:00:00.000000000',\n",
       "       '2016-08-14T00:00:00.000000000'], dtype='datetime64[ns]')"
      ]
     },
     "execution_count": 649,
     "metadata": {},
     "output_type": "execute_result"
    }
   ],
   "source": [
    "dates = df_redsox['dates'].unique()\n",
    "dates"
   ]
  },
  {
   "cell_type": "code",
   "execution_count": 650,
   "metadata": {
    "collapsed": false
   },
   "outputs": [
    {
     "name": "stdout",
     "output_type": "stream",
     "text": [
      "True\n",
      "False\n",
      "False\n",
      "False\n",
      "False\n",
      "False\n",
      "False\n",
      "False\n",
      "False\n",
      "False\n",
      "False\n"
     ]
    }
   ],
   "source": [
    "for date in dates:\n",
    "    print(df_redsox_dist_1['dates'].iloc[0] == date)"
   ]
  },
  {
   "cell_type": "code",
   "execution_count": 651,
   "metadata": {
    "collapsed": false
   },
   "outputs": [],
   "source": [
    "auc_scores = []\n",
    "for date in dates:\n",
    "    df_test_dist_1 = df_redsox_dist_1[df_redsox_dist_1['dates'] == date]\n",
    "    df_train_dist_1 = df_redsox_dist_1[df_redsox_dist_1['dates'] != date]\n",
    "    y_test_dist_1 = df_test_dist_1['win']\n",
    "    y_train_dist_1 = df_train_dist_1['win']\n",
    "\n",
    "    # Clean training data.\n",
    "    df_tweets_train_dist_1 = df_train_dist_1['text']\n",
    "    clean_tweets = []\n",
    "    for tweet in df_tweets_train_dist_1:\n",
    "        tweet_clean = re.sub(r'(?:\\@|https?\\://)\\S+', '', tweet)\n",
    "        tweet_clean = re.sub(r'[1-9]','', tweet_clean)\n",
    "        tweet_clean = re.sub(r'\\w*\\d\\w*', '', tweet_clean)\n",
    "        clean_tweets.append(tweet_clean)\n",
    "    df_clean_train_dist_1 = pd.Series(clean_tweets)\n",
    "\n",
    "    # Clean test data.\n",
    "    df_tweets_test_dist_1 = df_test_dist_1['text']\n",
    "    clean_tweets = []\n",
    "    for tweet in df_tweets_test_dist_1:\n",
    "        tweet_clean = re.sub(r'(?:\\@|https?\\://)\\S+', '', tweet)\n",
    "        tweet_clean = re.sub(r'[1-9]','', tweet_clean)\n",
    "        tweet_clean = re.sub(r'\\w*\\d\\w*', '', tweet_clean)\n",
    "        clean_tweets.append(tweet_clean)\n",
    "    df_clean_test_dist_1 = pd.Series(clean_tweets)\n",
    "\n",
    "    # Stopwords.\n",
    "    stop = set(stopwords.words('english'))\n",
    "    # Add stopwords.\n",
    "    stop.update(['00', '000', '04', '05', '06', '08', '10', '100', '1000', '103', '104', '105', '10th', '10x1',\n",
    "                '11', '115', '117', '12', '13', '14', '140', '15', '150'])\n",
    "\n",
    "    # Vectorizer.\n",
    "    vectorizer = CountVectorizer(analyzer = \"word\", stop_words = stop, max_features = 4000) \n",
    "    v_text_train = vectorizer.fit_transform(df_clean_train_dist_1)\n",
    "    v_text_test = vectorizer.transform(df_clean_test_dist_1)\n",
    "\n",
    "    # Transform the sparse matrix into a dataframe\n",
    "    df_text_train = pd.DataFrame(v_text_train.todense(), columns=vectorizer.get_feature_names())\n",
    "    df_text_test = pd.DataFrame(v_text_test.todense(), columns=vectorizer.get_feature_names())\n",
    "\n",
    "    X_train_dist_1 = df_text_train\n",
    "    X_test_dist_1 = df_text_test\n",
    "\n",
    "    # Random Forest Classification.\n",
    "\n",
    "    forest = RandomForestClassifier(n_estimators = 400) \n",
    "    forest.fit(X_train_dist_1, y_train_dist_1)\n",
    "    y_hat = forest.predict(X_test_dist_1)\n",
    "    confusion_matrix(y_hat, y_test_dist_1, labels=[1,0])\n",
    "\n",
    "    rfc_roc_auc = roc_auc_score(y_hat, y_test_dist_1)\n",
    "    \n",
    "    auc_scores.append(rfc_roc_auc)"
   ]
  },
  {
   "cell_type": "code",
   "execution_count": 657,
   "metadata": {
    "collapsed": false
   },
   "outputs": [
    {
     "data": {
      "text/plain": [
       "[0.5, 0.5, 0.5, 0.5, 0.5, 0.5, 0.5, 0.5, 0.5, 0.5, 0.5]"
      ]
     },
     "execution_count": 657,
     "metadata": {},
     "output_type": "execute_result"
    }
   ],
   "source": [
    "# AUC scores after cross validation on dist_1 dataset. Something is wrong: bad data or bad analysis methods.\n",
    "auc_scores"
   ]
  },
  {
   "cell_type": "code",
   "execution_count": 659,
   "metadata": {
    "collapsed": false
   },
   "outputs": [],
   "source": [
    "auc_scores = []\n",
    "for date in dates:\n",
    "    df_test_dist_2 = df_redsox_dist_2[df_redsox_dist_2['dates'] == date]\n",
    "    df_train_dist_2 = df_redsox_dist_2[df_redsox_dist_2['dates'] != date]\n",
    "    y_test_dist_2 = df_test_dist_2['win']\n",
    "    y_train_dist_2 = df_train_dist_2['win']\n",
    "\n",
    "    # Clean training data.\n",
    "    df_tweets_train_dist_2 = df_train_dist_2['text']\n",
    "    clean_tweets = []\n",
    "    for tweet in df_tweets_train_dist_2:\n",
    "        tweet_clean = re.sub(r'(?:\\@|https?\\://)\\S+', '', tweet)\n",
    "        tweet_clean = re.sub(r'[1-9]','', tweet_clean)\n",
    "        tweet_clean = re.sub(r'\\w*\\d\\w*', '', tweet_clean)\n",
    "        clean_tweets.append(tweet_clean)\n",
    "    df_clean_train_dist_2 = pd.Series(clean_tweets)\n",
    "\n",
    "    # Clean test data.\n",
    "    df_tweets_test_dist_2 = df_test_dist_2['text']\n",
    "    clean_tweets = []\n",
    "    for tweet in df_tweets_test_dist_2:\n",
    "        tweet_clean = re.sub(r'(?:\\@|https?\\://)\\S+', '', tweet)\n",
    "        tweet_clean = re.sub(r'[1-9]','', tweet_clean)\n",
    "        tweet_clean = re.sub(r'\\w*\\d\\w*', '', tweet_clean)\n",
    "        clean_tweets.append(tweet_clean)\n",
    "    df_clean_test_dist_2 = pd.Series(clean_tweets)\n",
    "\n",
    "    # Stopwords.\n",
    "    stop = set(stopwords.words('english'))\n",
    "    # Add stopwords.\n",
    "    stop.update(['00', '000', '04', '05', '06', '08', '10', '100', '1000', '103', '104', '105', '10th', '10x1',\n",
    "                '11', '115', '117', '12', '13', '14', '140', '15', '150'])\n",
    "\n",
    "    # Vectorizer.\n",
    "    vectorizer = CountVectorizer(analyzer = \"word\", stop_words = stop, max_features = 4000) \n",
    "    v_text_train = vectorizer.fit_transform(df_clean_train_dist_2)\n",
    "    v_text_test = vectorizer.transform(df_clean_test_dist_2)\n",
    "\n",
    "    # Transform the sparse matrix into a dataframe\n",
    "    df_text_train = pd.DataFrame(v_text_train.todense(), columns=vectorizer.get_feature_names())\n",
    "    df_text_test = pd.DataFrame(v_text_test.todense(), columns=vectorizer.get_feature_names())\n",
    "\n",
    "    X_train_dist_2 = df_text_train\n",
    "    X_test_dist_2 = df_text_test\n",
    "\n",
    "    # Random Forest Classification.\n",
    "\n",
    "    forest = RandomForestClassifier(n_estimators = 400) \n",
    "    forest.fit(X_train_dist_2, y_train_dist_2)\n",
    "    y_hat = forest.predict(X_test_dist_2)\n",
    "    confusion_matrix(y_hat, y_test_dist_2, labels=[1,0])\n",
    "\n",
    "    rfc_roc_auc = roc_auc_score(y_hat, y_test_dist_2)\n",
    "    \n",
    "    auc_scores.append(rfc_roc_auc)"
   ]
  },
  {
   "cell_type": "code",
   "execution_count": 660,
   "metadata": {
    "collapsed": false
   },
   "outputs": [
    {
     "data": {
      "text/plain": [
       "[0.5, 0.5, 0.5, 0.5, 0.5, 0.5, 0.5, 0.5, 0.5, 0.5, 0.5]"
      ]
     },
     "execution_count": 660,
     "metadata": {},
     "output_type": "execute_result"
    }
   ],
   "source": [
    "# AUC scores after cross validation on dist_1 dataset. Something is wrong: bad data or bad analysis methods.\n",
    "auc_scores"
   ]
  },
  {
   "cell_type": "code",
   "execution_count": 661,
   "metadata": {
    "collapsed": true
   },
   "outputs": [],
   "source": [
    "auc_scores = []\n",
    "for date in dates:\n",
    "    df_test_dist_3 = df_redsox_dist_3[df_redsox_dist_3['dates'] == date]\n",
    "    df_train_dist_3 = df_redsox_dist_3[df_redsox_dist_3['dates'] != date]\n",
    "    y_test_dist_3 = df_test_dist_3['win']\n",
    "    y_train_dist_3 = df_train_dist_3['win']\n",
    "\n",
    "    # Clean training data.\n",
    "    df_tweets_train_dist_3 = df_train_dist_3['text']\n",
    "    clean_tweets = []\n",
    "    for tweet in df_tweets_train_dist_3:\n",
    "        tweet_clean = re.sub(r'(?:\\@|https?\\://)\\S+', '', tweet)\n",
    "        tweet_clean = re.sub(r'[1-9]','', tweet_clean)\n",
    "        tweet_clean = re.sub(r'\\w*\\d\\w*', '', tweet_clean)\n",
    "        clean_tweets.append(tweet_clean)\n",
    "    df_clean_train_dist_3 = pd.Series(clean_tweets)\n",
    "\n",
    "    # Clean test data.\n",
    "    df_tweets_test_dist_3 = df_test_dist_3['text']\n",
    "    clean_tweets = []\n",
    "    for tweet in df_tweets_test_dist_3:\n",
    "        tweet_clean = re.sub(r'(?:\\@|https?\\://)\\S+', '', tweet)\n",
    "        tweet_clean = re.sub(r'[1-9]','', tweet_clean)\n",
    "        tweet_clean = re.sub(r'\\w*\\d\\w*', '', tweet_clean)\n",
    "        clean_tweets.append(tweet_clean)\n",
    "    df_clean_test_dist_3 = pd.Series(clean_tweets)\n",
    "\n",
    "    # Stopwords.\n",
    "    stop = set(stopwords.words('english'))\n",
    "    # Add stopwords.\n",
    "    stop.update(['00', '000', '04', '05', '06', '08', '10', '100', '1000', '103', '104', '105', '10th', '10x1',\n",
    "                '11', '115', '117', '12', '13', '14', '140', '15', '150'])\n",
    "\n",
    "    # Vectorizer.\n",
    "    vectorizer = CountVectorizer(analyzer = \"word\", stop_words = stop, max_features = 4000) \n",
    "    v_text_train = vectorizer.fit_transform(df_clean_train_dist_3)\n",
    "    v_text_test = vectorizer.transform(df_clean_test_dist_3)\n",
    "\n",
    "    # Transform the sparse matrix into a dataframe\n",
    "    df_text_train = pd.DataFrame(v_text_train.todense(), columns=vectorizer.get_feature_names())\n",
    "    df_text_test = pd.DataFrame(v_text_test.todense(), columns=vectorizer.get_feature_names())\n",
    "\n",
    "    X_train_dist_3 = df_text_train\n",
    "    X_test_dist_3 = df_text_test\n",
    "\n",
    "    # Random Forest Classification.\n",
    "\n",
    "    forest = RandomForestClassifier(n_estimators = 400) \n",
    "    forest.fit(X_train_dist_3, y_train_dist_3)\n",
    "    y_hat = forest.predict(X_test_dist_3)\n",
    "    confusion_matrix(y_hat, y_test_dist_3, labels=[1,0])\n",
    "\n",
    "    rfc_roc_auc = roc_auc_score(y_hat, y_test_dist_3)\n",
    "    \n",
    "    auc_scores.append(rfc_roc_auc)"
   ]
  },
  {
   "cell_type": "code",
   "execution_count": 662,
   "metadata": {
    "collapsed": false
   },
   "outputs": [
    {
     "data": {
      "text/plain": [
       "[0.5, 0.5, 0.5, 0.5, 0.5, 0.5, 0.5, 0.5, 0.5, 0.5, 0.5]"
      ]
     },
     "execution_count": 662,
     "metadata": {},
     "output_type": "execute_result"
    }
   ],
   "source": [
    "# AUC scores after cross validation on dist_1 dataset. Something is wrong: bad data or bad analysis methods.\n",
    "auc_scores"
   ]
  },
  {
   "cell_type": "code",
   "execution_count": null,
   "metadata": {
    "collapsed": true
   },
   "outputs": [],
   "source": []
  }
 ],
 "metadata": {
  "kernelspec": {
   "display_name": "Python 3",
   "language": "python",
   "name": "python3"
  },
  "language_info": {
   "codemirror_mode": {
    "name": "ipython",
    "version": 3
   },
   "file_extension": ".py",
   "mimetype": "text/x-python",
   "name": "python",
   "nbconvert_exporter": "python",
   "pygments_lexer": "ipython3",
   "version": "3.5.2"
  }
 },
 "nbformat": 4,
 "nbformat_minor": 0
}
