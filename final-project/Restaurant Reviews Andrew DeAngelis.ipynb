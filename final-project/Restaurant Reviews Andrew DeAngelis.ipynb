{
 "cells": [
  {
   "cell_type": "markdown",
   "metadata": {},
   "source": [
    "# Part 1 - Ideas\n",
    "\n",
    "### The Problem\n",
    "<strong>Amazon Food Reviews -</strong> Determine the score based on the sentiment of the review<br>\n",
    "<strong>Yelp Reviews -</strong> Determine what type of food each user likes based on review sentiment and star ratings<br>\n",
    "<strong>NY Restaurant Reviews -</strong> Determine what makes a restaurant popular? Location, food, ambiance?\n",
    "\n",
    "### Data Sources\n",
    "<strong>Amazon Food Reviews -</strong> Kaggle <br>\n",
    "<strong>Yelp Reviews -</strong> Yelp\n",
    "<strong>NY Restaurant Reviews -</strong> Factual\n",
    "\n",
    "### Hypothesis\n",
    "<strong>Amazon Food Review -</strong> Using NLP to develop alogrithms that can predict the sentiment of the user review and placing that into a score. Success will be determined by the accuracy of the predicted score against the actual score. The summary will be used to predict the individual score.<br>\n",
    "\n",
    "<strong>Yelp Reviews -</strong> Using NLP to develop algorithms that can predict the category of restaurant that a user may like. Success wil be determined by testing the predictor model score against the review a user gives a restaurant. The model will predict food categories the user likes and that prediction will be used to see if the user likes a rated restaurant.\n",
    "\n",
    "<strong>NY Restaurant Reviews</strong> Using NLP to develop algorithms that can identify the categories that are predictors of the rating of a restaurant. Success will be determined by testing the model against the restaurant review. The model will determine the  score based on the weighting of the restaurant attributes.\n",
    "\n",
    "### Lightning Talk\n",
    "All three ideas will center around customer reviews of food or restaurants. The first idea is to build a model to identify the user score of a food product based on the sentiment of the review. The second idea is to build a model to determine the type of food each user likes based on their previous reviews of similar food categories. The third idea is to build a model to determine the restaurant attributes that make it popular."
   ]
  },
  {
   "cell_type": "code",
   "execution_count": null,
   "metadata": {
    "collapsed": true
   },
   "outputs": [],
   "source": []
  }
 ],
 "metadata": {
  "kernelspec": {
   "display_name": "Python 3",
   "language": "python",
   "name": "python3"
  },
  "language_info": {
   "codemirror_mode": {
    "name": "ipython",
    "version": 3
   },
   "file_extension": ".py",
   "mimetype": "text/x-python",
   "name": "python",
   "nbconvert_exporter": "python",
   "pygments_lexer": "ipython3",
   "version": "3.5.1"
  }
 },
 "nbformat": 4,
 "nbformat_minor": 0
}
