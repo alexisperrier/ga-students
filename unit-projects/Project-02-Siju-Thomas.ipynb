{
 "cells": [
  {
   "cell_type": "markdown",
   "metadata": {
    "collapsed": true
   },
   "source": [
    "### Step 1: Import Libraries"
   ]
  },
  {
   "cell_type": "code",
   "execution_count": 408,
   "metadata": {
    "collapsed": true
   },
   "outputs": [],
   "source": [
    "from sklearn.metrics import accuracy_score\n",
    "from sklearn.neighbors import NearestNeighbors\n",
    "from sklearn.neighbors import KNeighborsClassifier\n",
    "import pandas as pd\n",
    "import numpy as np"
   ]
  },
  {
   "cell_type": "markdown",
   "metadata": {},
   "source": [
    "### Step 2: Load the CSV as a Pandas Dataframe"
   ]
  },
  {
   "cell_type": "code",
   "execution_count": 409,
   "metadata": {
    "collapsed": false
   },
   "outputs": [
    {
     "data": {
      "text/html": [
       "<div>\n",
       "<table border=\"1\" class=\"dataframe\">\n",
       "  <thead>\n",
       "    <tr style=\"text-align: right;\">\n",
       "      <th></th>\n",
       "      <th>Unnamed: 0</th>\n",
       "      <th>Months since Last Donation</th>\n",
       "      <th>Number of Donations</th>\n",
       "      <th>Total Volume Donated (c.c.)</th>\n",
       "      <th>Months since First Donation</th>\n",
       "      <th>Made Donation in March 2007</th>\n",
       "    </tr>\n",
       "  </thead>\n",
       "  <tbody>\n",
       "    <tr>\n",
       "      <th>0</th>\n",
       "      <td>619</td>\n",
       "      <td>2</td>\n",
       "      <td>50</td>\n",
       "      <td>12500</td>\n",
       "      <td>98</td>\n",
       "      <td>1</td>\n",
       "    </tr>\n",
       "    <tr>\n",
       "      <th>1</th>\n",
       "      <td>664</td>\n",
       "      <td>0</td>\n",
       "      <td>13</td>\n",
       "      <td>3250</td>\n",
       "      <td>28</td>\n",
       "      <td>1</td>\n",
       "    </tr>\n",
       "    <tr>\n",
       "      <th>2</th>\n",
       "      <td>441</td>\n",
       "      <td>1</td>\n",
       "      <td>16</td>\n",
       "      <td>4000</td>\n",
       "      <td>35</td>\n",
       "      <td>1</td>\n",
       "    </tr>\n",
       "    <tr>\n",
       "      <th>3</th>\n",
       "      <td>160</td>\n",
       "      <td>2</td>\n",
       "      <td>20</td>\n",
       "      <td>5000</td>\n",
       "      <td>45</td>\n",
       "      <td>1</td>\n",
       "    </tr>\n",
       "    <tr>\n",
       "      <th>4</th>\n",
       "      <td>358</td>\n",
       "      <td>1</td>\n",
       "      <td>24</td>\n",
       "      <td>6000</td>\n",
       "      <td>77</td>\n",
       "      <td>0</td>\n",
       "    </tr>\n",
       "  </tbody>\n",
       "</table>\n",
       "</div>"
      ],
      "text/plain": [
       "   Unnamed: 0  Months since Last Donation  Number of Donations  \\\n",
       "0         619                           2                   50   \n",
       "1         664                           0                   13   \n",
       "2         441                           1                   16   \n",
       "3         160                           2                   20   \n",
       "4         358                           1                   24   \n",
       "\n",
       "   Total Volume Donated (c.c.)  Months since First Donation  \\\n",
       "0                        12500                           98   \n",
       "1                         3250                           28   \n",
       "2                         4000                           35   \n",
       "3                         5000                           45   \n",
       "4                         6000                           77   \n",
       "\n",
       "   Made Donation in March 2007  \n",
       "0                            1  \n",
       "1                            1  \n",
       "2                            1  \n",
       "3                            1  \n",
       "4                            0  "
      ]
     },
     "execution_count": 409,
     "metadata": {},
     "output_type": "execute_result"
    }
   ],
   "source": [
    "df = pd.read_csv('data/training_dataset.csv')\n",
    "df.head()"
   ]
  },
  {
   "cell_type": "markdown",
   "metadata": {},
   "source": [
    "### Step 3: Rename columns for ease of assignment and manipulation"
   ]
  },
  {
   "cell_type": "code",
   "execution_count": 410,
   "metadata": {
    "collapsed": false
   },
   "outputs": [
    {
     "data": {
      "text/html": [
       "<div>\n",
       "<table border=\"1\" class=\"dataframe\">\n",
       "  <thead>\n",
       "    <tr style=\"text-align: right;\">\n",
       "      <th></th>\n",
       "      <th>id</th>\n",
       "      <th>time_since_last</th>\n",
       "      <th>num_donations</th>\n",
       "      <th>volume</th>\n",
       "      <th>time_since_first</th>\n",
       "      <th>donated</th>\n",
       "    </tr>\n",
       "  </thead>\n",
       "  <tbody>\n",
       "    <tr>\n",
       "      <th>0</th>\n",
       "      <td>619</td>\n",
       "      <td>2</td>\n",
       "      <td>50</td>\n",
       "      <td>12500</td>\n",
       "      <td>98</td>\n",
       "      <td>1</td>\n",
       "    </tr>\n",
       "    <tr>\n",
       "      <th>1</th>\n",
       "      <td>664</td>\n",
       "      <td>0</td>\n",
       "      <td>13</td>\n",
       "      <td>3250</td>\n",
       "      <td>28</td>\n",
       "      <td>1</td>\n",
       "    </tr>\n",
       "    <tr>\n",
       "      <th>2</th>\n",
       "      <td>441</td>\n",
       "      <td>1</td>\n",
       "      <td>16</td>\n",
       "      <td>4000</td>\n",
       "      <td>35</td>\n",
       "      <td>1</td>\n",
       "    </tr>\n",
       "    <tr>\n",
       "      <th>3</th>\n",
       "      <td>160</td>\n",
       "      <td>2</td>\n",
       "      <td>20</td>\n",
       "      <td>5000</td>\n",
       "      <td>45</td>\n",
       "      <td>1</td>\n",
       "    </tr>\n",
       "    <tr>\n",
       "      <th>4</th>\n",
       "      <td>358</td>\n",
       "      <td>1</td>\n",
       "      <td>24</td>\n",
       "      <td>6000</td>\n",
       "      <td>77</td>\n",
       "      <td>0</td>\n",
       "    </tr>\n",
       "  </tbody>\n",
       "</table>\n",
       "</div>"
      ],
      "text/plain": [
       "    id  time_since_last  num_donations  volume  time_since_first  donated\n",
       "0  619                2             50   12500                98        1\n",
       "1  664                0             13    3250                28        1\n",
       "2  441                1             16    4000                35        1\n",
       "3  160                2             20    5000                45        1\n",
       "4  358                1             24    6000                77        0"
      ]
     },
     "execution_count": 410,
     "metadata": {},
     "output_type": "execute_result"
    }
   ],
   "source": [
    "df=df.rename(columns = {'Unnamed: 0':'id'})\n",
    "df=df.rename(columns = {'Months since Last Donation':'time_since_last'})\n",
    "df=df.rename(columns = {'Number of Donations':'num_donations'})\n",
    "df=df.rename(columns = {'Total Volume Donated (c.c.)':'volume'})\n",
    "df=df.rename(columns = {'Months since First Donation':'time_since_first'})\n",
    "df=df.rename(columns = {'Made Donation in March 2007':'donated'})\n",
    "df.head()"
   ]
  },
  {
   "cell_type": "markdown",
   "metadata": {},
   "source": [
    "### Step 4: Removing the Volume column due to multicollinearity"
   ]
  },
  {
   "cell_type": "code",
   "execution_count": 411,
   "metadata": {
    "collapsed": false
   },
   "outputs": [
    {
     "data": {
      "text/html": [
       "<div>\n",
       "<table border=\"1\" class=\"dataframe\">\n",
       "  <thead>\n",
       "    <tr style=\"text-align: right;\">\n",
       "      <th></th>\n",
       "      <th>id</th>\n",
       "      <th>time_since_last</th>\n",
       "      <th>num_donations</th>\n",
       "      <th>time_since_first</th>\n",
       "      <th>donated</th>\n",
       "    </tr>\n",
       "  </thead>\n",
       "  <tbody>\n",
       "    <tr>\n",
       "      <th>0</th>\n",
       "      <td>619</td>\n",
       "      <td>2</td>\n",
       "      <td>50</td>\n",
       "      <td>98</td>\n",
       "      <td>1</td>\n",
       "    </tr>\n",
       "    <tr>\n",
       "      <th>1</th>\n",
       "      <td>664</td>\n",
       "      <td>0</td>\n",
       "      <td>13</td>\n",
       "      <td>28</td>\n",
       "      <td>1</td>\n",
       "    </tr>\n",
       "    <tr>\n",
       "      <th>2</th>\n",
       "      <td>441</td>\n",
       "      <td>1</td>\n",
       "      <td>16</td>\n",
       "      <td>35</td>\n",
       "      <td>1</td>\n",
       "    </tr>\n",
       "    <tr>\n",
       "      <th>3</th>\n",
       "      <td>160</td>\n",
       "      <td>2</td>\n",
       "      <td>20</td>\n",
       "      <td>45</td>\n",
       "      <td>1</td>\n",
       "    </tr>\n",
       "    <tr>\n",
       "      <th>4</th>\n",
       "      <td>358</td>\n",
       "      <td>1</td>\n",
       "      <td>24</td>\n",
       "      <td>77</td>\n",
       "      <td>0</td>\n",
       "    </tr>\n",
       "  </tbody>\n",
       "</table>\n",
       "</div>"
      ],
      "text/plain": [
       "    id  time_since_last  num_donations  time_since_first  donated\n",
       "0  619                2             50                98        1\n",
       "1  664                0             13                28        1\n",
       "2  441                1             16                35        1\n",
       "3  160                2             20                45        1\n",
       "4  358                1             24                77        0"
      ]
     },
     "execution_count": 411,
     "metadata": {},
     "output_type": "execute_result"
    }
   ],
   "source": [
    "df.drop('volume', axis=1, inplace=True)\n",
    "df.head()"
   ]
  },
  {
   "cell_type": "markdown",
   "metadata": {},
   "source": [
    "## Approach A: Use KNN on the data with neither feature engineering nor transformation"
   ]
  },
  {
   "cell_type": "markdown",
   "metadata": {},
   "source": [
    "### Step A1: Setup the Dependent and Independent variables"
   ]
  },
  {
   "cell_type": "code",
   "execution_count": 412,
   "metadata": {
    "collapsed": false
   },
   "outputs": [],
   "source": [
    "X = df[ ['time_since_last','num_donations', 'time_since_first'] ].values\n",
    "y = df['donated'].values"
   ]
  },
  {
   "cell_type": "markdown",
   "metadata": {},
   "source": [
    "### Step A2: Split the training data into train and validation sets"
   ]
  },
  {
   "cell_type": "code",
   "execution_count": 413,
   "metadata": {
    "collapsed": false
   },
   "outputs": [
    {
     "name": "stdout",
     "output_type": "stream",
     "text": [
      "(460, 3)\n",
      "(116, 3)\n"
     ]
    }
   ],
   "source": [
    "from sklearn.cross_validation import train_test_split\n",
    "\n",
    "seed = 8\n",
    "test_size = 0.2\n",
    "X_train, X_valid, y_train, y_valid = train_test_split(X, y, test_size=test_size, random_state=seed)\n",
    "\n",
    "#X_valid, X_test, y_valid, y_test = train_test_split(X_temp, y_temp, test_size=0.5, random_state=seed)\n",
    "\n",
    "print(X_train.shape)\n",
    "print(X_valid.shape)"
   ]
  },
  {
   "cell_type": "markdown",
   "metadata": {},
   "source": [
    "### Step A3: Obtaining the best accuracy score for the Validation Set using KNN"
   ]
  },
  {
   "cell_type": "code",
   "execution_count": 414,
   "metadata": {
    "collapsed": false
   },
   "outputs": [
    {
     "name": "stdout",
     "output_type": "stream",
     "text": [
      "best accuracy score 0.73275862069\n",
      "2\n",
      "best accuracy score 0.75\n",
      "3\n",
      "best accuracy score 0.775862068966\n",
      "4\n",
      "best accuracy score 0.793103448276\n",
      "5\n"
     ]
    }
   ],
   "source": [
    "acc = []\n",
    "best_score = 0\n",
    "best_lm = 2\n",
    "for k in range(2,20, 1):\n",
    "    clf = KNeighborsClassifier(k)\n",
    "    clf.fit(X_train, y_train)\n",
    "    y_hat = clf.predict(X_valid)\n",
    "    score = accuracy_score(y_valid, y_hat )\n",
    "    acc.append(score)\n",
    "    if score > best_score:\n",
    "        best_lm = k\n",
    "        best_score = score\n",
    "        print(\"best accuracy score %s\"% (score))\n",
    "        print(best_lm)\n",
    "    #print(\"k: %s accuracy: %0.4f missed %s\"% (k, score, np.count_nonzero(y_hat - y_test))   )"
   ]
  },
  {
   "cell_type": "markdown",
   "metadata": {},
   "source": [
    "### Step A4: Rename columns on the \"TEST\" dataset for ease of assignment and manipulation"
   ]
  },
  {
   "cell_type": "code",
   "execution_count": 415,
   "metadata": {
    "collapsed": false
   },
   "outputs": [
    {
     "data": {
      "text/html": [
       "<div>\n",
       "<table border=\"1\" class=\"dataframe\">\n",
       "  <thead>\n",
       "    <tr style=\"text-align: right;\">\n",
       "      <th></th>\n",
       "      <th>id</th>\n",
       "      <th>time_since_last</th>\n",
       "      <th>num_donations</th>\n",
       "      <th>volume</th>\n",
       "      <th>time_since_first</th>\n",
       "    </tr>\n",
       "  </thead>\n",
       "  <tbody>\n",
       "    <tr>\n",
       "      <th>0</th>\n",
       "      <td>659</td>\n",
       "      <td>2</td>\n",
       "      <td>12</td>\n",
       "      <td>3000</td>\n",
       "      <td>52</td>\n",
       "    </tr>\n",
       "    <tr>\n",
       "      <th>1</th>\n",
       "      <td>276</td>\n",
       "      <td>21</td>\n",
       "      <td>7</td>\n",
       "      <td>1750</td>\n",
       "      <td>38</td>\n",
       "    </tr>\n",
       "    <tr>\n",
       "      <th>2</th>\n",
       "      <td>263</td>\n",
       "      <td>4</td>\n",
       "      <td>1</td>\n",
       "      <td>250</td>\n",
       "      <td>4</td>\n",
       "    </tr>\n",
       "    <tr>\n",
       "      <th>3</th>\n",
       "      <td>303</td>\n",
       "      <td>11</td>\n",
       "      <td>11</td>\n",
       "      <td>2750</td>\n",
       "      <td>38</td>\n",
       "    </tr>\n",
       "    <tr>\n",
       "      <th>4</th>\n",
       "      <td>83</td>\n",
       "      <td>4</td>\n",
       "      <td>12</td>\n",
       "      <td>3000</td>\n",
       "      <td>34</td>\n",
       "    </tr>\n",
       "  </tbody>\n",
       "</table>\n",
       "</div>"
      ],
      "text/plain": [
       "    id  time_since_last  num_donations  volume  time_since_first\n",
       "0  659                2             12    3000                52\n",
       "1  276               21              7    1750                38\n",
       "2  263                4              1     250                 4\n",
       "3  303               11             11    2750                38\n",
       "4   83                4             12    3000                34"
      ]
     },
     "execution_count": 415,
     "metadata": {},
     "output_type": "execute_result"
    }
   ],
   "source": [
    "\n",
    "df_test = pd.read_csv('data/test_dataset.csv')\n",
    "df_test=df_test.rename(columns = {'Unnamed: 0':'id'})\n",
    "df_test=df_test.rename(columns = {'Months since Last Donation':'time_since_last'})\n",
    "df_test=df_test.rename(columns = {'Number of Donations':'num_donations'})\n",
    "df_test=df_test.rename(columns = {'Total Volume Donated (c.c.)':'volume'})\n",
    "df_test=df_test.rename(columns = {'Months since First Donation':'time_since_first'})\n",
    "df_test=df_test.rename(columns = {'Made Donation in March 2007':'donated'})\n",
    "df_test.head()"
   ]
  },
  {
   "cell_type": "markdown",
   "metadata": {},
   "source": [
    "### Step A5: Removing the Volume colum on the \"TEST\" dataset due to multicollinearity"
   ]
  },
  {
   "cell_type": "code",
   "execution_count": 416,
   "metadata": {
    "collapsed": false
   },
   "outputs": [
    {
     "data": {
      "text/html": [
       "<div>\n",
       "<table border=\"1\" class=\"dataframe\">\n",
       "  <thead>\n",
       "    <tr style=\"text-align: right;\">\n",
       "      <th></th>\n",
       "      <th>id</th>\n",
       "      <th>time_since_last</th>\n",
       "      <th>num_donations</th>\n",
       "      <th>time_since_first</th>\n",
       "    </tr>\n",
       "  </thead>\n",
       "  <tbody>\n",
       "    <tr>\n",
       "      <th>0</th>\n",
       "      <td>659</td>\n",
       "      <td>2</td>\n",
       "      <td>12</td>\n",
       "      <td>52</td>\n",
       "    </tr>\n",
       "    <tr>\n",
       "      <th>1</th>\n",
       "      <td>276</td>\n",
       "      <td>21</td>\n",
       "      <td>7</td>\n",
       "      <td>38</td>\n",
       "    </tr>\n",
       "    <tr>\n",
       "      <th>2</th>\n",
       "      <td>263</td>\n",
       "      <td>4</td>\n",
       "      <td>1</td>\n",
       "      <td>4</td>\n",
       "    </tr>\n",
       "    <tr>\n",
       "      <th>3</th>\n",
       "      <td>303</td>\n",
       "      <td>11</td>\n",
       "      <td>11</td>\n",
       "      <td>38</td>\n",
       "    </tr>\n",
       "    <tr>\n",
       "      <th>4</th>\n",
       "      <td>83</td>\n",
       "      <td>4</td>\n",
       "      <td>12</td>\n",
       "      <td>34</td>\n",
       "    </tr>\n",
       "  </tbody>\n",
       "</table>\n",
       "</div>"
      ],
      "text/plain": [
       "    id  time_since_last  num_donations  time_since_first\n",
       "0  659                2             12                52\n",
       "1  276               21              7                38\n",
       "2  263                4              1                 4\n",
       "3  303               11             11                38\n",
       "4   83                4             12                34"
      ]
     },
     "execution_count": 416,
     "metadata": {},
     "output_type": "execute_result"
    }
   ],
   "source": [
    "df_test.drop('volume', axis=1, inplace=True)\n",
    "df_test.head()"
   ]
  },
  {
   "cell_type": "markdown",
   "metadata": {},
   "source": [
    "### Step A6: Predicting on the \"test\" data"
   ]
  },
  {
   "cell_type": "code",
   "execution_count": 417,
   "metadata": {
    "collapsed": false
   },
   "outputs": [],
   "source": [
    "X_test = df_test[ ['time_since_last','num_donations', 'time_since_first'] ].values\n",
    "\n",
    "#From the validation data\n",
    "k = 7 \n",
    "clf = KNeighborsClassifier(k)\n",
    "clf.fit(X_train, y_train)\n",
    "y_hat= clf.predict(X_test)"
   ]
  },
  {
   "cell_type": "markdown",
   "metadata": {},
   "source": [
    "### Step A7: Writing the predictions to the CSV file"
   ]
  },
  {
   "cell_type": "code",
   "execution_count": 418,
   "metadata": {
    "collapsed": false
   },
   "outputs": [
    {
     "data": {
      "text/html": [
       "<div>\n",
       "<table border=\"1\" class=\"dataframe\">\n",
       "  <thead>\n",
       "    <tr style=\"text-align: right;\">\n",
       "      <th></th>\n",
       "      <th></th>\n",
       "      <th>donated</th>\n",
       "    </tr>\n",
       "  </thead>\n",
       "  <tbody>\n",
       "    <tr>\n",
       "      <th>0</th>\n",
       "      <td>659</td>\n",
       "      <td>0</td>\n",
       "    </tr>\n",
       "    <tr>\n",
       "      <th>1</th>\n",
       "      <td>276</td>\n",
       "      <td>0</td>\n",
       "    </tr>\n",
       "    <tr>\n",
       "      <th>2</th>\n",
       "      <td>263</td>\n",
       "      <td>0</td>\n",
       "    </tr>\n",
       "    <tr>\n",
       "      <th>3</th>\n",
       "      <td>303</td>\n",
       "      <td>0</td>\n",
       "    </tr>\n",
       "    <tr>\n",
       "      <th>4</th>\n",
       "      <td>83</td>\n",
       "      <td>1</td>\n",
       "    </tr>\n",
       "  </tbody>\n",
       "</table>\n",
       "</div>"
      ],
      "text/plain": [
       "        donated\n",
       "0  659        0\n",
       "1  276        0\n",
       "2  263        0\n",
       "3  303        0\n",
       "4   83        1"
      ]
     },
     "execution_count": 418,
     "metadata": {},
     "output_type": "execute_result"
    }
   ],
   "source": [
    "#df_test.id\n",
    "#y_hat\n",
    "y2 = y_hat.reshape(-1,1)\n",
    "dfy2 = pd.DataFrame({'donated':y2[:,0],'': df_test['id']})\n",
    "dfy2.head()"
   ]
  },
  {
   "cell_type": "code",
   "execution_count": 419,
   "metadata": {
    "collapsed": false
   },
   "outputs": [],
   "source": [
    "import csv\n",
    "dfy2.to_csv('BloodDonationSubmissionFormat.csv', index=False)"
   ]
  },
  {
   "cell_type": "markdown",
   "metadata": {},
   "source": [
    "## Approach B: Feature Engineering and Transforming the Data\n"
   ]
  },
  {
   "cell_type": "code",
   "execution_count": 420,
   "metadata": {
    "collapsed": false
   },
   "outputs": [
    {
     "data": {
      "text/plain": [
       "id                  747\n",
       "time_since_last      74\n",
       "num_donations        50\n",
       "time_since_first     98\n",
       "donated               1\n",
       "dtype: int64"
      ]
     },
     "execution_count": 420,
     "metadata": {},
     "output_type": "execute_result"
    }
   ],
   "source": [
    "df.max()"
   ]
  },
  {
   "cell_type": "markdown",
   "metadata": {},
   "source": [
    "###  Step B1: Since there are item with values of 0, the log values will be NaN. One acceptable way to add an infinitessimal number to the zeros to the Training Dataset."
   ]
  },
  {
   "cell_type": "code",
   "execution_count": 421,
   "metadata": {
    "collapsed": false
   },
   "outputs": [
    {
     "data": {
      "text/html": [
       "<div>\n",
       "<table border=\"1\" class=\"dataframe\">\n",
       "  <thead>\n",
       "    <tr style=\"text-align: right;\">\n",
       "      <th></th>\n",
       "      <th>id</th>\n",
       "      <th>time_since_last</th>\n",
       "      <th>num_donations</th>\n",
       "      <th>time_since_first</th>\n",
       "      <th>donated</th>\n",
       "    </tr>\n",
       "  </thead>\n",
       "  <tbody>\n",
       "    <tr>\n",
       "      <th>0</th>\n",
       "      <td>619</td>\n",
       "      <td>2.0000</td>\n",
       "      <td>50</td>\n",
       "      <td>98</td>\n",
       "      <td>1</td>\n",
       "    </tr>\n",
       "    <tr>\n",
       "      <th>1</th>\n",
       "      <td>664</td>\n",
       "      <td>0.0001</td>\n",
       "      <td>13</td>\n",
       "      <td>28</td>\n",
       "      <td>1</td>\n",
       "    </tr>\n",
       "    <tr>\n",
       "      <th>2</th>\n",
       "      <td>441</td>\n",
       "      <td>1.0000</td>\n",
       "      <td>16</td>\n",
       "      <td>35</td>\n",
       "      <td>1</td>\n",
       "    </tr>\n",
       "    <tr>\n",
       "      <th>3</th>\n",
       "      <td>160</td>\n",
       "      <td>2.0000</td>\n",
       "      <td>20</td>\n",
       "      <td>45</td>\n",
       "      <td>1</td>\n",
       "    </tr>\n",
       "    <tr>\n",
       "      <th>4</th>\n",
       "      <td>358</td>\n",
       "      <td>1.0000</td>\n",
       "      <td>24</td>\n",
       "      <td>77</td>\n",
       "      <td>0</td>\n",
       "    </tr>\n",
       "  </tbody>\n",
       "</table>\n",
       "</div>"
      ],
      "text/plain": [
       "    id  time_since_last  num_donations  time_since_first  donated\n",
       "0  619           2.0000             50                98        1\n",
       "1  664           0.0001             13                28        1\n",
       "2  441           1.0000             16                35        1\n",
       "3  160           2.0000             20                45        1\n",
       "4  358           1.0000             24                77        0"
      ]
     },
     "execution_count": 421,
     "metadata": {},
     "output_type": "execute_result"
    }
   ],
   "source": [
    "from scipy import stats\n",
    "small = 0.0001\n",
    "df['time_since_last'].replace([0], [small],inplace=True)\n",
    "df['num_donations'].replace([0], [small],inplace=True)\n",
    "df['time_since_first'].replace([0], [small],inplace=True)\n",
    "#df['donated'].replace([0], [small],inplace=True)\n",
    "#df.replace([0], [small],inplace=True)\n",
    "df.head()"
   ]
  },
  {
   "cell_type": "markdown",
   "metadata": {},
   "source": [
    "### Step B2: add an infinitessimal number to the zeros to the Test Dataset."
   ]
  },
  {
   "cell_type": "code",
   "execution_count": 422,
   "metadata": {
    "collapsed": false
   },
   "outputs": [
    {
     "data": {
      "text/html": [
       "<div>\n",
       "<table border=\"1\" class=\"dataframe\">\n",
       "  <thead>\n",
       "    <tr style=\"text-align: right;\">\n",
       "      <th></th>\n",
       "      <th>id</th>\n",
       "      <th>time_since_last</th>\n",
       "      <th>num_donations</th>\n",
       "      <th>time_since_first</th>\n",
       "    </tr>\n",
       "  </thead>\n",
       "  <tbody>\n",
       "    <tr>\n",
       "      <th>0</th>\n",
       "      <td>659</td>\n",
       "      <td>2.0</td>\n",
       "      <td>12</td>\n",
       "      <td>52</td>\n",
       "    </tr>\n",
       "    <tr>\n",
       "      <th>1</th>\n",
       "      <td>276</td>\n",
       "      <td>21.0</td>\n",
       "      <td>7</td>\n",
       "      <td>38</td>\n",
       "    </tr>\n",
       "    <tr>\n",
       "      <th>2</th>\n",
       "      <td>263</td>\n",
       "      <td>4.0</td>\n",
       "      <td>1</td>\n",
       "      <td>4</td>\n",
       "    </tr>\n",
       "    <tr>\n",
       "      <th>3</th>\n",
       "      <td>303</td>\n",
       "      <td>11.0</td>\n",
       "      <td>11</td>\n",
       "      <td>38</td>\n",
       "    </tr>\n",
       "    <tr>\n",
       "      <th>4</th>\n",
       "      <td>83</td>\n",
       "      <td>4.0</td>\n",
       "      <td>12</td>\n",
       "      <td>34</td>\n",
       "    </tr>\n",
       "  </tbody>\n",
       "</table>\n",
       "</div>"
      ],
      "text/plain": [
       "    id  time_since_last  num_donations  time_since_first\n",
       "0  659              2.0             12                52\n",
       "1  276             21.0              7                38\n",
       "2  263              4.0              1                 4\n",
       "3  303             11.0             11                38\n",
       "4   83              4.0             12                34"
      ]
     },
     "execution_count": 422,
     "metadata": {},
     "output_type": "execute_result"
    }
   ],
   "source": [
    "# Add an infinitessimal number to the zeros to the Training Dataset\n",
    "df_test['time_since_last'].replace([0], [small],inplace=True)\n",
    "df_test['num_donations'].replace([0], [small],inplace=True)\n",
    "df_test['time_since_first'].replace([0], [small],inplace=True)\n",
    "#df_test['donated'].replace([0], [small],inplace=True)\n",
    "#df.replace([0], [small],inplace=True)\n",
    "df_test.head()"
   ]
  },
  {
   "cell_type": "markdown",
   "metadata": {},
   "source": [
    "### Step B3: BoxCox Transformation for \"Time Since Last Donation\" on the Training Dataset"
   ]
  },
  {
   "cell_type": "code",
   "execution_count": 423,
   "metadata": {
    "collapsed": false
   },
   "outputs": [
    {
     "data": {
      "text/plain": [
       "0.29660702156034996"
      ]
     },
     "execution_count": 423,
     "metadata": {},
     "output_type": "execute_result"
    }
   ],
   "source": [
    "samples = df.time_since_last\n",
    "df['BoxCoxTimeSinceLast'] = pd.DataFrame( data = samples, columns = ['Time Since Last']  )\n",
    "boxcox_samples = stats.boxcox(samples.values)[0]\n",
    "lambd = stats.boxcox(samples.values)[1]\n",
    "df['BoxCoxTimeSinceLast'] = boxcox_samples\n",
    "lambd"
   ]
  },
  {
   "cell_type": "markdown",
   "metadata": {},
   "source": [
    "### Step B4: BoxCox Transformation for \"Time Since Last Donation\" on the Test Dataset"
   ]
  },
  {
   "cell_type": "code",
   "execution_count": 424,
   "metadata": {
    "collapsed": false
   },
   "outputs": [
    {
     "data": {
      "text/plain": [
       "0.29660702156034996"
      ]
     },
     "execution_count": 424,
     "metadata": {},
     "output_type": "execute_result"
    }
   ],
   "source": [
    "samples = df_test.time_since_last\n",
    "df_test['BoxCoxTimeSinceLast'] = pd.DataFrame( data = samples, columns = ['Time Since Last']  )\n",
    "boxcox_samples = stats.boxcox(samples.values)[0]\n",
    "df_test['BoxCoxTimeSinceLast'] = boxcox_samples\n",
    "lambd"
   ]
  },
  {
   "cell_type": "markdown",
   "metadata": {},
   "source": [
    "### Step B5: BoxCox Transformation for \"Time Since First Donation\" on the TRAINING dataset"
   ]
  },
  {
   "cell_type": "code",
   "execution_count": 425,
   "metadata": {
    "collapsed": false
   },
   "outputs": [
    {
     "data": {
      "text/plain": [
       "0.43090171088426804"
      ]
     },
     "execution_count": 425,
     "metadata": {},
     "output_type": "execute_result"
    }
   ],
   "source": [
    "samples = df.time_since_first\n",
    "df['BoxCoxTimeSinceFirst'] = pd.DataFrame( data = samples, columns = ['Time Since First']  )\n",
    "boxcox_samples = stats.boxcox(samples.values)[0]\n",
    "lambd = stats.boxcox(samples.values)[1]\n",
    "df['BoxCoxTimeSinceFirst'] = boxcox_samples\n",
    "lambd"
   ]
  },
  {
   "cell_type": "markdown",
   "metadata": {},
   "source": [
    "### Step B6: BoxCox Transformation for \"Time Since First Donation\" on the TEST Dataset"
   ]
  },
  {
   "cell_type": "code",
   "execution_count": 426,
   "metadata": {
    "collapsed": false
   },
   "outputs": [
    {
     "data": {
      "text/plain": [
       "0.43090171088426804"
      ]
     },
     "execution_count": 426,
     "metadata": {},
     "output_type": "execute_result"
    }
   ],
   "source": [
    "samples = df_test.time_since_first\n",
    "df_test['BoxCoxTimeSinceFirst'] = pd.DataFrame( data = samples, columns = ['Time Since First']  )\n",
    "boxcox_samples = stats.boxcox(samples.values)[0]\n",
    "df_test['BoxCoxTimeSinceFirst'] = boxcox_samples\n",
    "lambd"
   ]
  },
  {
   "cell_type": "markdown",
   "metadata": {},
   "source": [
    "### Step B7: BoxCox Transformation for \"Number of Donations\" on the TRAINING dataset"
   ]
  },
  {
   "cell_type": "code",
   "execution_count": 427,
   "metadata": {
    "collapsed": false
   },
   "outputs": [
    {
     "data": {
      "text/plain": [
       "-0.055944168122910892"
      ]
     },
     "execution_count": 427,
     "metadata": {},
     "output_type": "execute_result"
    }
   ],
   "source": [
    "samples = df.num_donations\n",
    "df['BoxCoxNumDonations'] = pd.DataFrame( data = samples, columns = ['Number of Donations']  )\n",
    "boxcox_samples = stats.boxcox(samples.values)[0]\n",
    "lambd = stats.boxcox(samples.values)[1]\n",
    "df['BoxCoxNumDonations'] = boxcox_samples\n",
    "lambd"
   ]
  },
  {
   "cell_type": "markdown",
   "metadata": {},
   "source": [
    "### Step B8: BoxCox Transformation for \"Number of Donations\" on the TEST dataset"
   ]
  },
  {
   "cell_type": "code",
   "execution_count": 428,
   "metadata": {
    "collapsed": false
   },
   "outputs": [
    {
     "data": {
      "text/plain": [
       "-0.055944168122910892"
      ]
     },
     "execution_count": 428,
     "metadata": {},
     "output_type": "execute_result"
    }
   ],
   "source": [
    "samples = df_test.num_donations\n",
    "df_test['BoxCoxNumDonations'] = pd.DataFrame( data = samples, columns = ['Number of Donations']  )\n",
    "boxcox_samples = stats.boxcox(samples.values)[0]\n",
    "df_test['BoxCoxNumDonations'] = boxcox_samples\n",
    "lambd"
   ]
  },
  {
   "cell_type": "markdown",
   "metadata": {},
   "source": [
    "### Step B9: Seeking out the Maximum and Minimum values on the Training Dataset - Feature Engineering"
   ]
  },
  {
   "cell_type": "code",
   "execution_count": 429,
   "metadata": {
    "collapsed": false
   },
   "outputs": [
    {
     "data": {
      "text/html": [
       "<div>\n",
       "<table border=\"1\" class=\"dataframe\">\n",
       "  <thead>\n",
       "    <tr style=\"text-align: right;\">\n",
       "      <th></th>\n",
       "      <th>id</th>\n",
       "      <th>time_since_last</th>\n",
       "      <th>num_donations</th>\n",
       "      <th>time_since_first</th>\n",
       "      <th>donated</th>\n",
       "      <th>BoxCoxTimeSinceLast</th>\n",
       "      <th>BoxCoxTimeSinceFirst</th>\n",
       "      <th>BoxCoxNumDonations</th>\n",
       "    </tr>\n",
       "  </thead>\n",
       "  <tbody>\n",
       "    <tr>\n",
       "      <th>0</th>\n",
       "      <td>619</td>\n",
       "      <td>2.0000</td>\n",
       "      <td>50</td>\n",
       "      <td>98</td>\n",
       "      <td>1</td>\n",
       "      <td>0.769545</td>\n",
       "      <td>14.415009</td>\n",
       "      <td>3.513533</td>\n",
       "    </tr>\n",
       "    <tr>\n",
       "      <th>1</th>\n",
       "      <td>664</td>\n",
       "      <td>0.0001</td>\n",
       "      <td>13</td>\n",
       "      <td>28</td>\n",
       "      <td>1</td>\n",
       "      <td>-3.151987</td>\n",
       "      <td>7.433777</td>\n",
       "      <td>2.389417</td>\n",
       "    </tr>\n",
       "    <tr>\n",
       "      <th>2</th>\n",
       "      <td>441</td>\n",
       "      <td>1.0000</td>\n",
       "      <td>16</td>\n",
       "      <td>35</td>\n",
       "      <td>1</td>\n",
       "      <td>0.000000</td>\n",
       "      <td>8.418273</td>\n",
       "      <td>2.568260</td>\n",
       "    </tr>\n",
       "    <tr>\n",
       "      <th>3</th>\n",
       "      <td>160</td>\n",
       "      <td>2.0000</td>\n",
       "      <td>20</td>\n",
       "      <td>45</td>\n",
       "      <td>1</td>\n",
       "      <td>0.769545</td>\n",
       "      <td>9.646522</td>\n",
       "      <td>2.758155</td>\n",
       "    </tr>\n",
       "    <tr>\n",
       "      <th>4</th>\n",
       "      <td>358</td>\n",
       "      <td>1.0000</td>\n",
       "      <td>24</td>\n",
       "      <td>77</td>\n",
       "      <td>0</td>\n",
       "      <td>0.000000</td>\n",
       "      <td>12.763193</td>\n",
       "      <td>2.911560</td>\n",
       "    </tr>\n",
       "  </tbody>\n",
       "</table>\n",
       "</div>"
      ],
      "text/plain": [
       "    id  time_since_last  num_donations  time_since_first  donated  \\\n",
       "0  619           2.0000             50                98        1   \n",
       "1  664           0.0001             13                28        1   \n",
       "2  441           1.0000             16                35        1   \n",
       "3  160           2.0000             20                45        1   \n",
       "4  358           1.0000             24                77        0   \n",
       "\n",
       "   BoxCoxTimeSinceLast  BoxCoxTimeSinceFirst  BoxCoxNumDonations  \n",
       "0             0.769545             14.415009            3.513533  \n",
       "1            -3.151987              7.433777            2.389417  \n",
       "2             0.000000              8.418273            2.568260  \n",
       "3             0.769545              9.646522            2.758155  \n",
       "4             0.000000             12.763193            2.911560  "
      ]
     },
     "execution_count": 429,
     "metadata": {},
     "output_type": "execute_result"
    }
   ],
   "source": [
    "df.head()"
   ]
  },
  {
   "cell_type": "code",
   "execution_count": 430,
   "metadata": {
    "collapsed": false
   },
   "outputs": [
    {
     "data": {
      "text/html": [
       "<div>\n",
       "<table border=\"1\" class=\"dataframe\">\n",
       "  <thead>\n",
       "    <tr style=\"text-align: right;\">\n",
       "      <th></th>\n",
       "      <th>id</th>\n",
       "      <th>time_since_last</th>\n",
       "      <th>num_donations</th>\n",
       "      <th>time_since_first</th>\n",
       "      <th>BoxCoxTimeSinceLast</th>\n",
       "      <th>BoxCoxTimeSinceFirst</th>\n",
       "      <th>BoxCoxNumDonations</th>\n",
       "    </tr>\n",
       "  </thead>\n",
       "  <tbody>\n",
       "    <tr>\n",
       "      <th>0</th>\n",
       "      <td>659</td>\n",
       "      <td>2.0</td>\n",
       "      <td>12</td>\n",
       "      <td>52</td>\n",
       "      <td>0.768659</td>\n",
       "      <td>10.538364</td>\n",
       "      <td>2.237153</td>\n",
       "    </tr>\n",
       "    <tr>\n",
       "      <th>1</th>\n",
       "      <td>276</td>\n",
       "      <td>21.0</td>\n",
       "      <td>7</td>\n",
       "      <td>38</td>\n",
       "      <td>4.918432</td>\n",
       "      <td>8.899499</td>\n",
       "      <td>1.791687</td>\n",
       "    </tr>\n",
       "    <tr>\n",
       "      <th>2</th>\n",
       "      <td>263</td>\n",
       "      <td>4.0</td>\n",
       "      <td>1</td>\n",
       "      <td>4</td>\n",
       "      <td>1.710664</td>\n",
       "      <td>1.903480</td>\n",
       "      <td>0.000000</td>\n",
       "    </tr>\n",
       "    <tr>\n",
       "      <th>3</th>\n",
       "      <td>303</td>\n",
       "      <td>11.0</td>\n",
       "      <td>11</td>\n",
       "      <td>38</td>\n",
       "      <td>3.479509</td>\n",
       "      <td>8.899499</td>\n",
       "      <td>2.166632</td>\n",
       "    </tr>\n",
       "    <tr>\n",
       "      <th>4</th>\n",
       "      <td>83</td>\n",
       "      <td>4.0</td>\n",
       "      <td>12</td>\n",
       "      <td>34</td>\n",
       "      <td>1.710664</td>\n",
       "      <td>8.370065</td>\n",
       "      <td>2.237153</td>\n",
       "    </tr>\n",
       "  </tbody>\n",
       "</table>\n",
       "</div>"
      ],
      "text/plain": [
       "    id  time_since_last  num_donations  time_since_first  BoxCoxTimeSinceLast  \\\n",
       "0  659              2.0             12                52             0.768659   \n",
       "1  276             21.0              7                38             4.918432   \n",
       "2  263              4.0              1                 4             1.710664   \n",
       "3  303             11.0             11                38             3.479509   \n",
       "4   83              4.0             12                34             1.710664   \n",
       "\n",
       "   BoxCoxTimeSinceFirst  BoxCoxNumDonations  \n",
       "0             10.538364            2.237153  \n",
       "1              8.899499            1.791687  \n",
       "2              1.903480            0.000000  \n",
       "3              8.899499            2.166632  \n",
       "4              8.370065            2.237153  "
      ]
     },
     "execution_count": 430,
     "metadata": {},
     "output_type": "execute_result"
    }
   ],
   "source": [
    "df_test.head()"
   ]
  },
  {
   "cell_type": "code",
   "execution_count": 431,
   "metadata": {
    "collapsed": false
   },
   "outputs": [
    {
     "data": {
      "text/plain": [
       "id                      747.000000\n",
       "time_since_last          74.000000\n",
       "num_donations            50.000000\n",
       "time_since_first         98.000000\n",
       "donated                   1.000000\n",
       "BoxCoxTimeSinceLast       8.713513\n",
       "BoxCoxTimeSinceFirst     14.415009\n",
       "BoxCoxNumDonations        3.513533\n",
       "dtype: float64"
      ]
     },
     "execution_count": 431,
     "metadata": {},
     "output_type": "execute_result"
    }
   ],
   "source": [
    "df.max()"
   ]
  },
  {
   "cell_type": "code",
   "execution_count": 432,
   "metadata": {
    "collapsed": false
   },
   "outputs": [
    {
     "data": {
      "text/plain": [
       "id                      0.000000\n",
       "time_since_last         0.000100\n",
       "num_donations           1.000000\n",
       "time_since_first        2.000000\n",
       "donated                 0.000000\n",
       "BoxCoxTimeSinceLast    -3.151987\n",
       "BoxCoxTimeSinceFirst    0.807785\n",
       "BoxCoxNumDonations      0.000000\n",
       "dtype: float64"
      ]
     },
     "execution_count": 432,
     "metadata": {},
     "output_type": "execute_result"
    }
   ],
   "source": [
    "df.min()"
   ]
  },
  {
   "cell_type": "markdown",
   "metadata": {},
   "source": [
    "### Step B10: Seeking a connection between the Number of donations and the Likelihood of donating"
   ]
  },
  {
   "cell_type": "code",
   "execution_count": 433,
   "metadata": {
    "collapsed": false
   },
   "outputs": [
    {
     "name": "stdout",
     "output_type": "stream",
     "text": [
      "[0.23958333333333334, 0.3645320197044335, 0.38028169014084506, 0.4642857142857143, 0.5454545454545454, 0.6666666666666666, 0.6666666666666666, 0.6, 0.75, 1.0]\n",
      "[0.0, 0.27292576419213976, 0.5, 0.27292576419213976, 1.0, 0.2949061662198391, 1.5, 0.3515625, 2.0, 0.3627450980392157, 2.5, 0.45161290322580644, 3.0, 0.6666666666666666, 3.5, 1.0]\n"
     ]
    }
   ],
   "source": [
    "#Trying for some feature engineering\n",
    "#print(\"On the training Dataset, percentage of donors is %0.4f \" % (df[df.donated == 1.000].num_donations.shape[0]/df.num_donations.shape[0]))\n",
    "#print(\"On the test Dataset, percentage of donors is %0.4f \" % (df_test[df_test.donated == 1.000].num_donations.shape[0]/df_test.num_donations.shape[0]))\n",
    "df[(df.donated == 1.000) & (df.BoxCoxNumDonations > 2.0) ].num_donations.shape[0]/df[df.BoxCoxNumDonations > 2.0].num_donations.shape[0]\n",
    "df[(df.donated == 1.000) & (df.num_donations > 30.0) ].num_donations.shape[0]/df[df.num_donations > 30.0].num_donations.shape[0]\n",
    "\n",
    "percentage = []\n",
    "for k in range(0,50, 5):\n",
    "    chances = df[(df.donated == 1) & (df.num_donations > k) ].num_donations.shape[0]/df[df.num_donations > k].num_donations.shape[0]\n",
    "    percentage.append(chances)\n",
    "print (percentage)\n",
    "\n",
    "percentage = []\n",
    "for k1 in range(0,8,1):\n",
    "    \n",
    "    k = 0.5*k1\n",
    "    percentage.append(k)\n",
    "    chances = df[(df.donated == 1) & (df.BoxCoxNumDonations > k) ].BoxCoxNumDonations.shape[0]/df[df.BoxCoxNumDonations > k].BoxCoxNumDonations.shape[0]\n",
    "    percentage.append(chances)\n",
    "print (percentage)\n"
   ]
  },
  {
   "cell_type": "markdown",
   "metadata": {},
   "source": [
    "### There is a greater chance of a person donating as his/her donations go higher.  \n",
    "### The idea is to create new features based on the Number of Donations column and see if the precitions improve"
   ]
  },
  {
   "cell_type": "markdown",
   "metadata": {},
   "source": [
    "### Step B11: Convert the the Transformed Number of Donations to whole numbers and get Dummy columns"
   ]
  },
  {
   "cell_type": "code",
   "execution_count": 434,
   "metadata": {
    "collapsed": false
   },
   "outputs": [
    {
     "data": {
      "text/html": [
       "<div>\n",
       "<table border=\"1\" class=\"dataframe\">\n",
       "  <thead>\n",
       "    <tr style=\"text-align: right;\">\n",
       "      <th></th>\n",
       "      <th>BCND_0</th>\n",
       "      <th>BCND_1</th>\n",
       "      <th>BCND_2</th>\n",
       "      <th>BCND_3</th>\n",
       "      <th>BCND_4</th>\n",
       "    </tr>\n",
       "  </thead>\n",
       "  <tbody>\n",
       "    <tr>\n",
       "      <th>0</th>\n",
       "      <td>0.0</td>\n",
       "      <td>0.0</td>\n",
       "      <td>0.0</td>\n",
       "      <td>0.0</td>\n",
       "      <td>1.0</td>\n",
       "    </tr>\n",
       "    <tr>\n",
       "      <th>1</th>\n",
       "      <td>0.0</td>\n",
       "      <td>0.0</td>\n",
       "      <td>0.0</td>\n",
       "      <td>1.0</td>\n",
       "      <td>0.0</td>\n",
       "    </tr>\n",
       "    <tr>\n",
       "      <th>2</th>\n",
       "      <td>0.0</td>\n",
       "      <td>0.0</td>\n",
       "      <td>0.0</td>\n",
       "      <td>1.0</td>\n",
       "      <td>0.0</td>\n",
       "    </tr>\n",
       "    <tr>\n",
       "      <th>3</th>\n",
       "      <td>0.0</td>\n",
       "      <td>0.0</td>\n",
       "      <td>0.0</td>\n",
       "      <td>1.0</td>\n",
       "      <td>0.0</td>\n",
       "    </tr>\n",
       "    <tr>\n",
       "      <th>4</th>\n",
       "      <td>0.0</td>\n",
       "      <td>0.0</td>\n",
       "      <td>0.0</td>\n",
       "      <td>1.0</td>\n",
       "      <td>0.0</td>\n",
       "    </tr>\n",
       "  </tbody>\n",
       "</table>\n",
       "</div>"
      ],
      "text/plain": [
       "   BCND_0  BCND_1  BCND_2  BCND_3  BCND_4\n",
       "0     0.0     0.0     0.0     0.0     1.0\n",
       "1     0.0     0.0     0.0     1.0     0.0\n",
       "2     0.0     0.0     0.0     1.0     0.0\n",
       "3     0.0     0.0     0.0     1.0     0.0\n",
       "4     0.0     0.0     0.0     1.0     0.0"
      ]
     },
     "execution_count": 434,
     "metadata": {},
     "output_type": "execute_result"
    }
   ],
   "source": [
    "df['NDceil'] = np.ceil(df.BoxCoxNumDonations)\n",
    "df['NDceil'] = df['NDceil'].astype(int)\n",
    "dummy_ranks = pd.get_dummies(df['NDceil'], prefix='BCND')\n",
    "dummy_ranks.head()"
   ]
  },
  {
   "cell_type": "markdown",
   "metadata": {},
   "source": [
    "### Step B12: Create a new dataframe with only the required columns. Also, drop one of the dummy columns"
   ]
  },
  {
   "cell_type": "code",
   "execution_count": 435,
   "metadata": {
    "collapsed": false
   },
   "outputs": [
    {
     "name": "stdout",
     "output_type": "stream",
     "text": [
      "    id  BoxCoxTimeSinceLast  BoxCoxTimeSinceFirst  donated  BCND_1  BCND_2  \\\n",
      "0  619             0.769545             14.415009        1     0.0     0.0   \n",
      "1  664            -3.151987              7.433777        1     0.0     0.0   \n",
      "2  441             0.000000              8.418273        1     0.0     0.0   \n",
      "3  160             0.769545              9.646522        1     0.0     0.0   \n",
      "4  358             0.000000             12.763193        0     0.0     0.0   \n",
      "\n",
      "   BCND_3  BCND_4  \n",
      "0     0.0     1.0  \n",
      "1     1.0     0.0  \n",
      "2     1.0     0.0  \n",
      "3     1.0     0.0  \n",
      "4     1.0     0.0  \n"
     ]
    }
   ],
   "source": [
    "cols_to_keep = ['id', 'BoxCoxTimeSinceLast', 'BoxCoxTimeSinceFirst','donated']\n",
    "data = df[cols_to_keep].join(dummy_ranks.ix[:, 'BCND_1':])\n",
    "print (data.head())"
   ]
  },
  {
   "cell_type": "markdown",
   "metadata": {},
   "source": [
    "### Step B13: Split the training data into train and validation sets"
   ]
  },
  {
   "cell_type": "code",
   "execution_count": 436,
   "metadata": {
    "collapsed": false
   },
   "outputs": [],
   "source": [
    "X = data[ ['BoxCoxTimeSinceLast','BoxCoxTimeSinceFirst', 'BCND_1', 'BCND_2', 'BCND_3', 'BCND_4'] ].values\n",
    "y = data['donated'].values"
   ]
  },
  {
   "cell_type": "code",
   "execution_count": 437,
   "metadata": {
    "collapsed": false
   },
   "outputs": [
    {
     "name": "stdout",
     "output_type": "stream",
     "text": [
      "(460, 6)\n",
      "(116, 6)\n"
     ]
    }
   ],
   "source": [
    "seed = 8\n",
    "X_train, X_valid, y_train, y_valid = train_test_split(X, y, test_size=test_size, random_state=seed)\n",
    "\n",
    "print(X_train.shape)\n",
    "print(X_valid.shape)"
   ]
  },
  {
   "cell_type": "markdown",
   "metadata": {},
   "source": [
    "### Step B14: Obtaining the best accuracy score for the Validation Set using KNN"
   ]
  },
  {
   "cell_type": "code",
   "execution_count": 438,
   "metadata": {
    "collapsed": false
   },
   "outputs": [
    {
     "name": "stdout",
     "output_type": "stream",
     "text": [
      "best accuracy score 0.75\n",
      "2\n",
      "best accuracy score 0.758620689655\n",
      "8\n",
      "best accuracy score 0.76724137931\n",
      "11\n"
     ]
    }
   ],
   "source": [
    "acc = []\n",
    "best_score = 0\n",
    "best_lm = 2\n",
    "for k in range(2,20, 1):\n",
    "    clf = KNeighborsClassifier(k)\n",
    "    clf.fit(X_train, y_train)\n",
    "    y_hat = clf.predict(X_valid)\n",
    "    score = accuracy_score(y_valid, y_hat )\n",
    "    acc.append(score)\n",
    "    if score > best_score:\n",
    "        best_lm = k\n",
    "        best_score = score\n",
    "        print(\"best accuracy score %s\"% (score))\n",
    "        print(best_lm)\n",
    "    #print(\"k: %s accuracy: %0.4f missed %s\"% (k, score, np.count_nonzero(y_hat - y_test))   )"
   ]
  },
  {
   "cell_type": "markdown",
   "metadata": {},
   "source": [
    "### Step B15: Repeating the process for Test Dataset"
   ]
  },
  {
   "cell_type": "code",
   "execution_count": 439,
   "metadata": {
    "collapsed": false
   },
   "outputs": [
    {
     "data": {
      "text/html": [
       "<div>\n",
       "<table border=\"1\" class=\"dataframe\">\n",
       "  <thead>\n",
       "    <tr style=\"text-align: right;\">\n",
       "      <th></th>\n",
       "      <th>BCND_0</th>\n",
       "      <th>BCND_1</th>\n",
       "      <th>BCND_2</th>\n",
       "      <th>BCND_3</th>\n",
       "      <th>BCND_4</th>\n",
       "    </tr>\n",
       "  </thead>\n",
       "  <tbody>\n",
       "    <tr>\n",
       "      <th>0</th>\n",
       "      <td>0.0</td>\n",
       "      <td>0.0</td>\n",
       "      <td>0.0</td>\n",
       "      <td>1.0</td>\n",
       "      <td>0.0</td>\n",
       "    </tr>\n",
       "    <tr>\n",
       "      <th>1</th>\n",
       "      <td>0.0</td>\n",
       "      <td>0.0</td>\n",
       "      <td>1.0</td>\n",
       "      <td>0.0</td>\n",
       "      <td>0.0</td>\n",
       "    </tr>\n",
       "    <tr>\n",
       "      <th>2</th>\n",
       "      <td>1.0</td>\n",
       "      <td>0.0</td>\n",
       "      <td>0.0</td>\n",
       "      <td>0.0</td>\n",
       "      <td>0.0</td>\n",
       "    </tr>\n",
       "    <tr>\n",
       "      <th>3</th>\n",
       "      <td>0.0</td>\n",
       "      <td>0.0</td>\n",
       "      <td>0.0</td>\n",
       "      <td>1.0</td>\n",
       "      <td>0.0</td>\n",
       "    </tr>\n",
       "    <tr>\n",
       "      <th>4</th>\n",
       "      <td>0.0</td>\n",
       "      <td>0.0</td>\n",
       "      <td>0.0</td>\n",
       "      <td>1.0</td>\n",
       "      <td>0.0</td>\n",
       "    </tr>\n",
       "  </tbody>\n",
       "</table>\n",
       "</div>"
      ],
      "text/plain": [
       "   BCND_0  BCND_1  BCND_2  BCND_3  BCND_4\n",
       "0     0.0     0.0     0.0     1.0     0.0\n",
       "1     0.0     0.0     1.0     0.0     0.0\n",
       "2     1.0     0.0     0.0     0.0     0.0\n",
       "3     0.0     0.0     0.0     1.0     0.0\n",
       "4     0.0     0.0     0.0     1.0     0.0"
      ]
     },
     "execution_count": 439,
     "metadata": {},
     "output_type": "execute_result"
    }
   ],
   "source": [
    "df_test['NDceil'] = np.ceil(df_test.BoxCoxNumDonations)\n",
    "df_test['NDceil'] = df_test['NDceil'].astype(int)\n",
    "dummy_ranks = pd.get_dummies(df_test['NDceil'], prefix='BCND')\n",
    "dummy_ranks.head()"
   ]
  },
  {
   "cell_type": "code",
   "execution_count": 440,
   "metadata": {
    "collapsed": false
   },
   "outputs": [
    {
     "name": "stdout",
     "output_type": "stream",
     "text": [
      "    id  BoxCoxTimeSinceLast  BoxCoxTimeSinceFirst  BCND_1  BCND_2  BCND_3  \\\n",
      "0  659             0.768659             10.538364     0.0     0.0     1.0   \n",
      "1  276             4.918432              8.899499     0.0     1.0     0.0   \n",
      "2  263             1.710664              1.903480     0.0     0.0     0.0   \n",
      "3  303             3.479509              8.899499     0.0     0.0     1.0   \n",
      "4   83             1.710664              8.370065     0.0     0.0     1.0   \n",
      "\n",
      "   BCND_4  \n",
      "0     0.0  \n",
      "1     0.0  \n",
      "2     0.0  \n",
      "3     0.0  \n",
      "4     0.0  \n"
     ]
    }
   ],
   "source": [
    "cols_to_keep = ['id', 'BoxCoxTimeSinceLast', 'BoxCoxTimeSinceFirst']\n",
    "data_test = df_test[cols_to_keep].join(dummy_ranks.ix[:, 'BCND_1':])\n",
    "print (data_test.head())"
   ]
  },
  {
   "cell_type": "code",
   "execution_count": 441,
   "metadata": {
    "collapsed": false
   },
   "outputs": [
    {
     "name": "stdout",
     "output_type": "stream",
     "text": [
      "[0 0 0 0 1 1 0 0 0 0 0 0 0 0 0 0 0 0 0 1 1 1 1 0 1 0 0 0 0 0 0 0 0 0 0 0 1\n",
      " 0 1 0 0 0 0 0 0 0 0 0 0 0 0 0 0 0 0 0 0 1 1 0 0 0 0 0 0 0 0 0 0 0 0 0 0 0\n",
      " 0 0 0 0 0 1 0 0 0 0 0 0 0 0 0 0 0 0 0 0 0 0 0 0 0 0 0 0 0 0 0 1 0 1 0 0 0\n",
      " 0 0 1 0 0 0 1 0 0 0 1 0 0 0 0 0 0 0 0 1 0 0 0 0 0 0 0 0 0 0 0 0 0 0 0 0 0\n",
      " 0 0 0 0 0 0 0 0 0 0 0 0 0 0 0 0 0 0 0 0 0 1 0 0 0 0 0 0 1 0 0 0 0 0 1 0 0\n",
      " 0 0 0 0 0 0 0 0 0 0 0 0 0 0 0]\n"
     ]
    }
   ],
   "source": [
    "X_test = data_test[ ['BoxCoxTimeSinceLast','BoxCoxTimeSinceFirst', 'BCND_1', 'BCND_2', 'BCND_3', 'BCND_4'] ].values\n",
    "#From the validation data\n",
    "k = 11 \n",
    "clf = KNeighborsClassifier(k)\n",
    "clf.fit(X_train, y_train)\n",
    "y_hat= clf.predict(X_test)\n",
    "print(y_hat)"
   ]
  },
  {
   "cell_type": "code",
   "execution_count": 442,
   "metadata": {
    "collapsed": false
   },
   "outputs": [
    {
     "data": {
      "text/html": [
       "<div>\n",
       "<table border=\"1\" class=\"dataframe\">\n",
       "  <thead>\n",
       "    <tr style=\"text-align: right;\">\n",
       "      <th></th>\n",
       "      <th></th>\n",
       "      <th>donated</th>\n",
       "    </tr>\n",
       "  </thead>\n",
       "  <tbody>\n",
       "    <tr>\n",
       "      <th>0</th>\n",
       "      <td>659</td>\n",
       "      <td>0</td>\n",
       "    </tr>\n",
       "    <tr>\n",
       "      <th>1</th>\n",
       "      <td>276</td>\n",
       "      <td>0</td>\n",
       "    </tr>\n",
       "    <tr>\n",
       "      <th>2</th>\n",
       "      <td>263</td>\n",
       "      <td>0</td>\n",
       "    </tr>\n",
       "    <tr>\n",
       "      <th>3</th>\n",
       "      <td>303</td>\n",
       "      <td>0</td>\n",
       "    </tr>\n",
       "    <tr>\n",
       "      <th>4</th>\n",
       "      <td>83</td>\n",
       "      <td>1</td>\n",
       "    </tr>\n",
       "  </tbody>\n",
       "</table>\n",
       "</div>"
      ],
      "text/plain": [
       "        donated\n",
       "0  659        0\n",
       "1  276        0\n",
       "2  263        0\n",
       "3  303        0\n",
       "4   83        1"
      ]
     },
     "execution_count": 442,
     "metadata": {},
     "output_type": "execute_result"
    }
   ],
   "source": [
    "y3 = y_hat.reshape(-1,1)\n",
    "dfy3 = pd.DataFrame({'donated':y3[:,0],'': df_test['id']})\n",
    "dfy3.head()"
   ]
  },
  {
   "cell_type": "code",
   "execution_count": 443,
   "metadata": {
    "collapsed": true
   },
   "outputs": [],
   "source": [
    "import csv\n",
    "dfy3.to_csv('BloodDonationSubmissionFormat_FE_BC.csv', index=False)"
   ]
  },
  {
   "cell_type": "code",
   "execution_count": null,
   "metadata": {
    "collapsed": true
   },
   "outputs": [],
   "source": []
  },
  {
   "cell_type": "code",
   "execution_count": null,
   "metadata": {
    "collapsed": true
   },
   "outputs": [],
   "source": []
  }
 ],
 "metadata": {
  "kernelspec": {
   "display_name": "Python 3",
   "language": "python",
   "name": "python3"
  },
  "language_info": {
   "codemirror_mode": {
    "name": "ipython",
    "version": 3
   },
   "file_extension": ".py",
   "mimetype": "text/x-python",
   "name": "python",
   "nbconvert_exporter": "python",
   "pygments_lexer": "ipython3",
   "version": "3.5.1"
  }
 },
 "nbformat": 4,
 "nbformat_minor": 0
}
