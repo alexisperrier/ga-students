{
 "cells": [
  {
   "cell_type": "code",
   "execution_count": 34,
   "metadata": {
    "collapsed": true
   },
   "outputs": [],
   "source": [
    "import numpy as np\n",
    "import pandas as pd\n",
    "from sklearn import datasets, neighbors, metrics, linear_model\n",
    "from sklearn.linear_model import LogisticRegression\n",
    "from sklearn.grid_search import GridSearchCV\n",
    "from sklearn.cross_validation import train_test_split\n",
    "from sklearn.metrics import mean_squared_error\n",
    "import matplotlib.pyplot as plt\n",
    "import seaborn as sns\n",
    "import statsmodels.formula.api as smf\n",
    "\n",
    "%matplotlib inline"
   ]
  },
  {
   "cell_type": "code",
   "execution_count": 35,
   "metadata": {
    "collapsed": false
   },
   "outputs": [
    {
     "data": {
      "text/html": [
       "<div>\n",
       "<table border=\"1\" class=\"dataframe\">\n",
       "  <thead>\n",
       "    <tr style=\"text-align: right;\">\n",
       "      <th></th>\n",
       "      <th>Unnamed: 0</th>\n",
       "      <th>Months since Last Donation</th>\n",
       "      <th>Number of Donations</th>\n",
       "      <th>Total Volume Donated (c.c.)</th>\n",
       "      <th>Months since First Donation</th>\n",
       "      <th>Made Donation in March 2007</th>\n",
       "    </tr>\n",
       "  </thead>\n",
       "  <tbody>\n",
       "    <tr>\n",
       "      <th>0</th>\n",
       "      <td>619</td>\n",
       "      <td>2</td>\n",
       "      <td>50</td>\n",
       "      <td>12500</td>\n",
       "      <td>98</td>\n",
       "      <td>1</td>\n",
       "    </tr>\n",
       "    <tr>\n",
       "      <th>1</th>\n",
       "      <td>664</td>\n",
       "      <td>0</td>\n",
       "      <td>13</td>\n",
       "      <td>3250</td>\n",
       "      <td>28</td>\n",
       "      <td>1</td>\n",
       "    </tr>\n",
       "    <tr>\n",
       "      <th>2</th>\n",
       "      <td>441</td>\n",
       "      <td>1</td>\n",
       "      <td>16</td>\n",
       "      <td>4000</td>\n",
       "      <td>35</td>\n",
       "      <td>1</td>\n",
       "    </tr>\n",
       "    <tr>\n",
       "      <th>3</th>\n",
       "      <td>160</td>\n",
       "      <td>2</td>\n",
       "      <td>20</td>\n",
       "      <td>5000</td>\n",
       "      <td>45</td>\n",
       "      <td>1</td>\n",
       "    </tr>\n",
       "    <tr>\n",
       "      <th>4</th>\n",
       "      <td>358</td>\n",
       "      <td>1</td>\n",
       "      <td>24</td>\n",
       "      <td>6000</td>\n",
       "      <td>77</td>\n",
       "      <td>0</td>\n",
       "    </tr>\n",
       "  </tbody>\n",
       "</table>\n",
       "</div>"
      ],
      "text/plain": [
       "   Unnamed: 0  Months since Last Donation  Number of Donations  \\\n",
       "0         619                           2                   50   \n",
       "1         664                           0                   13   \n",
       "2         441                           1                   16   \n",
       "3         160                           2                   20   \n",
       "4         358                           1                   24   \n",
       "\n",
       "   Total Volume Donated (c.c.)  Months since First Donation  \\\n",
       "0                        12500                           98   \n",
       "1                         3250                           28   \n",
       "2                         4000                           35   \n",
       "3                         5000                           45   \n",
       "4                         6000                           77   \n",
       "\n",
       "   Made Donation in March 2007  \n",
       "0                            1  \n",
       "1                            1  \n",
       "2                            1  \n",
       "3                            1  \n",
       "4                            0  "
      ]
     },
     "execution_count": 35,
     "metadata": {},
     "output_type": "execute_result"
    }
   ],
   "source": [
    "df = pd.read_csv('../data/trainingData.csv')\n",
    "df.head()"
   ]
  },
  {
   "cell_type": "code",
   "execution_count": 36,
   "metadata": {
    "collapsed": false
   },
   "outputs": [],
   "source": [
    "x = df[ ['Months since Last Donation', 'Number of Donations', 'Months since First Donation', 'Total Volume Donated (c.c.)'] ].values\n",
    "\n",
    "# Target\n",
    "y = df['Made Donation in March 2007']\n",
    "\n",
    "seed = 8\n",
    "x_train, x_test, y_train, y_test = train_test_split(x, y, test_size=0.20, random_state=seed)"
   ]
  },
  {
   "cell_type": "markdown",
   "metadata": {},
   "source": [
    "<h3>Correlation Matrix</h3>"
   ]
  },
  {
   "cell_type": "code",
   "execution_count": 37,
   "metadata": {
    "collapsed": false
   },
   "outputs": [
    {
     "data": {
      "text/html": [
       "<div>\n",
       "<table border=\"1\" class=\"dataframe\">\n",
       "  <thead>\n",
       "    <tr style=\"text-align: right;\">\n",
       "      <th></th>\n",
       "      <th>Unnamed: 0</th>\n",
       "      <th>Months since Last Donation</th>\n",
       "      <th>Number of Donations</th>\n",
       "      <th>Total Volume Donated (c.c.)</th>\n",
       "      <th>Months since First Donation</th>\n",
       "      <th>Made Donation in March 2007</th>\n",
       "    </tr>\n",
       "  </thead>\n",
       "  <tbody>\n",
       "    <tr>\n",
       "      <th>Unnamed: 0</th>\n",
       "      <td>1.000000</td>\n",
       "      <td>-0.023217</td>\n",
       "      <td>0.063148</td>\n",
       "      <td>0.063148</td>\n",
       "      <td>0.098370</td>\n",
       "      <td>0.041925</td>\n",
       "    </tr>\n",
       "    <tr>\n",
       "      <th>Months since Last Donation</th>\n",
       "      <td>-0.023217</td>\n",
       "      <td>1.000000</td>\n",
       "      <td>-0.159731</td>\n",
       "      <td>-0.159731</td>\n",
       "      <td>0.186899</td>\n",
       "      <td>-0.261234</td>\n",
       "    </tr>\n",
       "    <tr>\n",
       "      <th>Number of Donations</th>\n",
       "      <td>0.063148</td>\n",
       "      <td>-0.159731</td>\n",
       "      <td>1.000000</td>\n",
       "      <td>1.000000</td>\n",
       "      <td>0.622116</td>\n",
       "      <td>0.220615</td>\n",
       "    </tr>\n",
       "    <tr>\n",
       "      <th>Total Volume Donated (c.c.)</th>\n",
       "      <td>0.063148</td>\n",
       "      <td>-0.159731</td>\n",
       "      <td>1.000000</td>\n",
       "      <td>1.000000</td>\n",
       "      <td>0.622116</td>\n",
       "      <td>0.220615</td>\n",
       "    </tr>\n",
       "    <tr>\n",
       "      <th>Months since First Donation</th>\n",
       "      <td>0.098370</td>\n",
       "      <td>0.186899</td>\n",
       "      <td>0.622116</td>\n",
       "      <td>0.622116</td>\n",
       "      <td>1.000000</td>\n",
       "      <td>-0.019819</td>\n",
       "    </tr>\n",
       "    <tr>\n",
       "      <th>Made Donation in March 2007</th>\n",
       "      <td>0.041925</td>\n",
       "      <td>-0.261234</td>\n",
       "      <td>0.220615</td>\n",
       "      <td>0.220615</td>\n",
       "      <td>-0.019819</td>\n",
       "      <td>1.000000</td>\n",
       "    </tr>\n",
       "  </tbody>\n",
       "</table>\n",
       "</div>"
      ],
      "text/plain": [
       "                             Unnamed: 0  Months since Last Donation  \\\n",
       "Unnamed: 0                     1.000000                   -0.023217   \n",
       "Months since Last Donation    -0.023217                    1.000000   \n",
       "Number of Donations            0.063148                   -0.159731   \n",
       "Total Volume Donated (c.c.)    0.063148                   -0.159731   \n",
       "Months since First Donation    0.098370                    0.186899   \n",
       "Made Donation in March 2007    0.041925                   -0.261234   \n",
       "\n",
       "                             Number of Donations  Total Volume Donated (c.c.)  \\\n",
       "Unnamed: 0                              0.063148                     0.063148   \n",
       "Months since Last Donation             -0.159731                    -0.159731   \n",
       "Number of Donations                     1.000000                     1.000000   \n",
       "Total Volume Donated (c.c.)             1.000000                     1.000000   \n",
       "Months since First Donation             0.622116                     0.622116   \n",
       "Made Donation in March 2007             0.220615                     0.220615   \n",
       "\n",
       "                             Months since First Donation  \\\n",
       "Unnamed: 0                                      0.098370   \n",
       "Months since Last Donation                      0.186899   \n",
       "Number of Donations                             0.622116   \n",
       "Total Volume Donated (c.c.)                     0.622116   \n",
       "Months since First Donation                     1.000000   \n",
       "Made Donation in March 2007                    -0.019819   \n",
       "\n",
       "                             Made Donation in March 2007  \n",
       "Unnamed: 0                                      0.041925  \n",
       "Months since Last Donation                     -0.261234  \n",
       "Number of Donations                             0.220615  \n",
       "Total Volume Donated (c.c.)                     0.220615  \n",
       "Months since First Donation                    -0.019819  \n",
       "Made Donation in March 2007                     1.000000  "
      ]
     },
     "execution_count": 37,
     "metadata": {},
     "output_type": "execute_result"
    }
   ],
   "source": [
    "corrMatrix = df.corr()\n",
    "corrMatrix"
   ]
  },
  {
   "cell_type": "code",
   "execution_count": 38,
   "metadata": {
    "collapsed": false
   },
   "outputs": [
    {
     "data": {
      "text/plain": [
       "<matplotlib.axes._subplots.AxesSubplot at 0x11762ee48>"
      ]
     },
     "execution_count": 38,
     "metadata": {},
     "output_type": "execute_result"
    },
    {
     "data": {
      "image/png": "[encoded data removed]",
      "text/plain": [
       "<matplotlib.figure.Figure at 0x11762e278>"
      ]
     },
     "metadata": {},
     "output_type": "display_data"
    }
   ],
   "source": [
    "# 3 subplots that share the y axis\n",
    "fig, axs = plt.subplots(1, 4, sharey=True, figsize=(20, 4))\n",
    "# axs is an array holding the different subplots\n",
    "\n",
    "df.plot(kind='scatter', x='Months since Last Donation', y='Made Donation in March 2007', ax=axs[0])\n",
    "df.plot(kind='scatter', x='Number of Donations', y='Made Donation in March 2007', ax=axs[1])\n",
    "df.plot(kind='scatter', x='Months since First Donation', y='Made Donation in March 2007', ax=axs[2])\n",
    "df.plot(kind='scatter', x='Total Volume Donated (c.c.)', y='Made Donation in March 2007', ax=axs[3])"
   ]
  },
  {
   "cell_type": "code",
   "execution_count": 39,
   "metadata": {
    "collapsed": false
   },
   "outputs": [
    {
     "data": {
      "text/html": [
       "<table class=\"simpletable\">\n",
       "<caption>OLS Regression Results</caption>\n",
       "<tr>\n",
       "  <th>Dep. Variable:</th>    <td>Made Donation in March 2007</td> <th>  R-squared:         </th> <td>   0.227</td>\n",
       "</tr>\n",
       "<tr>\n",
       "  <th>Model:</th>                        <td>OLS</td>             <th>  Adj. R-squared:    </th> <td>   0.223</td>\n",
       "</tr>\n",
       "<tr>\n",
       "  <th>Method:</th>                  <td>Least Squares</td>        <th>  F-statistic:       </th> <td>   56.11</td>\n",
       "</tr>\n",
       "<tr>\n",
       "  <th>Date:</th>                  <td>Thu, 21 Jul 2016</td>       <th>  Prob (F-statistic):</th> <td>8.23e-32</td>\n",
       "</tr>\n",
       "<tr>\n",
       "  <th>Time:</th>                      <td>20:26:47</td>           <th>  Log-Likelihood:    </th> <td> -331.62</td>\n",
       "</tr>\n",
       "<tr>\n",
       "  <th>No. Observations:</th>           <td>   576</td>            <th>  AIC:               </th> <td>   669.2</td>\n",
       "</tr>\n",
       "<tr>\n",
       "  <th>Df Residuals:</th>               <td>   573</td>            <th>  BIC:               </th> <td>   682.3</td>\n",
       "</tr>\n",
       "<tr>\n",
       "  <th>Df Model:</th>                   <td>     3</td>            <th>                     </th>     <td> </td>   \n",
       "</tr>\n",
       "<tr>\n",
       "  <th>Covariance Type:</th>           <td>nonrobust</td>          <th>                     </th>     <td> </td>   \n",
       "</tr>\n",
       "</table>\n",
       "<table class=\"simpletable\">\n",
       "<tr>\n",
       "   <td></td>     <th>coef</th>     <th>std err</th>      <th>t</th>      <th>P>|t|</th> <th>[95.0% Conf. Int.]</th> \n",
       "</tr>\n",
       "<tr>\n",
       "  <th>x1</th> <td>    0.0010</td> <td>    0.002</td> <td>    0.478</td> <td> 0.633</td> <td>   -0.003     0.005</td>\n",
       "</tr>\n",
       "<tr>\n",
       "  <th>x2</th> <td> 4.879e-07</td> <td> 6.69e-08</td> <td>    7.294</td> <td> 0.000</td> <td> 3.57e-07  6.19e-07</td>\n",
       "</tr>\n",
       "<tr>\n",
       "  <th>x3</th> <td>   -0.0004</td> <td>    0.001</td> <td>   -0.395</td> <td> 0.693</td> <td>   -0.002     0.002</td>\n",
       "</tr>\n",
       "<tr>\n",
       "  <th>x4</th> <td>    0.0001</td> <td> 1.67e-05</td> <td>    7.294</td> <td> 0.000</td> <td> 8.91e-05     0.000</td>\n",
       "</tr>\n",
       "</table>\n",
       "<table class=\"simpletable\">\n",
       "<tr>\n",
       "  <th>Omnibus:</th>       <td>67.201</td> <th>  Durbin-Watson:     </th> <td>   1.639</td>\n",
       "</tr>\n",
       "<tr>\n",
       "  <th>Prob(Omnibus):</th> <td> 0.000</td> <th>  Jarque-Bera (JB):  </th> <td>  90.134</td>\n",
       "</tr>\n",
       "<tr>\n",
       "  <th>Skew:</th>          <td> 0.969</td> <th>  Prob(JB):          </th> <td>2.68e-20</td>\n",
       "</tr>\n",
       "<tr>\n",
       "  <th>Kurtosis:</th>      <td> 2.948</td> <th>  Cond. No.          </th> <td>4.62e+17</td>\n",
       "</tr>\n",
       "</table>"
      ],
      "text/plain": [
       "<class 'statsmodels.iolib.summary.Summary'>\n",
       "\"\"\"\n",
       "                                 OLS Regression Results                                \n",
       "=======================================================================================\n",
       "Dep. Variable:     Made Donation in March 2007   R-squared:                       0.227\n",
       "Model:                                     OLS   Adj. R-squared:                  0.223\n",
       "Method:                          Least Squares   F-statistic:                     56.11\n",
       "Date:                         Thu, 21 Jul 2016   Prob (F-statistic):           8.23e-32\n",
       "Time:                                 20:26:47   Log-Likelihood:                -331.62\n",
       "No. Observations:                          576   AIC:                             669.2\n",
       "Df Residuals:                              573   BIC:                             682.3\n",
       "Df Model:                                    3                                         \n",
       "Covariance Type:                     nonrobust                                         \n",
       "==============================================================================\n",
       "                 coef    std err          t      P>|t|      [95.0% Conf. Int.]\n",
       "------------------------------------------------------------------------------\n",
       "x1             0.0010      0.002      0.478      0.633        -0.003     0.005\n",
       "x2          4.879e-07   6.69e-08      7.294      0.000      3.57e-07  6.19e-07\n",
       "x3            -0.0004      0.001     -0.395      0.693        -0.002     0.002\n",
       "x4             0.0001   1.67e-05      7.294      0.000      8.91e-05     0.000\n",
       "==============================================================================\n",
       "Omnibus:                       67.201   Durbin-Watson:                   1.639\n",
       "Prob(Omnibus):                  0.000   Jarque-Bera (JB):               90.134\n",
       "Skew:                           0.969   Prob(JB):                     2.68e-20\n",
       "Kurtosis:                       2.948   Cond. No.                     4.62e+17\n",
       "==============================================================================\n",
       "\n",
       "Warnings:\n",
       "[1] Standard Errors assume that the covariance matrix of the errors is correctly specified.\n",
       "[2] The smallest eigenvalue is 1.05e-26. This might indicate that there are\n",
       "strong multicollinearity problems or that the design matrix is singular.\n",
       "\"\"\""
      ]
     },
     "execution_count": 39,
     "metadata": {},
     "output_type": "execute_result"
    }
   ],
   "source": [
    "lm = smf.OLS(y, x).fit()\n",
    "lm.summary()"
   ]
  },
  {
   "cell_type": "markdown",
   "metadata": {},
   "source": [
    "<h3>Eigen Values</h3>\n",
    "\n",
    "<p>Values close to 0 indicate there is a correlation between variables. </n>\n",
    "Number of Donations is closely correlated to Total Volume Donated as the Eigen value is only .0812</p>"
   ]
  },
  {
   "cell_type": "code",
   "execution_count": 40,
   "metadata": {
    "collapsed": false
   },
   "outputs": [
    {
     "data": {
      "text/plain": [
       "array([  2.58136179e+00,   1.33031241e+00,   9.92967771e-01,\n",
       "         3.56843376e-01,   7.38514648e-01,   4.90918402e-16])"
      ]
     },
     "execution_count": 40,
     "metadata": {},
     "output_type": "execute_result"
    }
   ],
   "source": [
    "w, v = np.linalg.eig(corrMatrix)\n",
    "w"
   ]
  },
  {
   "cell_type": "code",
   "execution_count": 41,
   "metadata": {
    "collapsed": false
   },
   "outputs": [
    {
     "data": {
      "text/plain": [
       "array([-0.99237358, -0.02088229,  0.08126084,  0.08126084, -0.02552887,\n",
       "       -0.03000396])"
      ]
     },
     "execution_count": 41,
     "metadata": {},
     "output_type": "execute_result"
    }
   ],
   "source": [
    "v[:,2]"
   ]
  },
  {
   "cell_type": "code",
   "execution_count": 42,
   "metadata": {
    "collapsed": false
   },
   "outputs": [],
   "source": [
    "df = df.drop('Total Volume Donated (c.c.)', axis=1)"
   ]
  },
  {
   "cell_type": "code",
   "execution_count": 43,
   "metadata": {
    "collapsed": false
   },
   "outputs": [],
   "source": [
    "linearModel = linear_model.Ridge()\n",
    "linearModel.fit(x_train, y_train)\n",
    "y_hat = linearModel.predict(x_test)\n",
    "score = mean_squared_error(y_test, y_hat)"
   ]
  },
  {
   "cell_type": "code",
   "execution_count": 44,
   "metadata": {
    "collapsed": false
   },
   "outputs": [
    {
     "data": {
      "image/png": "[encoded data removed]",
      "text/plain": [
       "<matplotlib.figure.Figure at 0x1178b9908>"
      ]
     },
     "metadata": {},
     "output_type": "display_data"
    }
   ],
   "source": [
    "import pylab\n",
    "import scipy.stats as stats\n",
    "\n",
    "(a, r) = stats.probplot(y_test-y_hat, dist=\"norm\", plot=pylab)\n",
    "pylab.show()"
   ]
  },
  {
   "cell_type": "markdown",
   "metadata": {},
   "source": [
    "<h3>Model Analysis</h3>"
   ]
  },
  {
   "cell_type": "code",
   "execution_count": 45,
   "metadata": {
    "collapsed": false
   },
   "outputs": [
    {
     "name": "stdout",
     "output_type": "stream",
     "text": [
      "Score: 0.160965420357\n",
      "[ -7.74766377e-03   4.02361180e-07  -2.99973893e-03   1.00590123e-04]\n"
     ]
    }
   ],
   "source": [
    "print (\"Score: %s\" % score)\n",
    "print (linearModel.coef_)"
   ]
  },
  {
   "cell_type": "markdown",
   "metadata": {},
   "source": [
    "<h4>Null Hypothesis</h4>\n",
    "<p>The null hypothesis is that none of the x value fields have an impact on the likelihood of someone donating blood.</p>\n",
    "\n",
    "<h4>Alternative Hypothesis</h4>\n",
    "<p>The alternative hypothesis is that the x value does have an impact on the likelihood of someone donating blood.</p>\n",
    "\n",
    "<h4>Coefficients</h4>\n",
    "<p>The Months since Last Donation field has the largest weighting of the coefficients. The value is negatively correlated to the likelihood that someone will donate blood. In the correlation matrix it had an inverse but similar correlation weighting to Number of Donations and Total Volume Donated. However, there is some multicollinearity in these variables as Number of Donations is directly correlated with the Total Volume Donated.</p>\n",
    "\n",
    "<h4>Linear Model</h4>\n",
    "<p>It does not look like a linear model is a good fit for the predictor model of this data. Instead a binary classification model should be used.</p>"
   ]
  },
  {
   "cell_type": "markdown",
   "metadata": {},
   "source": [
    "<h3>Classification Model</h3>"
   ]
  },
  {
   "cell_type": "code",
   "execution_count": 62,
   "metadata": {
    "collapsed": false
   },
   "outputs": [
    {
     "name": "stdout",
     "output_type": "stream",
     "text": [
      "7\n"
     ]
    },
    {
     "data": {
      "text/plain": [
       "0.28448275862068967"
      ]
     },
     "execution_count": 62,
     "metadata": {},
     "output_type": "execute_result"
    }
   ],
   "source": [
    "modelDict = {}\n",
    "bestModel = 2\n",
    "for i in range(2, 20):\n",
    "    kNeighborsModel = neighbors.KNeighborsClassifier(i)\n",
    "    kNeighborsModel.fit(x_train, y_train)\n",
    "    y_hatNeighbors = kNeighborsModel.predict(x_test)\n",
    "    scoreKNeighbor = mean_squared_error(y_test, y_hatNeighbors)\n",
    "    tempDict = {}\n",
    "    tempDict['model'] = kNeighborsModel\n",
    "    tempDict['score'] = scoreKNeighbor\n",
    "    modelDict[i] = tempDict\n",
    "    if scoreKNeighbor > modelDict[bestModel]['score']: bestModel = i\n",
    "        \n",
    "print (bestModel)\n",
    "modelDict[bestModel]['score']"
   ]
  },
  {
   "cell_type": "markdown",
   "metadata": {},
   "source": [
    "<p>The classification model was able to score .25 about .09 better than the linear model</p>"
   ]
  },
  {
   "cell_type": "code",
   "execution_count": 47,
   "metadata": {
    "collapsed": false
   },
   "outputs": [
    {
     "data": {
      "image/png": "[encoded data removed]",
      "text/plain": [
       "<matplotlib.figure.Figure at 0x117c1cda0>"
      ]
     },
     "metadata": {},
     "output_type": "display_data"
    }
   ],
   "source": [
    "(a, r) = stats.probplot(y_test-y_hatNeighbors, dist=\"norm\", plot=pylab)\n",
    "pylab.show()"
   ]
  },
  {
   "cell_type": "markdown",
   "metadata": {},
   "source": [
    "<h3>Logistic Regression</h3>"
   ]
  },
  {
   "cell_type": "code",
   "execution_count": 48,
   "metadata": {
    "collapsed": false
   },
   "outputs": [
    {
     "name": "stderr",
     "output_type": "stream",
     "text": [
      "/Users/adeangelis2/anaconda/envs/gads/lib/python3.5/site-packages/sklearn/linear_model/sag.py:267: ConvergenceWarning: The max_iter was reached which means the coef_ did not converge\n",
      "  \"the coef_ did not converge\", ConvergenceWarning)\n",
      "/Users/adeangelis2/anaconda/envs/gads/lib/python3.5/site-packages/sklearn/linear_model/sag.py:267: ConvergenceWarning: The max_iter was reached which means the coef_ did not converge\n",
      "  \"the coef_ did not converge\", ConvergenceWarning)\n",
      "/Users/adeangelis2/anaconda/envs/gads/lib/python3.5/site-packages/sklearn/linear_model/sag.py:267: ConvergenceWarning: The max_iter was reached which means the coef_ did not converge\n",
      "  \"the coef_ did not converge\", ConvergenceWarning)\n",
      "/Users/adeangelis2/anaconda/envs/gads/lib/python3.5/site-packages/sklearn/linear_model/sag.py:267: ConvergenceWarning: The max_iter was reached which means the coef_ did not converge\n",
      "  \"the coef_ did not converge\", ConvergenceWarning)\n",
      "/Users/adeangelis2/anaconda/envs/gads/lib/python3.5/site-packages/sklearn/linear_model/sag.py:267: ConvergenceWarning: The max_iter was reached which means the coef_ did not converge\n",
      "  \"the coef_ did not converge\", ConvergenceWarning)\n",
      "/Users/adeangelis2/anaconda/envs/gads/lib/python3.5/site-packages/sklearn/linear_model/sag.py:267: ConvergenceWarning: The max_iter was reached which means the coef_ did not converge\n",
      "  \"the coef_ did not converge\", ConvergenceWarning)\n"
     ]
    }
   ],
   "source": [
    "lr = LogisticRegression()\n",
    "\n",
    "parameters = {'solver': ['newton-cg', 'lbfgs', 'liblinear', 'sag']}\n",
    "clf = GridSearchCV(lr, parameters, cv=5)\n",
    "\n",
    "clf.fit(x_train, y_train)\n",
    "best_clf = clf.best_estimator_\n",
    "y_hat_grid = best_clf.predict(x_test)"
   ]
  },
  {
   "cell_type": "code",
   "execution_count": 49,
   "metadata": {
    "collapsed": false
   },
   "outputs": [
    {
     "data": {
      "text/plain": [
       "0.25"
      ]
     },
     "execution_count": 49,
     "metadata": {},
     "output_type": "execute_result"
    }
   ],
   "source": [
    "scoreGridNeighbor = mean_squared_error(y_test, y_hat_grid)\n",
    "scoreGridNeighbor"
   ]
  },
  {
   "cell_type": "markdown",
   "metadata": {},
   "source": [
    "<p>The logistic regression performed no better than the classification model</p>"
   ]
  },
  {
   "cell_type": "code",
   "execution_count": null,
   "metadata": {
    "collapsed": true
   },
   "outputs": [],
   "source": []
  }
 ],
 "metadata": {
  "kernelspec": {
   "display_name": "Python 3",
   "language": "python",
   "name": "python3"
  }
 },
 "nbformat": 4,
 "nbformat_minor": 0
}
